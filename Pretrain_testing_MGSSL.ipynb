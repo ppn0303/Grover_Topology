{
 "cells": [
  {
   "cell_type": "code",
   "execution_count": 1,
   "id": "75d8017c-2eac-47f8-abc3-4b60b3138409",
   "metadata": {
    "tags": []
   },
   "outputs": [],
   "source": [
    "import random, os\n",
    "os.environ[\"CUDA_VISIBLE_DEVICES\"]=\"0\""
   ]
  },
  {
   "cell_type": "code",
   "execution_count": 2,
   "id": "b1eb50d5-ea38-4af5-bb3a-06c011c424b9",
   "metadata": {},
   "outputs": [
    {
     "name": "stdout",
     "output_type": "stream",
     "text": [
      "using Horovod for multi-GPU training\n"
     ]
    }
   ],
   "source": [
    "import numpy as np\n",
    "import torch\n",
    "from rdkit import RDLogger\n",
    "\n",
    "from grover.util.parsing import parse_args, get_newest_train_args\n",
    "from grover.util.utils import create_logger\n",
    "from task.cross_validate import cross_validate, randomsearch, gridsearch, make_confusion_matrix\n",
    "from task.fingerprint import generate_fingerprints\n",
    "from task.predict import make_predictions, write_prediction\n",
    "from task.pretrain import pretrain_model, subset_learning\n",
    "from grover.data.torchvocab import MolVocab\n",
    "\n",
    "from grover.topology.mol_tree import *\n",
    "from grover.topology.dfs import *\n",
    "\n",
    "#add for gridsearch\n",
    "from argparse import ArgumentParser, Namespace\n",
    "\n",
    "def setup(seed):\n",
    "    # frozen random seed\n",
    "    torch.manual_seed(seed)\n",
    "    torch.cuda.manual_seed_all(seed)\n",
    "    np.random.seed(seed)\n",
    "    random.seed(seed)\n",
    "    torch.backends.cudnn.deterministic = True"
   ]
  },
  {
   "cell_type": "code",
   "execution_count": 3,
   "id": "e186ca5d-89f5-4d85-8fba-ca5d91504dae",
   "metadata": {},
   "outputs": [],
   "source": [
    "# setup random seed\n",
    "setup(seed=42)\n",
    "# Avoid the pylint warning.\n",
    "a = MolVocab\n",
    "# supress rdkit logger\n",
    "lg = RDLogger.logger()\n",
    "lg.setLevel(RDLogger.CRITICAL)\n",
    "\n",
    "# Initialize MolVocab\n",
    "mol_vocab = MolVocab"
   ]
  },
  {
   "cell_type": "markdown",
   "id": "e92c3fa9-84eb-4244-8fbd-de917543bed3",
   "metadata": {},
   "source": [
    "# parse_args()"
   ]
  },
  {
   "cell_type": "code",
   "execution_count": 4,
   "id": "9167344b-0207-486b-ab29-48a65da6197b",
   "metadata": {},
   "outputs": [],
   "source": [
    "from grover.util.parsing import *"
   ]
  },
  {
   "cell_type": "code",
   "execution_count": 5,
   "id": "93648113-64d5-4fc7-933d-f769195d5237",
   "metadata": {},
   "outputs": [],
   "source": [
    "def parse_args() -> Namespace:\n",
    "    \"\"\"\n",
    "    Parses arguments for training and testing (includes modifying/validating arguments).\n",
    "\n",
    "    :return: A Namespace containing the parsed, modified, and validated args.\n",
    "    \"\"\"\n",
    "    parser = ArgumentParser()\n",
    "    subparser = parser.add_subparsers(title=\"subcommands\",\n",
    "                                      dest=\"parser_name\",\n",
    "                                      help=\"Subcommands for fintune, prediction, and fingerprint.\")\n",
    "    parser_pretrain = subparser.add_parser('pretrain', help=\"Pretrain with unlabelled SMILES.\")\n",
    "    add_pretrain_args(parser_pretrain)\n",
    "\n",
    "    args = parser.parse_args(['pretrain','--data_path','data/merge','--save_dir','model/merge_test','--atom_vocab_path','data/merge/merge_atom_vocab.pkl','--bond_vocab_path','data/merge/merge_bond_vocab.pkl',\n",
    "                              '--batch_size','100','--dropout','0.1','--depth','3','--num_attn_head','4','--hidden_size','1200','--epochs','20','--activation','PReLU','--backbone','gtrans','--embedding_output_type','both',\n",
    "                              '--save_interval','5','--init_lr', '0.0002', '--max_lr', '0.0004', '--final_lr', '0.0001', '--weight_decay', '0.0000001', \n",
    "                              '--topology','--motif_vocab_path','data/merge/clique.txt','--motif_hidden_size','1200','--motif_latent_size','56','--motif_order','dfs'])\n",
    "    \n",
    "    if args.parser_name == 'finetune' or args.parser_name == 'eval':\n",
    "        modify_train_args(args)\n",
    "    elif args.parser_name == \"pretrain\":\n",
    "        modify_pretrain_args(args)\n",
    "    elif args.parser_name == 'predict':\n",
    "        modify_predict_args(args)\n",
    "    elif args.parser_name == 'fingerprint':\n",
    "        modify_fingerprint_args(args)\n",
    "\n",
    "    return args"
   ]
  },
  {
   "cell_type": "code",
   "execution_count": 6,
   "id": "6bc4e88c-3c90-477b-8193-bcd359150850",
   "metadata": {},
   "outputs": [
    {
     "data": {
      "text/plain": [
       "Namespace(activation='PReLU', atom_vocab_path='data/merge/merge_atom_vocab.pkl', backbone='gtrans', batch_size=100, bias=False, bond_drop_rate=0, bond_vocab_path='data/merge/merge_bond_vocab.pkl', cuda=True, data_path='data/merge', dense=False, depth=3, dist_coff=0.1, dropout=0.1, each_epochs=5, embedding_output_type='both', enable_multi_gpu=False, epochs=20, fg_label_path=None, final_lr=0.0001, fine_tune_coff=1, hidden_size=1200, init_lr=0.0002, max_lr=0.0004, motif_hidden_size=1200, motif_latent_size=56, motif_order='dfs', motif_vocab_path='data/merge/clique.txt', no_cache=True, num_attn_head=4, num_mt_block=1, parser_name='pretrain', save_dir='model/merge_test', save_interval=5, subset_learning=False, topology=True, undirected=False, wandb=False, wandb_name='pretrain', warmup_epochs=2.0, weight_decay=1e-07)"
      ]
     },
     "execution_count": 6,
     "metadata": {},
     "output_type": "execute_result"
    }
   ],
   "source": [
    "args = parse_args()\n",
    "args"
   ]
  },
  {
   "cell_type": "code",
   "execution_count": 7,
   "id": "7eb8de60-4019-49e3-97c8-949366bfa87e",
   "metadata": {},
   "outputs": [],
   "source": [
    "logger = create_logger(name='pretrain', save_dir=args.save_dir)"
   ]
  },
  {
   "cell_type": "markdown",
   "id": "bec13da4-93ba-4aba-a03b-a46352cabcfb",
   "metadata": {},
   "source": [
    "# pretrain"
   ]
  },
  {
   "cell_type": "code",
   "execution_count": 8,
   "id": "4832e57f-d8ff-420c-970d-02d9d384a8e1",
   "metadata": {},
   "outputs": [],
   "source": [
    "import os\n",
    "import time\n",
    "from argparse import Namespace\n",
    "from logging import Logger\n",
    "\n",
    "import numpy as np\n",
    "\n",
    "import torch\n",
    "from torch.utils.data import DataLoader\n",
    "import wandb\n",
    "\n",
    "from grover.data.dist_sampler import DistributedSampler\n",
    "from grover.data.groverdataset import get_data, split_data, GroverCollator, BatchMolDataset, get_motif_data, split_data_motif, GroverMotifCollator, BatchMolDataset_motif\n",
    "from grover.data.torchvocab import MolVocab\n",
    "from grover.model.models import GROVEREmbedding\n",
    "from grover.util.multi_gpu_wrapper import MultiGpuWrapper as mgw\n",
    "from grover.util.nn_utils import param_count\n",
    "from grover.util.utils import build_optimizer, build_lr_scheduler\n",
    "from task.grovertrainer import GROVERTrainer, GROVERMotifTrainer\n",
    "\n",
    "from grover.topology.mol_tree import Motif_Vocab\n",
    "from grover.topology.motif_generation import Motif_Generation\n",
    "\n",
    "import os\n",
    "import time\n",
    "from logging import Logger\n",
    "from typing import List, Tuple\n",
    "from collections.abc import Callable\n",
    "import torch\n",
    "from torch.nn import Module\n",
    "from torch.utils.data import DataLoader\n",
    "\n",
    "from grover.model.models import GroverTask, GroverMotifTask\n",
    "from grover.util.multi_gpu_wrapper import MultiGpuWrapper as mgw\n",
    "from grover.util.utils import load_moltree\n",
    "\n",
    "#add for Topology predict\n",
    "from grover.topology.chemutils import group_node_rep\n"
   ]
  },
  {
   "cell_type": "code",
   "execution_count": 9,
   "id": "68e04c67-565d-47de-b59e-24bd91c04b43",
   "metadata": {},
   "outputs": [],
   "source": [
    "def pre_load_data(dataset: BatchMolDataset, rank: int, num_replicas: int, sample_per_file: int = None, epoch: int = 0):\n",
    "    \"\"\"\n",
    "    Pre-load data at the beginning of each epoch.\n",
    "    :param dataset: the training dataset.\n",
    "    :param rank: the rank of the current worker.\n",
    "    :param num_replicas: the replicas.\n",
    "    :param sample_per_file: the number of the data points in each file. When sample_per_file is None, all data will be\n",
    "    loaded. It implies the testing phase. (TODO: bad design here.)\n",
    "    :param epoch: the epoch number.\n",
    "    :return:\n",
    "    \"\"\"\n",
    "    mock_sampler = DistributedSampler(dataset, num_replicas=num_replicas, rank=rank, shuffle=False,\n",
    "                                      sample_per_file=sample_per_file)\n",
    "    mock_sampler.set_epoch(epoch)\n",
    "    pre_indices = mock_sampler.get_indices()\n",
    "    for i in pre_indices:\n",
    "        dataset.load_data(i)\n"
   ]
  },
  {
   "cell_type": "code",
   "execution_count": 10,
   "id": "90d1bedd-3d68-40d4-a37b-b9070dad3181",
   "metadata": {},
   "outputs": [
    {
     "name": "stderr",
     "output_type": "stream",
     "text": [
      "Namespace(activation='PReLU', atom_vocab_path='data/merge/merge_atom_vocab.pkl', backbone='gtrans', batch_size=100, bias=False, bond_drop_rate=0, bond_vocab_path='data/merge/merge_bond_vocab.pkl', cuda=True, data_path='data/merge', dense=False, depth=3, dist_coff=0.1, dropout=0.1, each_epochs=5, embedding_output_type='both', enable_multi_gpu=False, epochs=20, fg_label_path=None, final_lr=0.0001, fine_tune_coff=1, hidden_size=1200, init_lr=0.0002, max_lr=0.0004, motif_hidden_size=1200, motif_latent_size=56, motif_order='dfs', motif_vocab_path='data/merge/clique.txt', no_cache=True, num_attn_head=4, num_mt_block=1, parser_name='pretrain', save_dir='model/merge_test', save_interval=5, subset_learning=False, topology=True, undirected=False, wandb=False, wandb_name='pretrain', warmup_epochs=2.0, weight_decay=1e-07)\n",
      "Loading data\n",
      "Splitting data with seed 0.\n",
      "Total size = 20 | train size = 10 | val size = 10\n"
     ]
    },
    {
     "name": "stdout",
     "output_type": "stream",
     "text": [
      "data path is data/merge\n",
      "Loading data:\n",
      "Number of files: 3\n",
      "Number of samples: 20\n",
      "Samples/file: 10\n"
     ]
    },
    {
     "name": "stderr",
     "output_type": "stream",
     "text": [
      "atom vocab size: 1533, bond vocab size: 1988, Number of FG tasks: 85\n"
     ]
    }
   ],
   "source": [
    "if logger is not None:\n",
    "    debug, info = logger.debug, logger.info\n",
    "else:\n",
    "    debug = print\n",
    "\n",
    "# initialize the horovod library\n",
    "if args.enable_multi_gpu:\n",
    "    mgw.init()\n",
    "\n",
    "# binding training to GPUs.\n",
    "master_worker = (mgw.rank() == 0) if args.enable_multi_gpu else True\n",
    "# pin GPU to local rank. By default, we use gpu:0 for training.\n",
    "local_gpu_idx = mgw.local_rank() if args.enable_multi_gpu else 0\n",
    "with_cuda = args.cuda\n",
    "if with_cuda:\n",
    "    torch.cuda.set_device(local_gpu_idx)\n",
    "\n",
    "# get rank an  number of workers\n",
    "rank = mgw.rank() if args.enable_multi_gpu else 0\n",
    "num_replicas = mgw.size() if args.enable_multi_gpu else 1\n",
    "# print(\"Rank: %d Rep: %d\" % (rank, num_replicas))\n",
    "\n",
    "# load file paths of the data.\n",
    "if master_worker:\n",
    "    info(args)\n",
    "    if args.enable_multi_gpu:\n",
    "        debug(\"Total workers: %d\" % (mgw.size()))\n",
    "    debug('Loading data')\n",
    "    print(f'data path is {args.data_path}')\n",
    "data, sample_per_file = get_motif_data(data_path=args.data_path)\n",
    "\n",
    "# data splitting\n",
    "if master_worker:\n",
    "    debug(f'Splitting data with seed 0.')\n",
    "train_data, test_data, _ = split_data_motif(data=data, sizes=(0.5, 0.5, 0.0), seed=0, logger=logger)\n",
    "\n",
    "# Here the true train data size is the train_data divided by #GPUs\n",
    "if args.enable_multi_gpu:\n",
    "    args.train_data_size = len(train_data) // mgw.size()\n",
    "else:\n",
    "    args.train_data_size = len(train_data)\n",
    "if master_worker:\n",
    "    info(f'Total size = {len(data):,} | '\n",
    "          f'train size = {len(train_data):,} | val size = {len(test_data):,}')\n",
    "\n",
    "# load atom and bond vocabulary and the semantic motif labels.\n",
    "atom_vocab = MolVocab.load_vocab(args.atom_vocab_path)\n",
    "bond_vocab = MolVocab.load_vocab(args.bond_vocab_path)\n",
    "atom_vocab_size, bond_vocab_size = len(atom_vocab), len(bond_vocab)\n",
    "\n",
    "# Load motif vocabulary for pretrain\n",
    "device = torch.device('cuda' if torch.cuda.is_available() else 'cpu')\n",
    "motif_vocab = [x.strip(\"\\r\\n \") for x in open(args.motif_vocab_path)]\n",
    "motif_vocab = Motif_Vocab(motif_vocab)\n",
    "\n",
    "# Hard coding here, since we haven't load any data yet!\n",
    "fg_size = 85\n",
    "shared_dict = {}\n",
    "motif_collator = GroverMotifCollator(shared_dict=shared_dict, atom_vocab=atom_vocab, bond_vocab=bond_vocab, args=args)\n",
    "if master_worker:\n",
    "    debug(\"atom vocab size: %d, bond vocab size: %d, Number of FG tasks: %d\" % (atom_vocab_size,\n",
    "                                                                                bond_vocab_size, fg_size))\n",
    "\n",
    "# Define the distributed sampler. If using the single card, the sampler will be None.\n",
    "train_sampler = None\n",
    "test_sampler = None\n",
    "shuffle = True\n",
    "if args.enable_multi_gpu:\n",
    "    # If not shuffle, the performance may decayed.\n",
    "    train_sampler = DistributedSampler(\n",
    "        train_data, num_replicas=mgw.size(), rank=mgw.rank(), shuffle=True, sample_per_file=sample_per_file)\n",
    "    # Here sample_per_file in test_sampler is None, indicating the test sampler would not divide the test samples by\n",
    "    # rank. (TODO: bad design here.)\n",
    "    test_sampler = DistributedSampler(\n",
    "        test_data, num_replicas=mgw.size(), rank=mgw.rank(), shuffle=False)\n",
    "    train_sampler.set_epoch(args.epochs)\n",
    "    test_sampler.set_epoch(1)\n",
    "    # if we enables multi_gpu training. shuffle should be disabled.\n",
    "    shuffle = False"
   ]
  },
  {
   "cell_type": "markdown",
   "id": "cc6b50d5-4b2d-483f-9f73-de880d51b44a",
   "metadata": {},
   "source": [
    "model = GNN(5, 300, JK='last', drop_ratio=0.2, gnn_type='gin').to(device)"
   ]
  },
  {
   "cell_type": "code",
   "execution_count": 14,
   "id": "5a86c778-2476-4d39-a820-a41824307036",
   "metadata": {},
   "outputs": [],
   "source": [
    "import torch\n",
    "from torch_geometric.nn import MessagePassing\n",
    "from torch_geometric.utils import add_self_loops, degree, softmax\n",
    "from torch_geometric.nn import global_add_pool, global_mean_pool, global_max_pool, GlobalAttention, Set2Set\n",
    "import torch.nn.functional as F\n",
    "from torch_scatter import scatter_add\n",
    "from torch_geometric.nn.inits import glorot, zeros\n",
    "\n",
    "#이건 grover랑 다른데?\n",
    "num_atom_type = 120 #including the extra mask tokens\n",
    "num_chirality_tag = 3\n",
    "\n",
    "num_bond_type = 6 #including aromatic and self-loop edge, and extra masked tokens\n",
    "num_bond_direction = 3 "
   ]
  },
  {
   "cell_type": "code",
   "execution_count": 25,
   "id": "cc2f484a-56e4-47f3-986e-279495dc41d1",
   "metadata": {},
   "outputs": [
    {
     "data": {
      "text/plain": [
       "\u001b[0;31mSignature:\u001b[0m\n",
       "\u001b[0madd_self_loops\u001b[0m\u001b[0;34m(\u001b[0m\u001b[0;34m\u001b[0m\n",
       "\u001b[0;34m\u001b[0m    \u001b[0medge_index\u001b[0m\u001b[0;34m:\u001b[0m \u001b[0mtorch\u001b[0m\u001b[0;34m.\u001b[0m\u001b[0mTensor\u001b[0m\u001b[0;34m,\u001b[0m\u001b[0;34m\u001b[0m\n",
       "\u001b[0;34m\u001b[0m    \u001b[0medge_attr\u001b[0m\u001b[0;34m:\u001b[0m \u001b[0mUnion\u001b[0m\u001b[0;34m[\u001b[0m\u001b[0mtorch\u001b[0m\u001b[0;34m.\u001b[0m\u001b[0mTensor\u001b[0m\u001b[0;34m,\u001b[0m \u001b[0mNoneType\u001b[0m\u001b[0;34m]\u001b[0m \u001b[0;34m=\u001b[0m \u001b[0;32mNone\u001b[0m\u001b[0;34m,\u001b[0m\u001b[0;34m\u001b[0m\n",
       "\u001b[0;34m\u001b[0m    \u001b[0mfill_value\u001b[0m\u001b[0;34m:\u001b[0m \u001b[0mUnion\u001b[0m\u001b[0;34m[\u001b[0m\u001b[0mfloat\u001b[0m\u001b[0;34m,\u001b[0m \u001b[0mtorch\u001b[0m\u001b[0;34m.\u001b[0m\u001b[0mTensor\u001b[0m\u001b[0;34m,\u001b[0m \u001b[0mstr\u001b[0m\u001b[0;34m,\u001b[0m \u001b[0mNoneType\u001b[0m\u001b[0;34m]\u001b[0m \u001b[0;34m=\u001b[0m \u001b[0;32mNone\u001b[0m\u001b[0;34m,\u001b[0m\u001b[0;34m\u001b[0m\n",
       "\u001b[0;34m\u001b[0m    \u001b[0mnum_nodes\u001b[0m\u001b[0;34m:\u001b[0m \u001b[0mUnion\u001b[0m\u001b[0;34m[\u001b[0m\u001b[0mint\u001b[0m\u001b[0;34m,\u001b[0m \u001b[0mTuple\u001b[0m\u001b[0;34m[\u001b[0m\u001b[0mint\u001b[0m\u001b[0;34m,\u001b[0m \u001b[0mint\u001b[0m\u001b[0;34m]\u001b[0m\u001b[0;34m,\u001b[0m \u001b[0mNoneType\u001b[0m\u001b[0;34m]\u001b[0m \u001b[0;34m=\u001b[0m \u001b[0;32mNone\u001b[0m\u001b[0;34m,\u001b[0m\u001b[0;34m\u001b[0m\n",
       "\u001b[0;34m\u001b[0m\u001b[0;34m)\u001b[0m \u001b[0;34m->\u001b[0m \u001b[0mTuple\u001b[0m\u001b[0;34m[\u001b[0m\u001b[0mtorch\u001b[0m\u001b[0;34m.\u001b[0m\u001b[0mTensor\u001b[0m\u001b[0;34m,\u001b[0m \u001b[0mUnion\u001b[0m\u001b[0;34m[\u001b[0m\u001b[0mtorch\u001b[0m\u001b[0;34m.\u001b[0m\u001b[0mTensor\u001b[0m\u001b[0;34m,\u001b[0m \u001b[0mNoneType\u001b[0m\u001b[0;34m]\u001b[0m\u001b[0;34m]\u001b[0m\u001b[0;34m\u001b[0m\u001b[0;34m\u001b[0m\u001b[0m\n",
       "\u001b[0;31mDocstring:\u001b[0m\n",
       "Adds a self-loop :math:`(i,i) \\in \\mathcal{E}` to every node\n",
       ":math:`i \\in \\mathcal{V}` in the graph given by :attr:`edge_index`.\n",
       "In case the graph is weighted or has multi-dimensional edge features\n",
       "(:obj:`edge_attr != None`), edge features of self-loops will be added\n",
       "according to :obj:`fill_value`.\n",
       "\n",
       "Args:\n",
       "    edge_index (LongTensor): The edge indices.\n",
       "    edge_attr (Tensor, optional): Edge weights or multi-dimensional edge\n",
       "        features. (default: :obj:`None`)\n",
       "    fill_value (float or Tensor or str, optional): The way to generate\n",
       "        edge features of self-loops (in case :obj:`edge_attr != None`).\n",
       "        If given as :obj:`float` or :class:`torch.Tensor`, edge features of\n",
       "        self-loops will be directly given by :obj:`fill_value`.\n",
       "        If given as :obj:`str`, edge features of self-loops are computed by\n",
       "        aggregating all features of edges that point to the specific node,\n",
       "        according to a reduce operation. (:obj:`\"add\"`, :obj:`\"mean\"`,\n",
       "        :obj:`\"min\"`, :obj:`\"max\"`, :obj:`\"mul\"`). (default: :obj:`1.`)\n",
       "    num_nodes (int or Tuple[int, int], optional): The number of nodes,\n",
       "        *i.e.* :obj:`max_val + 1` of :attr:`edge_index`.\n",
       "        If given as a tuple, then :obj:`edge_index` is interpreted as a\n",
       "        bipartite graph with shape :obj:`(num_src_nodes, num_dst_nodes)`.\n",
       "        (default: :obj:`None`)\n",
       "\n",
       ":rtype: (:class:`LongTensor`, :class:`Tensor`)\n",
       "\n",
       "Examples:\n",
       "\n",
       "    >>> edge_index = torch.tensor([[0, 1, 0],\n",
       "    ...                            [1, 0, 0]])\n",
       "    >>> edge_weight = torch.tensor([0.5, 0.5, 0.5])\n",
       "    >>> add_self_loops(edge_index)\n",
       "    (tensor([[0, 1, 0, 0, 1],\n",
       "            [1, 0, 0, 0, 1]]),\n",
       "    None)\n",
       "\n",
       "    >>> add_self_loops(edge_index, edge_weight)\n",
       "    (tensor([[0, 1, 0, 0, 1],\n",
       "            [1, 0, 0, 0, 1]]),\n",
       "    tensor([0.5000, 0.5000, 0.5000, 1.0000, 1.0000]))\n",
       "\n",
       "    >>> # edge features of self-loops are filled by constant `2.0`\n",
       "    >>> add_self_loops(edge_index, edge_weight,\n",
       "    ...                fill_value=2.)\n",
       "    (tensor([[0, 1, 0, 0, 1],\n",
       "            [1, 0, 0, 0, 1]]),\n",
       "    tensor([0.5000, 0.5000, 0.5000, 2.0000, 2.0000]))\n",
       "\n",
       "    >>> # Use 'add' operation to merge edge features for self-loops\n",
       "    >>> add_self_loops(edge_index, edge_weight,\n",
       "    ...                fill_value='add')\n",
       "    (tensor([[0, 1, 0, 0, 1],\n",
       "            [1, 0, 0, 0, 1]]),\n",
       "    tensor([0.5000, 0.5000, 0.5000, 1.0000, 0.5000]))\n",
       "\u001b[0;31mFile:\u001b[0m      /opt/conda/lib/python3.7/site-packages/torch_geometric/utils/loop.py\n",
       "\u001b[0;31mType:\u001b[0m      function\n"
      ]
     },
     "metadata": {},
     "output_type": "display_data"
    }
   ],
   "source": [
    "add_self_loops?"
   ]
  },
  {
   "cell_type": "code",
   "execution_count": null,
   "id": "471793fe-d761-4cae-8d4f-7b8b9f37fcad",
   "metadata": {},
   "outputs": [],
   "source": [
    "class GINConv(MessagePassing):\n",
    "    \"\"\"\n",
    "    Extension of GIN aggregation to incorporate edge information by concatenation.\n",
    "\n",
    "    Args:\n",
    "        emb_dim (int): dimensionality of embeddings for nodes and edges.\n",
    "        embed_input (bool): whether to embed input or not. \n",
    "        \n",
    "\n",
    "    See https://arxiv.org/abs/1810.00826\n",
    "    \"\"\"\n",
    "    def __init__(self, emb_dim, aggr = \"add\"):\n",
    "        super(GINConv, self).__init__()\n",
    "        #multi-layer perceptron\n",
    "        self.mlp = torch.nn.Sequential(torch.nn.Linear(emb_dim, 2*emb_dim), torch.nn.ReLU(), torch.nn.Linear(2*emb_dim, emb_dim))\n",
    "        self.edge_embedding1 = torch.nn.Embedding(num_bond_type, emb_dim)\n",
    "        self.edge_embedding2 = torch.nn.Embedding(num_bond_direction, emb_dim)\n",
    "\n",
    "        torch.nn.init.xavier_uniform_(self.edge_embedding1.weight.data)\n",
    "        torch.nn.init.xavier_uniform_(self.edge_embedding2.weight.data)\n",
    "        self.aggr = aggr\n",
    "\n",
    "    def forward(self, x, edge_index, edge_attr):\n",
    "        #add self loops in the edge space\n",
    "        edge_index = add_self_loops(edge_index, num_nodes = x.size(0))\n",
    "\n",
    "        #add features corresponding to self-loop edges.\n",
    "        self_loop_attr = torch.zeros(x.size(0), 2)\n",
    "        self_loop_attr[:,0] = 4 #bond type for self-loop edge\n",
    "        self_loop_attr = self_loop_attr.to(edge_attr.device).to(edge_attr.dtype)\n",
    "        edge_attr = torch.cat((edge_attr, self_loop_attr), dim = 0)\n",
    "\n",
    "        edge_embeddings = self.edge_embedding1(edge_attr[:,0]) + self.edge_embedding2(edge_attr[:,1])\n",
    "\n",
    "        return self.propagate(edge_index[0], x=x, edge_attr=edge_embeddings)\n",
    "\n",
    "    def message(self, x_j, edge_attr):\n",
    "        return x_j + edge_attr\n",
    "\n",
    "    def update(self, aggr_out):\n",
    "        return self.mlp(aggr_out)"
   ]
  },
  {
   "cell_type": "code",
   "execution_count": 15,
   "id": "db9b0f9e-044d-4bcd-ad17-603978949d7d",
   "metadata": {},
   "outputs": [
    {
     "data": {
      "text/plain": [
       "[1, 2]"
      ]
     },
     "execution_count": 15,
     "metadata": {},
     "output_type": "execute_result"
    }
   ],
   "source": [
    "test = [1] + [2]\n",
    "test"
   ]
  },
  {
   "cell_type": "code",
   "execution_count": 24,
   "id": "8f81fe8b-ecdf-4657-9962-4cd30f7e93e8",
   "metadata": {},
   "outputs": [
    {
     "data": {
      "text/plain": [
       "tensor([-1.1506, -0.3253,  0.0729,  1.1212,  0.5103,  2.0589,  2.2528,  1.1751,\n",
       "        -0.7290,  0.4813], grad_fn=<AddBackward0>)"
      ]
     },
     "execution_count": 24,
     "metadata": {},
     "output_type": "execute_result"
    }
   ],
   "source": [
    "emb(torch.tensor(1))+emb(torch.tensor(2))"
   ]
  },
  {
   "cell_type": "code",
   "execution_count": 13,
   "id": "f0849f7d-2fe4-4146-aaa6-4e501b36f403",
   "metadata": {},
   "outputs": [],
   "source": [
    "class GNN_Grover(torch.nn.Module):\n",
    "    \"\"\"\n",
    "    \n",
    "\n",
    "    Args:\n",
    "        num_layer (int): the number of GNN layers\n",
    "        emb_dim (int): dimensionality of embeddings\n",
    "        JK (str): last, concat, max or sum.\n",
    "        max_pool_layer (int): the layer from which we use max pool rather than add pool for neighbor aggregation\n",
    "        drop_ratio (float): dropout rate\n",
    "        gnn_type: gin, gcn, graphsage, gat\n",
    "\n",
    "    Output:\n",
    "        node representations\n",
    "\n",
    "    \"\"\"\n",
    "    def __init__(self, num_layer, emb_dim, JK = \"last\", drop_ratio = 0, gnn_type = \"gin\"):\n",
    "        super(GNN, self).__init__()\n",
    "        self.num_layer = num_layer\n",
    "        self.drop_ratio = drop_ratio\n",
    "        self.JK = JK\n",
    "\n",
    "        if self.num_layer < 2:\n",
    "            raise ValueError(\"Number of GNN layers must be greater than 1.\")\n",
    "        \"\"\"\n",
    "        # nn.Embedding은 좌측의 수만큼의 카테고리를 우측의 임베딩 공간으로 임베딩하는거다.\n",
    "        # 그러나 grover의 경우엔 원핫 인코더등을 적용한 복잡한 구조이다.\n",
    "        #self.x_embedding1 = torch.nn.Embedding(num_atom_type, emb_dim)\n",
    "        #self.x_embedding2 = torch.nn.Embedding(num_chirality_tag, emb_dim)\n",
    "        \"\"\"\n",
    "        \n",
    "        self.embedding = nn.Linear(165, emb_dim, bias=bias)\n",
    "\n",
    "        torch.nn.init.xavier_uniform_(self.x_embedding1.weight.data)\n",
    "        torch.nn.init.xavier_uniform_(self.x_embedding2.weight.data)\n",
    "\n",
    "        ###List of MLPs\n",
    "        self.gnns = torch.nn.ModuleList()\n",
    "        for layer in range(num_layer):\n",
    "            if gnn_type == \"gin\":\n",
    "                self.gnns.append(GINConv(emb_dim, aggr = \"add\"))\n",
    "            elif gnn_type == \"gcn\":\n",
    "                self.gnns.append(GCNConv(emb_dim))\n",
    "            elif gnn_type == \"gat\":\n",
    "                self.gnns.append(GATConv(emb_dim))\n",
    "            elif gnn_type == \"graphsage\":\n",
    "                self.gnns.append(GraphSAGEConv(emb_dim))\n",
    "\n",
    "        ###List of batchnorms\n",
    "        self.batch_norms = torch.nn.ModuleList()\n",
    "        for layer in range(num_layer):\n",
    "            self.batch_norms.append(torch.nn.BatchNorm1d(emb_dim))\n",
    "\n",
    "    #def forward(self, x, edge_index, edge_attr):\n",
    "    def forward(self, *argv):\n",
    "        \"\"\"\n",
    "        기존 코드\n",
    "        if len(argv) == 3:\n",
    "            # 이게 MGSSL의 기본 input인데, 흠,,,\n",
    "            x, edge_index, edge_attr = argv[0], argv[1], argv[2]\n",
    "        elif len(argv) == 1:\n",
    "            data = argv[0]\n",
    "            x, edge_index, edge_attr = data.x, data.edge_index, data.edge_attr\n",
    "        else:\n",
    "            raise ValueError(\"unmatched number of arguments.\")\n",
    "        \"\"\"\n",
    "        \n",
    "        node_attr, edge_attr = argv\n",
    "        \n",
    "        # x shape : (num_batch, emb_dim)\n",
    "        x = self.x_embedding1(x[:,0]) + self.x_embedding2(x[:,1])\n",
    "\n",
    "        h_list = [x]\n",
    "        for layer in range(self.num_layer):\n",
    "            h = self.gnns[layer](h_list[layer], edge_index, edge_attr)\n",
    "            h = self.batch_norms[layer](h)\n",
    "            #h = F.dropout(F.relu(h), self.drop_ratio, training = self.training)\n",
    "            if layer == self.num_layer - 1:\n",
    "                #remove relu for the last layer\n",
    "                h = F.dropout(h, self.drop_ratio, training = self.training)\n",
    "            else:\n",
    "                h = F.dropout(F.relu(h), self.drop_ratio, training = self.training)\n",
    "            h_list.append(h)\n",
    "\n",
    "        ### Different implementations of Jk-concat   #레이어간 노드 기능들을 어떻게 할건지, 기본은 Last다\n",
    "        if self.JK == \"concat\":\n",
    "            node_representation = torch.cat(h_list, dim = 1)\n",
    "        elif self.JK == \"last\":\n",
    "            node_representation = h_list[-1]\n",
    "        elif self.JK == \"max\":\n",
    "            h_list = [h.unsqueeze_(0) for h in h_list]\n",
    "            node_representation = torch.max(torch.cat(h_list, dim = 0), dim = 0)[0]\n",
    "        elif self.JK == \"sum\":\n",
    "            h_list = [h.unsqueeze_(0) for h in h_list]\n",
    "            node_representation = torch.sum(torch.cat(h_list, dim = 0), dim = 0)[0]\n",
    "\n",
    "        return node_representation"
   ]
  },
  {
   "cell_type": "code",
   "execution_count": 12,
   "id": "8bdac8fe-fa7d-4779-bd2b-7775050f6ada",
   "metadata": {},
   "outputs": [
    {
     "name": "stderr",
     "output_type": "stream",
     "text": [
      "Pre-loaded test data: 1\n"
     ]
    },
    {
     "name": "stdout",
     "output_type": "stream",
     "text": [
      "No checkpoint found %d\n"
     ]
    },
    {
     "name": "stderr",
     "output_type": "stream",
     "text": [
      "/root/grover/grover/util/scheduler.py:69: RuntimeWarning: divide by zero encountered in true_divide\n",
      "  self.linear_increment = (self.max_lr - self.init_lr) / self.warmup_steps\n",
      "/root/grover/grover/util/scheduler.py:71: RuntimeWarning: divide by zero encountered in true_divide\n",
      "  self.exponential_gamma = (self.final_lr / self.max_lr) ** (1 / (self.total_steps - self.warmup_steps))\n"
     ]
    }
   ],
   "source": [
    "# Pre load data. (Maybe unnecessary. )\n",
    "pre_load_data(train_data, rank, num_replicas, sample_per_file)\n",
    "pre_load_data(test_data, rank, num_replicas)\n",
    "if master_worker:\n",
    "    # print(\"Pre-loaded training data: %d\" % train_data.count_loaded_datapoints())\n",
    "    info(\"Pre-loaded test data: %d\" % test_data.count_loaded_datapoints())\n",
    "\n",
    "# Build dataloader\n",
    "train_data_dl = DataLoader(train_data,\n",
    "                           batch_size=2,\n",
    "                           shuffle=shuffle,\n",
    "                           num_workers=0,\n",
    "                           sampler=train_sampler,\n",
    "                           collate_fn=motif_collator)\n",
    "test_data_dl = DataLoader(test_data,\n",
    "                          batch_size=2,\n",
    "                          shuffle=shuffle,\n",
    "                          num_workers=0,\n",
    "                          sampler=test_sampler,\n",
    "                          collate_fn=motif_collator)\n",
    "\n",
    "# Build the embedding model.\n",
    "grover_model = GROVEREmbedding(args)\n",
    "\n",
    "# build the topology predict model.\n",
    "motif_model = Motif_Generation(motif_vocab, args.motif_hidden_size, args.motif_latent_size, 3, device, args.motif_order)\n",
    "\n",
    "#  Build the trainer.\n",
    "trainer = GROVERMotifTrainer(args=args,\n",
    "                        embedding_model=grover_model,\n",
    "                        topology_model=motif_model,\n",
    "                        atom_vocab_size=atom_vocab_size,\n",
    "                        bond_vocab_size=bond_vocab_size,\n",
    "                        fg_size=fg_size,\n",
    "                        train_dataloader=train_data_dl,\n",
    "                        test_dataloader=test_data_dl,\n",
    "                        optimizer_builder=build_optimizer,\n",
    "                        scheduler_builder=build_lr_scheduler,\n",
    "                        logger=logger,\n",
    "                        with_cuda=with_cuda,\n",
    "                        enable_multi_gpu=args.enable_multi_gpu)\n",
    "\n",
    "# Restore the interrupted training.\n",
    "model_dir = os.path.join(args.save_dir, \"model\")\n",
    "resume_from_epoch = 0\n",
    "resume_scheduler_step = 0\n",
    "if master_worker:\n",
    "    resume_from_epoch, resume_scheduler_step = trainer.restore(model_dir)\n",
    "if args.enable_multi_gpu:\n",
    "    resume_from_epoch = mgw.broadcast(torch.tensor(resume_from_epoch), root_rank=0, name=\"resume_from_epoch\").item()\n",
    "    resume_scheduler_step = mgw.broadcast(torch.tensor(resume_scheduler_step),\n",
    "                                          root_rank=0, name=\"resume_scheduler_step\").item()\n",
    "    trainer.scheduler.current_step = resume_scheduler_step\n",
    "    info(\"Restored epoch: %d Restored scheduler step: %d\" % (resume_from_epoch, trainer.scheduler.current_step))\n",
    "\n",
    "trainer.broadcast_parameters()"
   ]
  },
  {
   "cell_type": "code",
   "execution_count": 13,
   "id": "7548d9c5-999e-4636-95ec-cb368f1b2788",
   "metadata": {
    "tags": []
   },
   "outputs": [
    {
     "data": {
      "text/plain": [
       "GroverMotifTask(\n",
       "  (grover): GROVEREmbedding(\n",
       "    (encoders): GTransEncoder(\n",
       "      (edge_blocks): ModuleList(\n",
       "        (0): MTBlock(\n",
       "          (heads): ModuleList(\n",
       "            (0): Head(\n",
       "              (mpn_q): MPNEncoder(\n",
       "                (dropout_layer): Dropout(p=0.1, inplace=False)\n",
       "                (act_func): PReLU(num_parameters=1)\n",
       "                (W_h): Linear(in_features=1200, out_features=1200, bias=False)\n",
       "              )\n",
       "              (mpn_k): MPNEncoder(\n",
       "                (dropout_layer): Dropout(p=0.1, inplace=False)\n",
       "                (act_func): PReLU(num_parameters=1)\n",
       "                (W_h): Linear(in_features=1200, out_features=1200, bias=False)\n",
       "              )\n",
       "              (mpn_v): MPNEncoder(\n",
       "                (dropout_layer): Dropout(p=0.1, inplace=False)\n",
       "                (act_func): PReLU(num_parameters=1)\n",
       "                (W_h): Linear(in_features=1200, out_features=1200, bias=False)\n",
       "              )\n",
       "            )\n",
       "            (1): Head(\n",
       "              (mpn_q): MPNEncoder(\n",
       "                (dropout_layer): Dropout(p=0.1, inplace=False)\n",
       "                (act_func): PReLU(num_parameters=1)\n",
       "                (W_h): Linear(in_features=1200, out_features=1200, bias=False)\n",
       "              )\n",
       "              (mpn_k): MPNEncoder(\n",
       "                (dropout_layer): Dropout(p=0.1, inplace=False)\n",
       "                (act_func): PReLU(num_parameters=1)\n",
       "                (W_h): Linear(in_features=1200, out_features=1200, bias=False)\n",
       "              )\n",
       "              (mpn_v): MPNEncoder(\n",
       "                (dropout_layer): Dropout(p=0.1, inplace=False)\n",
       "                (act_func): PReLU(num_parameters=1)\n",
       "                (W_h): Linear(in_features=1200, out_features=1200, bias=False)\n",
       "              )\n",
       "            )\n",
       "            (2): Head(\n",
       "              (mpn_q): MPNEncoder(\n",
       "                (dropout_layer): Dropout(p=0.1, inplace=False)\n",
       "                (act_func): PReLU(num_parameters=1)\n",
       "                (W_h): Linear(in_features=1200, out_features=1200, bias=False)\n",
       "              )\n",
       "              (mpn_k): MPNEncoder(\n",
       "                (dropout_layer): Dropout(p=0.1, inplace=False)\n",
       "                (act_func): PReLU(num_parameters=1)\n",
       "                (W_h): Linear(in_features=1200, out_features=1200, bias=False)\n",
       "              )\n",
       "              (mpn_v): MPNEncoder(\n",
       "                (dropout_layer): Dropout(p=0.1, inplace=False)\n",
       "                (act_func): PReLU(num_parameters=1)\n",
       "                (W_h): Linear(in_features=1200, out_features=1200, bias=False)\n",
       "              )\n",
       "            )\n",
       "            (3): Head(\n",
       "              (mpn_q): MPNEncoder(\n",
       "                (dropout_layer): Dropout(p=0.1, inplace=False)\n",
       "                (act_func): PReLU(num_parameters=1)\n",
       "                (W_h): Linear(in_features=1200, out_features=1200, bias=False)\n",
       "              )\n",
       "              (mpn_k): MPNEncoder(\n",
       "                (dropout_layer): Dropout(p=0.1, inplace=False)\n",
       "                (act_func): PReLU(num_parameters=1)\n",
       "                (W_h): Linear(in_features=1200, out_features=1200, bias=False)\n",
       "              )\n",
       "              (mpn_v): MPNEncoder(\n",
       "                (dropout_layer): Dropout(p=0.1, inplace=False)\n",
       "                (act_func): PReLU(num_parameters=1)\n",
       "                (W_h): Linear(in_features=1200, out_features=1200, bias=False)\n",
       "              )\n",
       "            )\n",
       "          )\n",
       "          (act_func): PReLU(num_parameters=1)\n",
       "          (dropout_layer): Dropout(p=0.1, inplace=False)\n",
       "          (layernorm): LayerNorm((1200,), eps=1e-05, elementwise_affine=True)\n",
       "          (W_i): Linear(in_features=165, out_features=1200, bias=False)\n",
       "          (attn): MultiHeadedAttention(\n",
       "            (linear_layers): ModuleList(\n",
       "              (0): Linear(in_features=1200, out_features=1200, bias=True)\n",
       "              (1): Linear(in_features=1200, out_features=1200, bias=True)\n",
       "              (2): Linear(in_features=1200, out_features=1200, bias=True)\n",
       "            )\n",
       "            (output_linear): Linear(in_features=1200, out_features=1200, bias=False)\n",
       "            (attention): Attention()\n",
       "            (dropout): Dropout(p=0.1, inplace=False)\n",
       "          )\n",
       "          (W_o): Linear(in_features=4800, out_features=1200, bias=False)\n",
       "          (sublayer): SublayerConnection(\n",
       "            (norm): LayerNorm((1200,), eps=1e-05, elementwise_affine=True)\n",
       "            (dropout): Dropout(p=0.1, inplace=False)\n",
       "          )\n",
       "        )\n",
       "      )\n",
       "      (node_blocks): ModuleList(\n",
       "        (0): MTBlock(\n",
       "          (heads): ModuleList(\n",
       "            (0): Head(\n",
       "              (mpn_q): MPNEncoder(\n",
       "                (dropout_layer): Dropout(p=0.1, inplace=False)\n",
       "                (act_func): PReLU(num_parameters=1)\n",
       "                (W_h): Linear(in_features=1200, out_features=1200, bias=False)\n",
       "              )\n",
       "              (mpn_k): MPNEncoder(\n",
       "                (dropout_layer): Dropout(p=0.1, inplace=False)\n",
       "                (act_func): PReLU(num_parameters=1)\n",
       "                (W_h): Linear(in_features=1200, out_features=1200, bias=False)\n",
       "              )\n",
       "              (mpn_v): MPNEncoder(\n",
       "                (dropout_layer): Dropout(p=0.1, inplace=False)\n",
       "                (act_func): PReLU(num_parameters=1)\n",
       "                (W_h): Linear(in_features=1200, out_features=1200, bias=False)\n",
       "              )\n",
       "            )\n",
       "            (1): Head(\n",
       "              (mpn_q): MPNEncoder(\n",
       "                (dropout_layer): Dropout(p=0.1, inplace=False)\n",
       "                (act_func): PReLU(num_parameters=1)\n",
       "                (W_h): Linear(in_features=1200, out_features=1200, bias=False)\n",
       "              )\n",
       "              (mpn_k): MPNEncoder(\n",
       "                (dropout_layer): Dropout(p=0.1, inplace=False)\n",
       "                (act_func): PReLU(num_parameters=1)\n",
       "                (W_h): Linear(in_features=1200, out_features=1200, bias=False)\n",
       "              )\n",
       "              (mpn_v): MPNEncoder(\n",
       "                (dropout_layer): Dropout(p=0.1, inplace=False)\n",
       "                (act_func): PReLU(num_parameters=1)\n",
       "                (W_h): Linear(in_features=1200, out_features=1200, bias=False)\n",
       "              )\n",
       "            )\n",
       "            (2): Head(\n",
       "              (mpn_q): MPNEncoder(\n",
       "                (dropout_layer): Dropout(p=0.1, inplace=False)\n",
       "                (act_func): PReLU(num_parameters=1)\n",
       "                (W_h): Linear(in_features=1200, out_features=1200, bias=False)\n",
       "              )\n",
       "              (mpn_k): MPNEncoder(\n",
       "                (dropout_layer): Dropout(p=0.1, inplace=False)\n",
       "                (act_func): PReLU(num_parameters=1)\n",
       "                (W_h): Linear(in_features=1200, out_features=1200, bias=False)\n",
       "              )\n",
       "              (mpn_v): MPNEncoder(\n",
       "                (dropout_layer): Dropout(p=0.1, inplace=False)\n",
       "                (act_func): PReLU(num_parameters=1)\n",
       "                (W_h): Linear(in_features=1200, out_features=1200, bias=False)\n",
       "              )\n",
       "            )\n",
       "            (3): Head(\n",
       "              (mpn_q): MPNEncoder(\n",
       "                (dropout_layer): Dropout(p=0.1, inplace=False)\n",
       "                (act_func): PReLU(num_parameters=1)\n",
       "                (W_h): Linear(in_features=1200, out_features=1200, bias=False)\n",
       "              )\n",
       "              (mpn_k): MPNEncoder(\n",
       "                (dropout_layer): Dropout(p=0.1, inplace=False)\n",
       "                (act_func): PReLU(num_parameters=1)\n",
       "                (W_h): Linear(in_features=1200, out_features=1200, bias=False)\n",
       "              )\n",
       "              (mpn_v): MPNEncoder(\n",
       "                (dropout_layer): Dropout(p=0.1, inplace=False)\n",
       "                (act_func): PReLU(num_parameters=1)\n",
       "                (W_h): Linear(in_features=1200, out_features=1200, bias=False)\n",
       "              )\n",
       "            )\n",
       "          )\n",
       "          (act_func): PReLU(num_parameters=1)\n",
       "          (dropout_layer): Dropout(p=0.1, inplace=False)\n",
       "          (layernorm): LayerNorm((1200,), eps=1e-05, elementwise_affine=True)\n",
       "          (W_i): Linear(in_features=151, out_features=1200, bias=False)\n",
       "          (attn): MultiHeadedAttention(\n",
       "            (linear_layers): ModuleList(\n",
       "              (0): Linear(in_features=1200, out_features=1200, bias=True)\n",
       "              (1): Linear(in_features=1200, out_features=1200, bias=True)\n",
       "              (2): Linear(in_features=1200, out_features=1200, bias=True)\n",
       "            )\n",
       "            (output_linear): Linear(in_features=1200, out_features=1200, bias=False)\n",
       "            (attention): Attention()\n",
       "            (dropout): Dropout(p=0.1, inplace=False)\n",
       "          )\n",
       "          (W_o): Linear(in_features=4800, out_features=1200, bias=False)\n",
       "          (sublayer): SublayerConnection(\n",
       "            (norm): LayerNorm((1200,), eps=1e-05, elementwise_affine=True)\n",
       "            (dropout): Dropout(p=0.1, inplace=False)\n",
       "          )\n",
       "        )\n",
       "      )\n",
       "      (ffn_atom_from_atom): PositionwiseFeedForward(\n",
       "        (W_1): Linear(in_features=1351, out_features=4800, bias=True)\n",
       "        (W_2): Linear(in_features=4800, out_features=1200, bias=True)\n",
       "        (dropout): Dropout(p=0.1, inplace=False)\n",
       "        (act_func): PReLU(num_parameters=1)\n",
       "      )\n",
       "      (ffn_atom_from_bond): PositionwiseFeedForward(\n",
       "        (W_1): Linear(in_features=1351, out_features=4800, bias=True)\n",
       "        (W_2): Linear(in_features=4800, out_features=1200, bias=True)\n",
       "        (dropout): Dropout(p=0.1, inplace=False)\n",
       "        (act_func): PReLU(num_parameters=1)\n",
       "      )\n",
       "      (ffn_bond_from_atom): PositionwiseFeedForward(\n",
       "        (W_1): Linear(in_features=1365, out_features=4800, bias=True)\n",
       "        (W_2): Linear(in_features=4800, out_features=1200, bias=True)\n",
       "        (dropout): Dropout(p=0.1, inplace=False)\n",
       "        (act_func): PReLU(num_parameters=1)\n",
       "      )\n",
       "      (ffn_bond_from_bond): PositionwiseFeedForward(\n",
       "        (W_1): Linear(in_features=1365, out_features=4800, bias=True)\n",
       "        (W_2): Linear(in_features=4800, out_features=1200, bias=True)\n",
       "        (dropout): Dropout(p=0.1, inplace=False)\n",
       "        (act_func): PReLU(num_parameters=1)\n",
       "      )\n",
       "      (atom_from_atom_sublayer): SublayerConnection(\n",
       "        (norm): LayerNorm((1200,), eps=1e-05, elementwise_affine=True)\n",
       "        (dropout): Dropout(p=0.1, inplace=False)\n",
       "      )\n",
       "      (atom_from_bond_sublayer): SublayerConnection(\n",
       "        (norm): LayerNorm((1200,), eps=1e-05, elementwise_affine=True)\n",
       "        (dropout): Dropout(p=0.1, inplace=False)\n",
       "      )\n",
       "      (bond_from_atom_sublayer): SublayerConnection(\n",
       "        (norm): LayerNorm((1200,), eps=1e-05, elementwise_affine=True)\n",
       "        (dropout): Dropout(p=0.1, inplace=False)\n",
       "      )\n",
       "      (bond_from_bond_sublayer): SublayerConnection(\n",
       "        (norm): LayerNorm((1200,), eps=1e-05, elementwise_affine=True)\n",
       "        (dropout): Dropout(p=0.1, inplace=False)\n",
       "      )\n",
       "      (act_func_node): PReLU(num_parameters=1)\n",
       "      (act_func_edge): PReLU(num_parameters=1)\n",
       "      (dropout_layer): Dropout(p=0.1, inplace=False)\n",
       "    )\n",
       "  )\n",
       "  (av_task_atom): AtomVocabPrediction(\n",
       "    (linear): Linear(in_features=1200, out_features=1533, bias=True)\n",
       "    (logsoftmax): LogSoftmax(dim=1)\n",
       "  )\n",
       "  (av_task_bond): AtomVocabPrediction(\n",
       "    (linear): Linear(in_features=1200, out_features=1533, bias=True)\n",
       "    (logsoftmax): LogSoftmax(dim=1)\n",
       "  )\n",
       "  (bv_task_atom): BondVocabPrediction(\n",
       "    (linear): Linear(in_features=1200, out_features=1988, bias=True)\n",
       "    (linear_rev): Linear(in_features=1200, out_features=1988, bias=True)\n",
       "    (logsoftmax): LogSoftmax(dim=1)\n",
       "  )\n",
       "  (bv_task_bond): BondVocabPrediction(\n",
       "    (linear): Linear(in_features=1200, out_features=1988, bias=True)\n",
       "    (linear_rev): Linear(in_features=1200, out_features=1988, bias=True)\n",
       "    (logsoftmax): LogSoftmax(dim=1)\n",
       "  )\n",
       "  (fg_task_all): FunctionalGroupPrediction(\n",
       "    (readout): Readout()\n",
       "    (linear_atom_from_atom): Linear(in_features=1200, out_features=85, bias=True)\n",
       "    (linear_atom_from_bond): Linear(in_features=1200, out_features=85, bias=True)\n",
       "    (linear_bond_from_atom): Linear(in_features=1200, out_features=85, bias=True)\n",
       "    (linear_bond_from_bond): Linear(in_features=1200, out_features=85, bias=True)\n",
       "  )\n",
       ")"
      ]
     },
     "execution_count": 13,
     "metadata": {},
     "output_type": "execute_result"
    }
   ],
   "source": [
    "model = GroverMotifTask(args, grover_model, atom_vocab_size, bond_vocab_size, fg_size)\n",
    "model.cuda()"
   ]
  },
  {
   "cell_type": "code",
   "execution_count": 14,
   "id": "27311e54-7339-43e0-8005-718ce0973269",
   "metadata": {},
   "outputs": [],
   "source": [
    "train_data_dl = DataLoader(train_data,\n",
    "                           batch_size=2,\n",
    "                           shuffle=shuffle,\n",
    "                           num_workers=0,\n",
    "                           sampler=train_sampler,\n",
    "                           collate_fn=motif_collator)\n",
    "test_data_dl = DataLoader(test_data,\n",
    "                          batch_size=2,\n",
    "                          shuffle=shuffle,\n",
    "                          num_workers=0,\n",
    "                          sampler=test_sampler,\n",
    "                          collate_fn=motif_collator)"
   ]
  },
  {
   "cell_type": "code",
   "execution_count": 436,
   "id": "10684480-f6b4-4f0d-9a3f-83a3bf4db659",
   "metadata": {
    "tags": []
   },
   "outputs": [],
   "source": [
    "model.train()\n",
    "motif_model.train()\n",
    "\n",
    "for i, item in enumerate(train_data_dl):\n",
    "    batch_graph = item[\"graph_input\"]\n",
    "    targets = item[\"targets\"]\n",
    "\n",
    "    # add this for motif generation\n",
    "    moltree = item[\"moltree\"]\n",
    "\n",
    "    if next(model.parameters()).is_cuda:\n",
    "        targets[\"av_task\"] = targets[\"av_task\"].cuda()\n",
    "        targets[\"bv_task\"] = targets[\"bv_task\"].cuda()\n",
    "        targets[\"fg_task\"] = targets[\"fg_task\"].cuda()\n",
    "\n",
    "    preds = model(batch_graph)\n",
    "    emb_vector = preds['emb_vec']\n",
    "    \n",
    "    emb_afa_grouped = group_node_rep(moltree, emb_vector['atom_from_atom'], batch_graph)\n",
    "    if i==0:break"
   ]
  },
  {
   "cell_type": "code",
   "execution_count": 437,
   "id": "a691c3bc-58a2-45a0-b5a4-65ee3a9de15b",
   "metadata": {},
   "outputs": [
    {
     "name": "stdout",
     "output_type": "stream",
     "text": [
      "Oc1cc(Nc2ccnc3cc(Cl)ccc23)cc(-c2ccc(C(F)(F)F)cc2)c1\n",
      "Cl.O=C1c2cc(CO)cc(O)c2C(=O)c2c1ccc(C1(C3O[C@H](CO)[C@@H](O)[C@H](O)[C@H]3O)c3cccc(O)c3C(=O)c3c(O)cc(CO)cc31)c2O\n"
     ]
    }
   ],
   "source": [
    "for i in range(len(moltree)):\n",
    "    print(moltree[i].smiles)"
   ]
  },
  {
   "cell_type": "code",
   "execution_count": 438,
   "id": "a3d4284a-820a-4afa-905d-1c358ecece1e",
   "metadata": {},
   "outputs": [
    {
     "name": "stdout",
     "output_type": "stream",
     "text": [
      "mol_tree smiles is Oc1cc(Nc2ccnc3cc(Cl)ccc23)cc(-c2ccc(C(F)(F)F)cc2)c1\n",
      "mol_tree smiles is Cl.O=C1c2cc(CO)cc(O)c2C(=O)c2c1ccc(C1(C3O[C@H](CO)[C@@H](O)[C@H](O)[C@H]3O)c3cccc(O)c3C(=O)c3c(O)cc(CO)cc31)c2O\n",
      "error smiles is Cl.O=C1c2cc(CO)cc(O)c2C(=O)c2c1ccc(C1(C3O[C@H](CO)[C@@H](O)[C@H](O)[C@H]3O)c3cccc(O)c3C(=O)c3c(O)cc(CO)cc31)c2O\n",
      "[tensor([ 1.6271, -0.1634, -0.1997,  ...,  0.7849, -0.9937, -1.2304],\n",
      "       device='cuda:0', grad_fn=<SelectBackward0>), tensor([0., 0., 0.,  ..., 0., 0., 0.], device='cuda:0'), tensor([0., 0., 0.,  ..., 0., 0., 0.], device='cuda:0'), tensor([0., 0., 0.,  ..., 0., 0., 0.], device='cuda:0'), tensor([0., 0., 0.,  ..., 0., 0., 0.], device='cuda:0'), tensor([0., 0., 0.,  ..., 0., 0., 0.], device='cuda:0'), tensor([0., 0., 0.,  ..., 0., 0., 0.], device='cuda:0'), tensor([0., 0., 0.,  ..., 0., 0., 0.], device='cuda:0'), tensor([ 0.6828,  0.1067, -0.1724,  ...,  0.1375, -0.4109,  0.0683],\n",
      "       device='cuda:0', grad_fn=<SelectBackward0>), tensor([ 0.4688,  0.1302,  0.0504,  ...,  0.1955, -0.1470, -0.2995],\n",
      "       device='cuda:0', grad_fn=<SelectBackward0>), tensor([ 0.6861,  0.0024, -0.1536,  ...,  0.1931, -0.3142,  0.0080],\n",
      "       device='cuda:0', grad_fn=<SelectBackward0>), tensor([ 0.5092, -0.0014,  0.0386,  ...,  0.0870, -0.2043, -0.1527],\n",
      "       device='cuda:0', grad_fn=<SelectBackward0>), tensor([ 0.3833, -0.0375,  0.1038,  ...,  0.0542, -0.2562,  0.0272],\n",
      "       device='cuda:0', grad_fn=<SelectBackward0>), tensor([ 0.4825, -0.0476, -0.0373,  ...,  0.0006, -0.2176, -0.0461],\n",
      "       device='cuda:0', grad_fn=<SelectBackward0>), tensor([ 0.4979, -0.0111,  0.0666,  ...,  0.1775, -0.3451, -0.1025],\n",
      "       device='cuda:0', grad_fn=<SelectBackward0>), tensor([ 0.5365, -0.0250,  0.0997,  ...,  0.0540, -0.2732, -0.0264],\n",
      "       device='cuda:0', grad_fn=<SelectBackward0>), tensor([ 0.5323,  0.0214, -0.1006,  ...,  0.1325, -0.2056, -0.0094],\n",
      "       device='cuda:0', grad_fn=<SelectBackward0>), tensor([ 0.4362,  0.0996, -0.1077,  ...,  0.0715, -0.1480,  0.0745],\n",
      "       device='cuda:0', grad_fn=<SelectBackward0>), tensor([ 0.5437,  0.0315,  0.0848,  ...,  0.2434, -0.2488, -0.0131],\n",
      "       device='cuda:0', grad_fn=<SelectBackward0>), tensor([ 0.6282,  0.0201, -0.2463,  ...,  0.3525, -0.5738, -0.1520],\n",
      "       device='cuda:0', grad_fn=<SelectBackward0>), tensor([ 0.5198,  0.0146, -0.0218,  ...,  0.0316, -0.1347, -0.1249],\n",
      "       device='cuda:0', grad_fn=<SelectBackward0>)]\n"
     ]
    },
    {
     "ename": "AttributeError",
     "evalue": "'list' object has no attribute 'shape'",
     "output_type": "error",
     "traceback": [
      "\u001b[0;31m---------------------------------------------------------------------------\u001b[0m",
      "\u001b[0;31mRuntimeError\u001b[0m                              Traceback (most recent call last)",
      "\u001b[0;32m~/grover/grover/topology/dfs.py\u001b[0m in \u001b[0;36mforward\u001b[0;34m(self, mol_batch, node_rep)\u001b[0m\n\u001b[1;32m    206\u001b[0m         \u001b[0;32mtry\u001b[0m \u001b[0;34m:\u001b[0m\u001b[0;34m\u001b[0m\u001b[0;34m\u001b[0m\u001b[0m\n\u001b[0;32m--> 207\u001b[0;31m             \u001b[0mcur_o_nei\u001b[0m \u001b[0;34m=\u001b[0m \u001b[0mtorch\u001b[0m\u001b[0;34m.\u001b[0m\u001b[0mstack\u001b[0m\u001b[0;34m(\u001b[0m\u001b[0mcur_o_nei\u001b[0m\u001b[0;34m,\u001b[0m \u001b[0mdim\u001b[0m\u001b[0;34m=\u001b[0m\u001b[0;36m0\u001b[0m\u001b[0;34m)\u001b[0m\u001b[0;34m.\u001b[0m\u001b[0mview\u001b[0m\u001b[0;34m(\u001b[0m\u001b[0;34m-\u001b[0m\u001b[0;36m1\u001b[0m\u001b[0;34m,\u001b[0m \u001b[0mMAX_NB\u001b[0m\u001b[0;34m,\u001b[0m \u001b[0mself\u001b[0m\u001b[0;34m.\u001b[0m\u001b[0mhidden_size\u001b[0m\u001b[0;34m)\u001b[0m\u001b[0;34m\u001b[0m\u001b[0;34m\u001b[0m\u001b[0m\n\u001b[0m\u001b[1;32m    208\u001b[0m             \u001b[0mcur_o\u001b[0m \u001b[0;34m=\u001b[0m \u001b[0mcur_o_nei\u001b[0m\u001b[0;34m.\u001b[0m\u001b[0msum\u001b[0m\u001b[0;34m(\u001b[0m\u001b[0mdim\u001b[0m\u001b[0;34m=\u001b[0m\u001b[0;36m1\u001b[0m\u001b[0;34m)\u001b[0m\u001b[0;34m\u001b[0m\u001b[0;34m\u001b[0m\u001b[0m\n",
      "\u001b[0;31mRuntimeError\u001b[0m: shape '[-1, 8, 1200]' is invalid for input of size 25200",
      "\nDuring handling of the above exception, another exception occurred:\n",
      "\u001b[0;31mAttributeError\u001b[0m                            Traceback (most recent call last)",
      "\u001b[0;32m<ipython-input-438-12ea1841d331>\u001b[0m in \u001b[0;36m<module>\u001b[0;34m\u001b[0m\n\u001b[0;32m----> 1\u001b[0;31m \u001b[0mnode_afa_loss\u001b[0m\u001b[0;34m,\u001b[0m \u001b[0mtopo_afa_loss\u001b[0m\u001b[0;34m,\u001b[0m \u001b[0mnode_afa_acc\u001b[0m\u001b[0;34m,\u001b[0m \u001b[0mtopo_afa_acc\u001b[0m \u001b[0;34m=\u001b[0m \u001b[0mmotif_model\u001b[0m\u001b[0;34m(\u001b[0m\u001b[0mmoltree\u001b[0m\u001b[0;34m,\u001b[0m \u001b[0memb_afa_grouped\u001b[0m\u001b[0;34m)\u001b[0m\u001b[0;34m\u001b[0m\u001b[0;34m\u001b[0m\u001b[0m\n\u001b[0m",
      "\u001b[0;32m/opt/conda/lib/python3.7/site-packages/torch/nn/modules/module.py\u001b[0m in \u001b[0;36m_call_impl\u001b[0;34m(self, *input, **kwargs)\u001b[0m\n\u001b[1;32m   1128\u001b[0m         if not (self._backward_hooks or self._forward_hooks or self._forward_pre_hooks or _global_backward_hooks\n\u001b[1;32m   1129\u001b[0m                 or _global_forward_hooks or _global_forward_pre_hooks):\n\u001b[0;32m-> 1130\u001b[0;31m             \u001b[0;32mreturn\u001b[0m \u001b[0mforward_call\u001b[0m\u001b[0;34m(\u001b[0m\u001b[0;34m*\u001b[0m\u001b[0minput\u001b[0m\u001b[0;34m,\u001b[0m \u001b[0;34m**\u001b[0m\u001b[0mkwargs\u001b[0m\u001b[0;34m)\u001b[0m\u001b[0;34m\u001b[0m\u001b[0;34m\u001b[0m\u001b[0m\n\u001b[0m\u001b[1;32m   1131\u001b[0m         \u001b[0;31m# Do not call functions when jit is used\u001b[0m\u001b[0;34m\u001b[0m\u001b[0;34m\u001b[0m\u001b[0;34m\u001b[0m\u001b[0m\n\u001b[1;32m   1132\u001b[0m         \u001b[0mfull_backward_hooks\u001b[0m\u001b[0;34m,\u001b[0m \u001b[0mnon_full_backward_hooks\u001b[0m \u001b[0;34m=\u001b[0m \u001b[0;34m[\u001b[0m\u001b[0;34m]\u001b[0m\u001b[0;34m,\u001b[0m \u001b[0;34m[\u001b[0m\u001b[0;34m]\u001b[0m\u001b[0;34m\u001b[0m\u001b[0;34m\u001b[0m\u001b[0m\n",
      "\u001b[0;32m~/grover/grover/topology/motif_generation.py\u001b[0m in \u001b[0;36mforward\u001b[0;34m(self, mol_batch, node_rep)\u001b[0m\n\u001b[1;32m     48\u001b[0m         \u001b[0mset_batch_nodeID\u001b[0m\u001b[0;34m(\u001b[0m\u001b[0mmol_batch\u001b[0m\u001b[0;34m,\u001b[0m \u001b[0mself\u001b[0m\u001b[0;34m.\u001b[0m\u001b[0mvocab\u001b[0m\u001b[0;34m)\u001b[0m\u001b[0;34m\u001b[0m\u001b[0;34m\u001b[0m\u001b[0m\n\u001b[1;32m     49\u001b[0m \u001b[0;34m\u001b[0m\u001b[0m\n\u001b[0;32m---> 50\u001b[0;31m         \u001b[0mword_loss\u001b[0m\u001b[0;34m,\u001b[0m \u001b[0mtopo_loss\u001b[0m\u001b[0;34m,\u001b[0m \u001b[0mword_acc\u001b[0m\u001b[0;34m,\u001b[0m \u001b[0mtopo_acc\u001b[0m \u001b[0;34m=\u001b[0m \u001b[0mself\u001b[0m\u001b[0;34m.\u001b[0m\u001b[0mdecoder\u001b[0m\u001b[0;34m(\u001b[0m\u001b[0mmol_batch\u001b[0m\u001b[0;34m,\u001b[0m \u001b[0mnode_rep\u001b[0m\u001b[0;34m)\u001b[0m\u001b[0;34m\u001b[0m\u001b[0;34m\u001b[0m\u001b[0m\n\u001b[0m\u001b[1;32m     51\u001b[0m \u001b[0;34m\u001b[0m\u001b[0m\n\u001b[1;32m     52\u001b[0m         \u001b[0;31m#loss = word_loss + topo_loss\u001b[0m\u001b[0;34m\u001b[0m\u001b[0;34m\u001b[0m\u001b[0;34m\u001b[0m\u001b[0m\n",
      "\u001b[0;32m/opt/conda/lib/python3.7/site-packages/torch/nn/modules/module.py\u001b[0m in \u001b[0;36m_call_impl\u001b[0;34m(self, *input, **kwargs)\u001b[0m\n\u001b[1;32m   1128\u001b[0m         if not (self._backward_hooks or self._forward_hooks or self._forward_pre_hooks or _global_backward_hooks\n\u001b[1;32m   1129\u001b[0m                 or _global_forward_hooks or _global_forward_pre_hooks):\n\u001b[0;32m-> 1130\u001b[0;31m             \u001b[0;32mreturn\u001b[0m \u001b[0mforward_call\u001b[0m\u001b[0;34m(\u001b[0m\u001b[0;34m*\u001b[0m\u001b[0minput\u001b[0m\u001b[0;34m,\u001b[0m \u001b[0;34m**\u001b[0m\u001b[0mkwargs\u001b[0m\u001b[0;34m)\u001b[0m\u001b[0;34m\u001b[0m\u001b[0;34m\u001b[0m\u001b[0m\n\u001b[0m\u001b[1;32m   1131\u001b[0m         \u001b[0;31m# Do not call functions when jit is used\u001b[0m\u001b[0;34m\u001b[0m\u001b[0;34m\u001b[0m\u001b[0;34m\u001b[0m\u001b[0m\n\u001b[1;32m   1132\u001b[0m         \u001b[0mfull_backward_hooks\u001b[0m\u001b[0;34m,\u001b[0m \u001b[0mnon_full_backward_hooks\u001b[0m \u001b[0;34m=\u001b[0m \u001b[0;34m[\u001b[0m\u001b[0;34m]\u001b[0m\u001b[0;34m,\u001b[0m \u001b[0;34m[\u001b[0m\u001b[0;34m]\u001b[0m\u001b[0;34m\u001b[0m\u001b[0;34m\u001b[0m\u001b[0m\n",
      "\u001b[0;32m~/grover/grover/topology/dfs.py\u001b[0m in \u001b[0;36mforward\u001b[0;34m(self, mol_batch, node_rep)\u001b[0m\n\u001b[1;32m    212\u001b[0m             \u001b[0mprint\u001b[0m\u001b[0;34m(\u001b[0m\u001b[0;34mf'error smiles is {mol_tree.smiles}'\u001b[0m\u001b[0;34m)\u001b[0m\u001b[0;34m\u001b[0m\u001b[0;34m\u001b[0m\u001b[0m\n\u001b[1;32m    213\u001b[0m             \u001b[0mprint\u001b[0m\u001b[0;34m(\u001b[0m\u001b[0mcur_o_nei\u001b[0m\u001b[0;34m)\u001b[0m\u001b[0;34m\u001b[0m\u001b[0;34m\u001b[0m\u001b[0m\n\u001b[0;32m--> 214\u001b[0;31m             \u001b[0mprint\u001b[0m\u001b[0;34m(\u001b[0m\u001b[0mcur_o_nei\u001b[0m\u001b[0;34m.\u001b[0m\u001b[0mshape\u001b[0m\u001b[0;34m)\u001b[0m\u001b[0;34m\u001b[0m\u001b[0;34m\u001b[0m\u001b[0m\n\u001b[0m\u001b[1;32m    215\u001b[0m             \u001b[0mprint\u001b[0m\u001b[0;34m(\u001b[0m\u001b[0mcur_x\u001b[0m\u001b[0;34m)\u001b[0m\u001b[0;34m\u001b[0m\u001b[0;34m\u001b[0m\u001b[0m\n\u001b[1;32m    216\u001b[0m             \u001b[0mprint\u001b[0m\u001b[0;34m(\u001b[0m\u001b[0mcur_x\u001b[0m\u001b[0;34m.\u001b[0m\u001b[0mshape\u001b[0m\u001b[0;34m)\u001b[0m\u001b[0;34m\u001b[0m\u001b[0;34m\u001b[0m\u001b[0m\n",
      "\u001b[0;31mAttributeError\u001b[0m: 'list' object has no attribute 'shape'"
     ]
    }
   ],
   "source": [
    "node_afa_loss, topo_afa_loss, node_afa_acc, topo_afa_acc = motif_model(moltree, emb_afa_grouped)"
   ]
  },
  {
   "cell_type": "markdown",
   "id": "7bf4f623-8ecc-4026-b3b9-bbcc86190ec2",
   "metadata": {},
   "source": [
    "# dfs 과정 추적"
   ]
  },
  {
   "cell_type": "code",
   "execution_count": 440,
   "id": "d1ce910b-1570-4ea4-9334-36a3563836d5",
   "metadata": {},
   "outputs": [],
   "source": [
    "from grover.topology.dfs import *\n",
    "vocab_size = motif_vocab.size()\n",
    "hidden_size=1200\n",
    "pred_loss = nn.CrossEntropyLoss(reduction=\"mean\")\n",
    "stop_loss = nn.BCEWithLogitsLoss(reduction=\"mean\")\n",
    "W_z = nn.Linear(2 * hidden_size, hidden_size).cuda()\n",
    "U_r = nn.Linear(hidden_size, hidden_size, bias=False).cuda()\n",
    "W_r = nn.Linear(hidden_size, hidden_size).cuda()\n",
    "W_h = nn.Linear(2 * hidden_size, hidden_size).cuda()\n",
    "W = nn.Linear(hidden_size, hidden_size).cuda()\n",
    "U = nn.Linear(2 * hidden_size, hidden_size).cuda()\n",
    "W_o = nn.Linear(hidden_size, vocab_size).cuda()\n",
    "U_s = nn.Linear(hidden_size, 1).cuda()"
   ]
  },
  {
   "cell_type": "code",
   "execution_count": 441,
   "id": "f61e7ac5-4eed-48c5-9d46-e4c01bf43d29",
   "metadata": {},
   "outputs": [],
   "source": [
    "def set_batch_nodeID(mol_batch, vocab):\n",
    "    tot = 0\n",
    "    for mol_tree in mol_batch:\n",
    "        for node in mol_tree.nodes:\n",
    "            node.idx = tot\n",
    "            node.wid = vocab.get_index(node.smiles)\n",
    "            tot += 1"
   ]
  },
  {
   "cell_type": "code",
   "execution_count": 442,
   "id": "f1e16cde-9112-4c17-9427-2923f1dcc763",
   "metadata": {},
   "outputs": [
    {
     "data": {
      "text/plain": [
       "Linear(in_features=2400, out_features=1200, bias=True)"
      ]
     },
     "execution_count": 442,
     "metadata": {},
     "output_type": "execute_result"
    }
   ],
   "source": [
    "W_z.cuda()"
   ]
  },
  {
   "cell_type": "code",
   "execution_count": 443,
   "id": "1229fb5b-7322-4844-abc9-d480d2a4fdcb",
   "metadata": {},
   "outputs": [],
   "source": [
    "mol_batch = moltree.copy()\n",
    "node_rep = emb_afa_grouped.copy()"
   ]
  },
  {
   "cell_type": "code",
   "execution_count": 444,
   "id": "227607a5-8ebe-43a8-a51c-249a56eb246c",
   "metadata": {},
   "outputs": [
    {
     "data": {
      "text/plain": [
       "[<grover.topology.mol_tree.MolTree_break at 0x7f9a49a97cd0>,\n",
       " <grover.topology.mol_tree.MolTree_break at 0x7f9a49a70410>]"
      ]
     },
     "execution_count": 444,
     "metadata": {},
     "output_type": "execute_result"
    }
   ],
   "source": [
    "mol_batch"
   ]
  },
  {
   "cell_type": "code",
   "execution_count": 445,
   "id": "a0b3bc49-d9ed-4824-afb5-669b5f75575f",
   "metadata": {},
   "outputs": [
    {
     "data": {
      "text/plain": [
       "torch.Size([29, 1200])"
      ]
     },
     "execution_count": 445,
     "metadata": {},
     "output_type": "execute_result"
    }
   ],
   "source": [
    "node_rep[0].shape"
   ]
  },
  {
   "cell_type": "code",
   "execution_count": 446,
   "id": "648deaea-b5b0-46e5-86b6-5452d95bb679",
   "metadata": {},
   "outputs": [
    {
     "data": {
      "text/plain": [
       "torch.Size([29, 1200])"
      ]
     },
     "execution_count": 446,
     "metadata": {},
     "output_type": "execute_result"
    }
   ],
   "source": [
    "node_rep1[0].shape"
   ]
  },
  {
   "cell_type": "code",
   "execution_count": 447,
   "id": "22fc27ca-449e-46b3-93aa-00a239e21a86",
   "metadata": {},
   "outputs": [],
   "source": [
    "set_batch_nodeID(mol_batch, motif_vocab)"
   ]
  },
  {
   "cell_type": "code",
   "execution_count": 448,
   "id": "49c949a3-8bef-4886-a9bd-1dffa6d00033",
   "metadata": {},
   "outputs": [
    {
     "name": "stdout",
     "output_type": "stream",
     "text": [
      "mol_tree smiles is Oc1cc(Nc2ccnc3cc(Cl)ccc23)cc(-c2ccc(C(F)(F)F)cc2)c1\n",
      "mol_tree smiles is Cl.O=C1c2cc(CO)cc(O)c2C(=O)c2c1ccc(C1(C3O[C@H](CO)[C@@H](O)[C@H](O)[C@H]3O)c3cccc(O)c3C(=O)c3c(O)cc(CO)cc31)c2O\n",
      "error smiles is Cl.O=C1c2cc(CO)cc(O)c2C(=O)c2c1ccc(C1(C3O[C@H](CO)[C@@H](O)[C@H](O)[C@H]3O)c3cccc(O)c3C(=O)c3c(O)cc(CO)cc31)c2O\n",
      "[tensor([-1.0053, -0.6278,  0.9503,  ..., -0.9165, -0.9564,  0.9179],\n",
      "       device='cuda:0', grad_fn=<SelectBackward0>), tensor([0., 0., 0.,  ..., 0., 0., 0.], device='cuda:0'), tensor([0., 0., 0.,  ..., 0., 0., 0.], device='cuda:0'), tensor([0., 0., 0.,  ..., 0., 0., 0.], device='cuda:0'), tensor([0., 0., 0.,  ..., 0., 0., 0.], device='cuda:0'), tensor([0., 0., 0.,  ..., 0., 0., 0.], device='cuda:0'), tensor([0., 0., 0.,  ..., 0., 0., 0.], device='cuda:0'), tensor([0., 0., 0.,  ..., 0., 0., 0.], device='cuda:0'), tensor([-0.1486, -0.1987, -0.2134,  ...,  0.1359, -0.1658, -0.1233],\n",
      "       device='cuda:0', grad_fn=<SelectBackward0>), tensor([-0.2673, -0.1789, -0.1111,  ...,  0.1779,  0.0260, -0.0916],\n",
      "       device='cuda:0', grad_fn=<SelectBackward0>), tensor([-0.3187,  0.2006,  0.3408,  ..., -0.1273, -0.1980, -0.0009],\n",
      "       device='cuda:0', grad_fn=<SelectBackward0>), tensor([ 0.0025, -0.0889,  0.0007,  ...,  0.1633, -0.0735, -0.0748],\n",
      "       device='cuda:0', grad_fn=<SelectBackward0>), tensor([-0.3237,  0.2433, -0.1976,  ..., -0.0109, -0.1962, -0.0697],\n",
      "       device='cuda:0', grad_fn=<SelectBackward0>), tensor([ 0.1379, -0.2395, -0.1053,  ...,  0.2151, -0.2555, -0.1679],\n",
      "       device='cuda:0', grad_fn=<SelectBackward0>), tensor([-0.0308, -0.2504, -0.0852,  ...,  0.2045, -0.0680, -0.1314],\n",
      "       device='cuda:0', grad_fn=<SelectBackward0>), tensor([-0.0794,  0.1330, -0.0175,  ...,  0.0113, -0.1469, -0.0161],\n",
      "       device='cuda:0', grad_fn=<SelectBackward0>), tensor([-0.2083, -0.0967, -0.0407,  ...,  0.1882, -0.1080, -0.1212],\n",
      "       device='cuda:0', grad_fn=<SelectBackward0>), tensor([-0.2120, -0.2433,  0.1087,  ...,  0.1523, -0.2213, -0.0114],\n",
      "       device='cuda:0', grad_fn=<SelectBackward0>), tensor([-0.0817,  0.1883, -0.0989,  ...,  0.1100, -0.1515, -0.1261],\n",
      "       device='cuda:0', grad_fn=<SelectBackward0>), tensor([-0.4990, -0.0775, -0.0493,  ..., -0.2256, -0.1414,  0.0292],\n",
      "       device='cuda:0', grad_fn=<SelectBackward0>), tensor([-0.0662,  0.1941,  0.2656,  ...,  0.0165, -0.1854, -0.1558],\n",
      "       device='cuda:0', grad_fn=<SelectBackward0>)]\n"
     ]
    },
    {
     "ename": "AttributeError",
     "evalue": "'list' object has no attribute 'shape'",
     "output_type": "error",
     "traceback": [
      "\u001b[0;31m---------------------------------------------------------------------------\u001b[0m",
      "\u001b[0;31mRuntimeError\u001b[0m                              Traceback (most recent call last)",
      "\u001b[0;32m<ipython-input-448-d733fea1f72d>\u001b[0m in \u001b[0;36m<module>\u001b[0;34m\u001b[0m\n\u001b[1;32m    125\u001b[0m \u001b[0;32mtry\u001b[0m \u001b[0;34m:\u001b[0m\u001b[0;34m\u001b[0m\u001b[0;34m\u001b[0m\u001b[0m\n\u001b[0;32m--> 126\u001b[0;31m     \u001b[0mcur_o_nei\u001b[0m \u001b[0;34m=\u001b[0m \u001b[0mtorch\u001b[0m\u001b[0;34m.\u001b[0m\u001b[0mstack\u001b[0m\u001b[0;34m(\u001b[0m\u001b[0mcur_o_nei\u001b[0m\u001b[0;34m,\u001b[0m \u001b[0mdim\u001b[0m\u001b[0;34m=\u001b[0m\u001b[0;36m0\u001b[0m\u001b[0;34m)\u001b[0m\u001b[0;34m.\u001b[0m\u001b[0mview\u001b[0m\u001b[0;34m(\u001b[0m\u001b[0;34m-\u001b[0m\u001b[0;36m1\u001b[0m\u001b[0;34m,\u001b[0m \u001b[0mMAX_NB\u001b[0m\u001b[0;34m,\u001b[0m \u001b[0mhidden_size\u001b[0m\u001b[0;34m)\u001b[0m\u001b[0;34m\u001b[0m\u001b[0;34m\u001b[0m\u001b[0m\n\u001b[0m\u001b[1;32m    127\u001b[0m     \u001b[0mcur_o\u001b[0m \u001b[0;34m=\u001b[0m \u001b[0mcur_o_nei\u001b[0m\u001b[0;34m.\u001b[0m\u001b[0msum\u001b[0m\u001b[0;34m(\u001b[0m\u001b[0mdim\u001b[0m\u001b[0;34m=\u001b[0m\u001b[0;36m1\u001b[0m\u001b[0;34m)\u001b[0m\u001b[0;34m\u001b[0m\u001b[0;34m\u001b[0m\u001b[0m\n",
      "\u001b[0;31mRuntimeError\u001b[0m: shape '[-1, 8, 1200]' is invalid for input of size 25200",
      "\nDuring handling of the above exception, another exception occurred:\n",
      "\u001b[0;31mAttributeError\u001b[0m                            Traceback (most recent call last)",
      "\u001b[0;32m<ipython-input-448-d733fea1f72d>\u001b[0m in \u001b[0;36m<module>\u001b[0;34m\u001b[0m\n\u001b[1;32m    131\u001b[0m     \u001b[0mprint\u001b[0m\u001b[0;34m(\u001b[0m\u001b[0;34mf'error smiles is {mol_tree.smiles}'\u001b[0m\u001b[0;34m)\u001b[0m\u001b[0;34m\u001b[0m\u001b[0;34m\u001b[0m\u001b[0m\n\u001b[1;32m    132\u001b[0m     \u001b[0mprint\u001b[0m\u001b[0;34m(\u001b[0m\u001b[0mcur_o_nei\u001b[0m\u001b[0;34m)\u001b[0m\u001b[0;34m\u001b[0m\u001b[0;34m\u001b[0m\u001b[0m\n\u001b[0;32m--> 133\u001b[0;31m     \u001b[0mprint\u001b[0m\u001b[0;34m(\u001b[0m\u001b[0mcur_o_nei\u001b[0m\u001b[0;34m.\u001b[0m\u001b[0mshape\u001b[0m\u001b[0;34m)\u001b[0m\u001b[0;34m\u001b[0m\u001b[0;34m\u001b[0m\u001b[0m\n\u001b[0m\u001b[1;32m    134\u001b[0m     \u001b[0mprint\u001b[0m\u001b[0;34m(\u001b[0m\u001b[0mcur_x\u001b[0m\u001b[0;34m)\u001b[0m\u001b[0;34m\u001b[0m\u001b[0;34m\u001b[0m\u001b[0m\n\u001b[1;32m    135\u001b[0m     \u001b[0mprint\u001b[0m\u001b[0;34m(\u001b[0m\u001b[0mcur_x\u001b[0m\u001b[0;34m.\u001b[0m\u001b[0mshape\u001b[0m\u001b[0;34m)\u001b[0m\u001b[0;34m\u001b[0m\u001b[0;34m\u001b[0m\u001b[0m\n",
      "\u001b[0;31mAttributeError\u001b[0m: 'list' object has no attribute 'shape'"
     ]
    }
   ],
   "source": [
    "super_root = MolTreeNode(\"\")\n",
    "super_root.idx = -1\n",
    "\n",
    "# Initialize\n",
    "pred_hiddens, pred_targets = [], []\n",
    "stop_hiddens, stop_targets = [], []\n",
    "traces = []\n",
    "for mol_tree in mol_batch:\n",
    "    s = []\n",
    "    try : \n",
    "        dfs(s, mol_tree.nodes[0], super_root)\n",
    "    except : \n",
    "        print(f'smiles is {mol_tree.smiles}')\n",
    "        print(f'moltree is {mol_tree}')\n",
    "        print(f'moltreenodes is {mol_tree.nodes}')\n",
    "        print(f'superroot is {super_root}')\n",
    "    traces.append(s)\n",
    "    for node in mol_tree.nodes:\n",
    "        node.neighbors = []\n",
    "'''\n",
    "# Predict Root\n",
    "pred_hiddens.append(create_var(torch.zeros(len(mol_batch), self.hidden_size)))\n",
    "pred_targets.extend([mol_tree.nodes[0].wid for mol_tree in mol_batch])\n",
    "pred_mol_vecs.append(mol_vec)\n",
    "'''\n",
    "\n",
    "max_iter = max([len(tr) for tr in traces])\n",
    "padding = create_var(torch.zeros(hidden_size), False)\n",
    "h = {}\n",
    "\n",
    "for t in range(max_iter):\n",
    "    prop_list = []\n",
    "    batch_list = []\n",
    "    for i, plist in enumerate(traces):\n",
    "        if t < len(plist):\n",
    "            prop_list.append(plist[t])\n",
    "            batch_list.append(i)\n",
    "        else:\n",
    "            prop_list.append(None)\n",
    "\n",
    "    em_list = []\n",
    "    cur_h_nei, cur_o_nei = [], []\n",
    "\n",
    "    for mol_index, prop in enumerate(prop_list):\n",
    "        if prop is None:\n",
    "            continue\n",
    "        node_x, real_y, _ = prop\n",
    "        # Neighbors for message passing (target not included)\n",
    "        cur_nei = [h[(node_y.idx, node_x.idx)] for node_y in node_x.neighbors if node_y.idx != real_y.idx]\n",
    "        pad_len = MAX_NB - len(cur_nei)\n",
    "        if pad_len>= 0:\n",
    "            cur_h_nei.extend(cur_nei)\n",
    "            cur_h_nei.extend([padding] * pad_len)\n",
    "        else:\n",
    "            cur_h_nei.extend(cur_nei[:MAX_NB])\n",
    "\n",
    "        # Neighbors for stop prediction (all neighbors)\n",
    "        cur_nei = [h[(node_y.idx, node_x.idx)] for node_y in node_x.neighbors]\n",
    "        pad_len = MAX_NB - len(cur_nei)\n",
    "        if pad_len >= 0:\n",
    "            cur_o_nei.extend(cur_nei)\n",
    "            cur_o_nei.extend([padding] * pad_len)\n",
    "        else:\n",
    "            cur_o_nei.extend(cur_nei[:MAX_NB])\n",
    "\n",
    "\n",
    "        # Current clique embedding\n",
    "        em_list.append(torch.sum(node_rep[mol_index].index_select(0, torch.tensor(node_x.clique).to(device)), dim=0))\n",
    "\n",
    "    # Clique embedding\n",
    "    cur_x = torch.stack(em_list, dim=0)  #gpu code\n",
    "\n",
    "    # Message passing\n",
    "    cur_h_nei = torch.stack(cur_h_nei, dim=0).view(-1, MAX_NB, hidden_size)\n",
    "    new_h = GRU(cur_x, cur_h_nei, W_z, W_r, U_r, W_h)\n",
    "\n",
    "    # Node Aggregate\n",
    "    cur_o_nei = torch.stack(cur_o_nei, dim=0).view(-1, MAX_NB, hidden_size)\n",
    "    cur_o = cur_o_nei.sum(dim=1)\n",
    "\n",
    "    # Gather targets\n",
    "    pred_target, pred_list = [], []\n",
    "    stop_target = []\n",
    "    prop_list = [x for x in prop_list if x is not None]\n",
    "    for i, m in enumerate(prop_list):\n",
    "        node_x, node_y, direction = m\n",
    "        x, y = node_x.idx, node_y.idx\n",
    "        h[(x, y)] = new_h[i]\n",
    "        node_y.neighbors.append(node_x)\n",
    "        if direction == 1:\n",
    "            pred_target.append(node_y.wid)\n",
    "            pred_list.append(i)\n",
    "        stop_target.append(direction)\n",
    "\n",
    "    # Hidden states for stop prediction\n",
    "    stop_hidden = torch.cat([cur_x, cur_o], dim=1) \n",
    "    stop_hiddens.append(stop_hidden)\n",
    "    stop_targets.extend(stop_target)\n",
    "\n",
    "    # Hidden states for clique prediction\n",
    "    if len(pred_list) > 0:\n",
    "        #batch_list = [batch_list[i] for i in pred_list]\n",
    "        #cur_batch = create_var(torch.LongTensor(batch_list))\n",
    "        #pred_mol_vecs.append(mol_vec.index_select(0, cur_batch))\n",
    "\n",
    "        cur_pred = create_var(torch.LongTensor(pred_list))\n",
    "        pred_hiddens.append(new_h.index_select(0, cur_pred))\n",
    "        pred_targets.extend(pred_target)\n",
    "\n",
    "# Last stop at root\n",
    "em_list, cur_o_nei = [], []\n",
    "for mol_index, mol_tree in enumerate(mol_batch):\n",
    "#            try : \n",
    "    node_x = mol_tree.nodes[0]\n",
    "#            except : \n",
    "#                print(f'error smiles is {mol_tree.smiles}')\n",
    "\n",
    "    em_list.append(torch.sum(node_rep[mol_index].index_select(0, torch.tensor(node_x.clique).to(device)), dim=0))\n",
    "    cur_nei = [h[(node_y.idx, node_x.idx)] for node_y in node_x.neighbors]\n",
    "    pad_len = MAX_NB - len(cur_nei)\n",
    "    cur_o_nei.extend(cur_nei)\n",
    "    cur_o_nei.extend([padding] * pad_len)\n",
    "\n",
    "cur_x = torch.stack(em_list, dim=0)\n",
    "try : \n",
    "    cur_o_nei = torch.stack(cur_o_nei, dim=0).view(-1, MAX_NB, hidden_size)\n",
    "    cur_o = cur_o_nei.sum(dim=1)\n",
    "except : \n",
    "    for mol_index, mol_tree in enumerate(mol_batch):\n",
    "        print(f'mol_tree smiles is {mol_tree.smiles}')\n",
    "    print(f'error smiles is {mol_tree.smiles}')\n",
    "    print(cur_o_nei)\n",
    "    print(cur_o_nei.shape)\n",
    "    print(cur_x)\n",
    "    print(cur_x.shape)\n",
    "    print(torch.stack(cur_o_nei, dim=0).view(-1, MAX_NB, hidden_size))\n",
    "    print(torch.stack(cur_o_nei, dim=0).view(-1, MAX_NB, hidden_size).sum(dim=1))\n",
    "\n",
    "\n",
    "stop_hidden = torch.cat([cur_x, cur_o], dim=1)\n",
    "stop_hiddens.append(stop_hidden)\n",
    "stop_targets.extend([0] * len(mol_batch))\n",
    "\n",
    "# Predict next clique\n",
    "# pred hiddens와 pred_vecs는 앞의 node들에 대한 hiddenstate로 node x hidden size다\n",
    "# 마지막에 pred_scores로 전체 vocab에 대한 완전연결층으로 예측\n",
    "pred_hiddens = torch.cat(pred_hiddens, dim=0)\n",
    "#pred_mol_vecs = torch.cat(pred_mol_vecs, dim=0)\n",
    "#pred_vecs = torch.cat([pred_hiddens, pred_mol_vecs], dim=1)\n",
    "pred_vecs = pred_hiddens\n",
    "pred_vecs = nn.ReLU()(W(pred_vecs))\n",
    "pred_scores = W_o(pred_vecs)\n",
    "pred_targets = create_var(torch.LongTensor(pred_targets))\n",
    "\n",
    "pred_loss = pred_loss(pred_scores, pred_targets) #/ len(mol_batch)\n",
    "_, preds = torch.max(pred_scores, dim=1)\n",
    "pred_acc = torch.eq(preds.to(device), pred_targets.to(device)).float()\n",
    "pred_acc = torch.sum(pred_acc) / pred_targets.nelement()\n",
    "\n",
    "# Predict stop\n",
    "stop_hiddens = torch.cat(stop_hiddens, dim=0)\n",
    "stop_vecs = nn.ReLU()(U(stop_hiddens))\n",
    "stop_scores = U_s(stop_vecs).squeeze()\n",
    "stop_targets = create_var(torch.Tensor(stop_targets))\n",
    "\n",
    "stop_loss = stop_loss(stop_scores, stop_targets) #/ len(mol_batch)\n",
    "stops = torch.ge(stop_scores, 0).float()\n",
    "stop_acc = torch.eq(stops, stop_targets).float()\n",
    "stop_acc = torch.sum(stop_acc) / stop_targets.nelement()"
   ]
  },
  {
   "cell_type": "code",
   "execution_count": 449,
   "id": "314441b7-b6c0-46a3-b6ba-e53732da6caf",
   "metadata": {},
   "outputs": [
    {
     "data": {
      "text/plain": [
       "[57097,\n",
       " 22255,\n",
       " 3695,\n",
       " 3695,\n",
       " 25255,\n",
       " 23858,\n",
       " 57097,\n",
       " 22255,\n",
       " 5604,\n",
       " 25255,\n",
       " 25255,\n",
       " 25255,\n",
       " 31864,\n",
       " 57097,\n",
       " 25255,\n",
       " 31864,\n",
       " 71304,\n",
       " 25255,\n",
       " 17777,\n",
       " 25255,\n",
       " 17777,\n",
       " 25255,\n",
       " 17777,\n",
       " 25255,\n",
       " 22255,\n",
       " 25255]"
      ]
     },
     "execution_count": 449,
     "metadata": {},
     "output_type": "execute_result"
    }
   ],
   "source": [
    "pred_targets"
   ]
  },
  {
   "cell_type": "markdown",
   "id": "89e8a2f5-e680-48ea-bb60-ef5d7186c852",
   "metadata": {},
   "source": [
    "## trace 생성"
   ]
  },
  {
   "cell_type": "code",
   "execution_count": 450,
   "id": "58584ffd-6e3e-4da1-a0a8-757475f8b4e0",
   "metadata": {},
   "outputs": [],
   "source": [
    "super_root = MolTreeNode(\"\")\n",
    "super_root.idx = -1\n",
    "\n",
    "# Initialize\n",
    "pred_hiddens, pred_targets = [], []\n",
    "stop_hiddens, stop_targets = [], []\n",
    "traces = []\n",
    "for mol_tree in mol_batch:\n",
    "    s = []\n",
    "    dfs(s, mol_tree.nodes[0], super_root)\n",
    "    traces.append(s)\n",
    "    for node in mol_tree.nodes:\n",
    "        node.neighbors = []\n",
    "'''\n",
    "# Predict Root\n",
    "pred_hiddens.append(create_var(torch.zeros(len(mol_batch), self.hidden_size)))\n",
    "pred_targets.extend([mol_tree.nodes[0].wid for mol_tree in mol_batch])\n",
    "pred_mol_vecs.append(mol_vec)\n",
    "'''\n",
    "\n",
    "max_iter = max([len(tr) for tr in traces])\n",
    "padding = create_var(torch.zeros(1200), False)\n",
    "h = {}"
   ]
  },
  {
   "cell_type": "code",
   "execution_count": 451,
   "id": "7c6592be-2e93-40b4-9aa2-e50d21a75edc",
   "metadata": {
    "tags": []
   },
   "outputs": [
    {
     "name": "stdout",
     "output_type": "stream",
     "text": [
      "Oc1cc(Nc2ccnc3cc(Cl)ccc23)cc(-c2ccc(C(F)(F)F)cc2)c1\n",
      "CO\n",
      "[0, 1]\n",
      "\n",
      "\n",
      "C1=CC=CC=C1\n",
      "[1, 28, 17, 16, 3, 2]\n",
      "\n",
      "\n",
      "CN\n",
      "[3, 4]\n",
      "\n",
      "\n",
      "CN\n",
      "[4, 5]\n",
      "\n",
      "\n",
      "C1=CC=NC=C1\n",
      "[6, 7, 8, 9, 15, 5]\n",
      "\n",
      "\n",
      "C1=CC=CC=C1\n",
      "[10, 11, 13, 14, 15, 9]\n",
      "\n",
      "\n",
      "CCl\n",
      "[11, 12]\n",
      "\n",
      "\n",
      "C1=CC=CC=C1\n",
      "[10, 11, 13, 14, 15, 9]\n",
      "\n",
      "\n",
      "C1=CC=NC=C1\n",
      "[6, 7, 8, 9, 15, 5]\n",
      "\n",
      "\n",
      "CN\n",
      "[4, 5]\n",
      "\n",
      "\n",
      "CN\n",
      "[3, 4]\n",
      "\n",
      "\n",
      "C1=CC=CC=C1\n",
      "[1, 28, 17, 16, 3, 2]\n",
      "\n",
      "\n",
      "CC\n",
      "[17, 18]\n",
      "\n",
      "\n",
      "C1=CC=CC=C1\n",
      "[19, 20, 21, 26, 27, 18]\n",
      "\n",
      "\n",
      "CC\n",
      "[21, 22]\n",
      "\n",
      "\n",
      "C\n",
      "[22]\n",
      "\n",
      "\n",
      "CF\n",
      "[22, 23]\n",
      "\n",
      "\n",
      "C\n",
      "[22]\n",
      "\n",
      "\n",
      "CF\n",
      "[22, 24]\n",
      "\n",
      "\n",
      "C\n",
      "[22]\n",
      "\n",
      "\n",
      "CF\n",
      "[22, 25]\n",
      "\n",
      "\n",
      "C\n",
      "[22]\n",
      "\n",
      "\n",
      "CC\n",
      "[21, 22]\n",
      "\n",
      "\n",
      "C1=CC=CC=C1\n",
      "[19, 20, 21, 26, 27, 18]\n",
      "\n",
      "\n",
      "CC\n",
      "[17, 18]\n",
      "\n",
      "\n",
      "C1=CC=CC=C1\n",
      "[1, 28, 17, 16, 3, 2]\n",
      "\n",
      "\n"
     ]
    }
   ],
   "source": [
    "# dfs로 돌아가는 순서가 적힌 것\n",
    "print(mol_batch[0].smiles)\n",
    "for i in range(len(traces[0])):\n",
    "    print(traces[0][i][0].smiles)\n",
    "    print(traces[0][i][0].clique)\n",
    "    for j in range(len(traces[0][i][0].neighbors)):\n",
    "        print(traces[0][i][0].neighbors[j].smiles)\n",
    "    \n",
    "    print('\\n')"
   ]
  },
  {
   "cell_type": "code",
   "execution_count": 452,
   "id": "bcb872e1-efaf-42f3-8e59-40f04312cb79",
   "metadata": {},
   "outputs": [
    {
     "data": {
      "text/plain": [
       "26"
      ]
     },
     "execution_count": 452,
     "metadata": {},
     "output_type": "execute_result"
    }
   ],
   "source": [
    "len(traces[0])"
   ]
  },
  {
   "cell_type": "code",
   "execution_count": 453,
   "id": "51305763-6967-412d-b1a3-f3e65b44a084",
   "metadata": {},
   "outputs": [
    {
     "data": {
      "text/plain": [
       "14"
      ]
     },
     "execution_count": 453,
     "metadata": {},
     "output_type": "execute_result"
    }
   ],
   "source": [
    "len(mol_batch[0].nodes)"
   ]
  },
  {
   "cell_type": "code",
   "execution_count": 454,
   "id": "b8b450c9-f267-496b-90d2-1b6d01933c82",
   "metadata": {},
   "outputs": [
    {
     "name": "stdout",
     "output_type": "stream",
     "text": [
      "Cl.O=C1c2cc(CO)cc(O)c2C(=O)c2c1ccc(C1(C3O[C@H](CO)[C@@H](O)[C@H](O)[C@H]3O)c3cccc(O)c3C(=O)c3c(O)cc(CO)cc31)c2O\n",
      "C1=CC=C2CC3=C(C=CC(C4(C5CCCCO5)C5=CC=CC=C5CC5=CC=CC=C54)=C3)CC2=C1\n",
      "[2, 3, 4, 5, 8, 9, 11, 12, 14, 15, 16, 17, 18, 19, 20, 21, 22, 25, 27, 29, 31, 32, 33, 34, 35, 37, 38, 40, 41, 43, 44, 47, 48, 49]\n",
      "\n",
      "\n",
      "CO\n",
      "[24, 23]\n",
      "\n",
      "\n",
      "C1=CC=C2CC3=C(C=CC(C4(C5CCCCO5)C5=CC=CC=C5CC5=CC=CC=C54)=C3)CC2=C1\n",
      "[2, 3, 4, 5, 8, 9, 11, 12, 14, 15, 16, 17, 18, 19, 20, 21, 22, 25, 27, 29, 31, 32, 33, 34, 35, 37, 38, 40, 41, 43, 44, 47, 48, 49]\n",
      "\n",
      "\n",
      "O\n",
      "[1]\n",
      "\n",
      "\n",
      "C1=CC=C2CC3=C(C=CC(C4(C5CCCCO5)C5=CC=CC=C5CC5=CC=CC=C54)=C3)CC2=C1\n",
      "[2, 3, 4, 5, 8, 9, 11, 12, 14, 15, 16, 17, 18, 19, 20, 21, 22, 25, 27, 29, 31, 32, 33, 34, 35, 37, 38, 40, 41, 43, 44, 47, 48, 49]\n",
      "\n",
      "\n",
      "CO\n",
      "[6, 7]\n",
      "\n",
      "\n",
      "C1=CC=C2CC3=C(C=CC(C4(C5CCCCO5)C5=CC=CC=C5CC5=CC=CC=C54)=C3)CC2=C1\n",
      "[2, 3, 4, 5, 8, 9, 11, 12, 14, 15, 16, 17, 18, 19, 20, 21, 22, 25, 27, 29, 31, 32, 33, 34, 35, 37, 38, 40, 41, 43, 44, 47, 48, 49]\n",
      "\n",
      "\n",
      "O\n",
      "[10]\n",
      "\n",
      "\n",
      "C1=CC=C2CC3=C(C=CC(C4(C5CCCCO5)C5=CC=CC=C5CC5=CC=CC=C54)=C3)CC2=C1\n",
      "[2, 3, 4, 5, 8, 9, 11, 12, 14, 15, 16, 17, 18, 19, 20, 21, 22, 25, 27, 29, 31, 32, 33, 34, 35, 37, 38, 40, 41, 43, 44, 47, 48, 49]\n",
      "\n",
      "\n",
      "O\n",
      "[13]\n",
      "\n",
      "\n",
      "C1=CC=C2CC3=C(C=CC(C4(C5CCCCO5)C5=CC=CC=C5CC5=CC=CC=C54)=C3)CC2=C1\n",
      "[2, 3, 4, 5, 8, 9, 11, 12, 14, 15, 16, 17, 18, 19, 20, 21, 22, 25, 27, 29, 31, 32, 33, 34, 35, 37, 38, 40, 41, 43, 44, 47, 48, 49]\n",
      "\n",
      "\n",
      "O\n",
      "[26]\n",
      "\n",
      "\n",
      "C1=CC=C2CC3=C(C=CC(C4(C5CCCCO5)C5=CC=CC=C5CC5=CC=CC=C54)=C3)CC2=C1\n",
      "[2, 3, 4, 5, 8, 9, 11, 12, 14, 15, 16, 17, 18, 19, 20, 21, 22, 25, 27, 29, 31, 32, 33, 34, 35, 37, 38, 40, 41, 43, 44, 47, 48, 49]\n",
      "\n",
      "\n",
      "O\n",
      "[28]\n",
      "\n",
      "\n",
      "C1=CC=C2CC3=C(C=CC(C4(C5CCCCO5)C5=CC=CC=C5CC5=CC=CC=C54)=C3)CC2=C1\n",
      "[2, 3, 4, 5, 8, 9, 11, 12, 14, 15, 16, 17, 18, 19, 20, 21, 22, 25, 27, 29, 31, 32, 33, 34, 35, 37, 38, 40, 41, 43, 44, 47, 48, 49]\n",
      "\n",
      "\n",
      "O\n",
      "[30]\n",
      "\n",
      "\n",
      "C1=CC=C2CC3=C(C=CC(C4(C5CCCCO5)C5=CC=CC=C5CC5=CC=CC=C54)=C3)CC2=C1\n",
      "[2, 3, 4, 5, 8, 9, 11, 12, 14, 15, 16, 17, 18, 19, 20, 21, 22, 25, 27, 29, 31, 32, 33, 34, 35, 37, 38, 40, 41, 43, 44, 47, 48, 49]\n",
      "\n",
      "\n",
      "O\n",
      "[36]\n",
      "\n",
      "\n",
      "C1=CC=C2CC3=C(C=CC(C4(C5CCCCO5)C5=CC=CC=C5CC5=CC=CC=C54)=C3)CC2=C1\n",
      "[2, 3, 4, 5, 8, 9, 11, 12, 14, 15, 16, 17, 18, 19, 20, 21, 22, 25, 27, 29, 31, 32, 33, 34, 35, 37, 38, 40, 41, 43, 44, 47, 48, 49]\n",
      "\n",
      "\n",
      "O\n",
      "[39]\n",
      "\n",
      "\n",
      "C1=CC=C2CC3=C(C=CC(C4(C5CCCCO5)C5=CC=CC=C5CC5=CC=CC=C54)=C3)CC2=C1\n",
      "[2, 3, 4, 5, 8, 9, 11, 12, 14, 15, 16, 17, 18, 19, 20, 21, 22, 25, 27, 29, 31, 32, 33, 34, 35, 37, 38, 40, 41, 43, 44, 47, 48, 49]\n",
      "\n",
      "\n",
      "O\n",
      "[42]\n",
      "\n",
      "\n",
      "C1=CC=C2CC3=C(C=CC(C4(C5CCCCO5)C5=CC=CC=C5CC5=CC=CC=C54)=C3)CC2=C1\n",
      "[2, 3, 4, 5, 8, 9, 11, 12, 14, 15, 16, 17, 18, 19, 20, 21, 22, 25, 27, 29, 31, 32, 33, 34, 35, 37, 38, 40, 41, 43, 44, 47, 48, 49]\n",
      "\n",
      "\n",
      "CO\n",
      "[45, 46]\n",
      "\n",
      "\n",
      "C1=CC=C2CC3=C(C=CC(C4(C5CCCCO5)C5=CC=CC=C5CC5=CC=CC=C54)=C3)CC2=C1\n",
      "[2, 3, 4, 5, 8, 9, 11, 12, 14, 15, 16, 17, 18, 19, 20, 21, 22, 25, 27, 29, 31, 32, 33, 34, 35, 37, 38, 40, 41, 43, 44, 47, 48, 49]\n",
      "\n",
      "\n",
      "O\n",
      "[50]\n",
      "\n",
      "\n"
     ]
    }
   ],
   "source": [
    "# dfs로 돌아가는 순서가 적힌 것\n",
    "print(mol_batch[1].smiles)\n",
    "for i in range(len(traces[1])):\n",
    "    print(traces[1][i][0].smiles)\n",
    "    print(traces[1][i][0].clique)\n",
    "    for j in range(len(traces[1][i][0].neighbors)):\n",
    "        print(traces[1][i][0].neighbors[j].smiles)\n",
    "    \n",
    "    print('\\n')"
   ]
  },
  {
   "cell_type": "markdown",
   "id": "a6375183-e86a-43ad-b814-ec53ce6ba6f9",
   "metadata": {},
   "source": [
    "## dfs 메인코드 분석\n",
    "- 먼저 각 노드들을 1열로 세운다(prop_list)\n",
    "- 그 다음 각 노드의 conjugate graph를 생성\n",
    "- 그리고 cur_h_nei는 타겟을 제외한 인접 노드들의 message를 종합\n",
    "- cur_o_nei는 타겟을 포함한 모든 인접 레이어의 message를 종합하고\n",
    "- em_list는 해당 노드의 clique들의 임베딩 벡터를 가져온다. "
   ]
  },
  {
   "cell_type": "code",
   "execution_count": 455,
   "id": "0fbe109a-db33-464f-acc6-f95c0b21c947",
   "metadata": {},
   "outputs": [],
   "source": [
    "# 이건 각 노드들을 순환하며 motif 예측하기 위한 hidden state들을 종합하고, target들을 리스트화 시키는 작업\n",
    "# 여기서 최대 인접 수를 8개로 제한한다. 적으면 zero padding, 많으면 중간에 자름.\n",
    "for t in range(max_iter):\n",
    "    prop_list = []\n",
    "    batch_list = []\n",
    "    # traces는 결합관계를 1번째 노드에서 시작해서 끝까지 포함하는 것\n",
    "    # 아래의 for문은 해당 결합관계를 순서대로 prop_list로 추가하는 것이다.\n",
    "    # 그리고 이 분자안의 결합관계를 배치 개념으로 봐서 배치의 index로 추가한다.\n",
    "    # prop_list에는 각 분자의 t번째 node의 결합 정보가 포함이 된다.\n",
    "    for i, plist in enumerate(traces):\n",
    "        if t < len(plist):\n",
    "            prop_list.append(plist[t])\n",
    "            batch_list.append(i)\n",
    "        else:\n",
    "            prop_list.append(None)\n",
    "\n",
    "    em_list = []\n",
    "    cur_h_nei, cur_o_nei = [], []\n",
    "\n",
    "    for mol_index, prop in enumerate(prop_list):\n",
    "        if prop is None:\n",
    "            continue\n",
    "        node_x, real_y, _ = prop\n",
    "        # Neighbors for message passing (target not included)\n",
    "        cur_nei = [h[(node_y.idx, node_x.idx)] for node_y in node_x.neighbors if node_y.idx != real_y.idx]\n",
    "        pad_len = MAX_NB - len(cur_nei)\n",
    "        if pad_len>= 0:\n",
    "            cur_h_nei.extend(cur_nei)\n",
    "            cur_h_nei.extend([padding] * pad_len)\n",
    "        else:\n",
    "            cur_h_nei.extend(cur_nei[:MAX_NB])\n",
    "\n",
    "        # Neighbors for stop prediction (all neighbors)\n",
    "        cur_nei = [h[(node_y.idx, node_x.idx)] for node_y in node_x.neighbors]\n",
    "        pad_len = MAX_NB - len(cur_nei)\n",
    "        if pad_len >= 0:\n",
    "            cur_o_nei.extend(cur_nei)\n",
    "            cur_o_nei.extend([padding] * pad_len)\n",
    "        else:\n",
    "            cur_o_nei.extend(cur_nei[:MAX_NB])\n",
    "\n",
    "\n",
    "        # Current clique embedding\n",
    "        em_list.append(torch.sum(node_rep[mol_index].index_select(0, torch.tensor(node_x.clique).to(device)), dim=0))  #gpu code\n",
    "\n",
    "    # Clique embedding\n",
    "    cur_x = torch.stack(em_list, dim=0)    #gpu code\n",
    "\n",
    "    # Message passing\n",
    "    cur_h_nei = torch.stack(cur_h_nei, dim=0).view(-1, MAX_NB, 1200)\n",
    "    new_h = GRU(cur_x, cur_h_nei, W_z, W_r, U_r, W_h)    #gpu code\n",
    "\n",
    "    # Node Aggregate\n",
    "    cur_o_nei = torch.stack(cur_o_nei, dim=0).view(-1, MAX_NB, 1200)\n",
    "    cur_o = cur_o_nei.sum(dim=1)\n",
    "\n",
    "    # Gather targets\n",
    "    pred_target, pred_list = [], []\n",
    "    stop_target = []\n",
    "    prop_list = [x for x in prop_list if x is not None]\n",
    "    for i, m in enumerate(prop_list):\n",
    "        node_x, node_y, direction = m\n",
    "        x, y = node_x.idx, node_y.idx\n",
    "        h[(x, y)] = new_h[i]\n",
    "        node_y.neighbors.append(node_x)\n",
    "        if direction == 1:\n",
    "            pred_target.append(node_y.wid)\n",
    "            pred_list.append(i)\n",
    "        stop_target.append(direction)\n",
    "\n",
    "    # Hidden states for stop prediction\n",
    "    stop_hidden = torch.cat([cur_x, cur_o], dim=1)\n",
    "    stop_hiddens.append(stop_hidden)\n",
    "    stop_targets.extend(stop_target)\n",
    "\n",
    "    # Hidden states for clique prediction\n",
    "    if len(pred_list) > 0:\n",
    "        #batch_list = [batch_list[i] for i in pred_list]\n",
    "        #cur_batch = create_var(torch.LongTensor(batch_list))\n",
    "        #pred_mol_vecs.append(mol_vec.index_select(0, cur_batch))\n",
    "\n",
    "        cur_pred = create_var(torch.LongTensor(pred_list))\n",
    "        pred_hiddens.append(new_h.index_select(0, cur_pred))\n",
    "        pred_targets.extend(pred_target)"
   ]
  },
  {
   "cell_type": "code",
   "execution_count": 503,
   "id": "1921c6bc-1286-458f-938e-319444cba895",
   "metadata": {},
   "outputs": [],
   "source": [
    "em_list, cur_o_nei = [], []\n",
    "for mol_index, mol_tree in enumerate(mol_batch):\n",
    "    node_x = mol_tree.nodes[0]\n",
    "    em_list.append(torch.sum(node_rep[mol_index].index_select(0, torch.tensor(node_x.clique).to(device)), dim=0))\n",
    "    cur_nei = [h[(node_y.idx, node_x.idx)] for node_y in node_x.neighbors]\n",
    "    pad_len = MAX_NB - len(cur_nei)\n",
    "    cur_o_nei.extend(cur_nei)\n",
    "    cur_o_nei.extend([padding] * pad_len)\n",
    "\n",
    "cur_x = torch.stack(em_list, dim=0)"
   ]
  },
  {
   "cell_type": "code",
   "execution_count": 504,
   "id": "af84a9ee-6211-420c-8abc-12b16db33be2",
   "metadata": {},
   "outputs": [
    {
     "data": {
      "text/plain": [
       "[tensor([-1.0053, -0.6278,  0.9503,  ..., -0.9165, -0.9564,  0.9179],\n",
       "        device='cuda:0', grad_fn=<SelectBackward0>),\n",
       " tensor([0., 0., 0.,  ..., 0., 0., 0.], device='cuda:0'),\n",
       " tensor([0., 0., 0.,  ..., 0., 0., 0.], device='cuda:0'),\n",
       " tensor([0., 0., 0.,  ..., 0., 0., 0.], device='cuda:0'),\n",
       " tensor([0., 0., 0.,  ..., 0., 0., 0.], device='cuda:0'),\n",
       " tensor([0., 0., 0.,  ..., 0., 0., 0.], device='cuda:0'),\n",
       " tensor([0., 0., 0.,  ..., 0., 0., 0.], device='cuda:0'),\n",
       " tensor([0., 0., 0.,  ..., 0., 0., 0.], device='cuda:0'),\n",
       " tensor([-0.1486, -0.1987, -0.2134,  ...,  0.1359, -0.1658, -0.1233],\n",
       "        device='cuda:0', grad_fn=<SelectBackward0>),\n",
       " tensor([-0.2673, -0.1789, -0.1111,  ...,  0.1779,  0.0260, -0.0916],\n",
       "        device='cuda:0', grad_fn=<SelectBackward0>),\n",
       " tensor([-0.3187,  0.2006,  0.3408,  ..., -0.1273, -0.1980, -0.0009],\n",
       "        device='cuda:0', grad_fn=<SelectBackward0>),\n",
       " tensor([ 0.0025, -0.0889,  0.0007,  ...,  0.1633, -0.0735, -0.0748],\n",
       "        device='cuda:0', grad_fn=<SelectBackward0>),\n",
       " tensor([-0.3237,  0.2433, -0.1976,  ..., -0.0109, -0.1962, -0.0697],\n",
       "        device='cuda:0', grad_fn=<SelectBackward0>),\n",
       " tensor([ 0.1379, -0.2395, -0.1053,  ...,  0.2151, -0.2555, -0.1679],\n",
       "        device='cuda:0', grad_fn=<SelectBackward0>),\n",
       " tensor([-0.0308, -0.2504, -0.0852,  ...,  0.2045, -0.0680, -0.1314],\n",
       "        device='cuda:0', grad_fn=<SelectBackward0>),\n",
       " tensor([-0.0794,  0.1330, -0.0175,  ...,  0.0113, -0.1469, -0.0161],\n",
       "        device='cuda:0', grad_fn=<SelectBackward0>),\n",
       " tensor([-0.2083, -0.0967, -0.0407,  ...,  0.1882, -0.1080, -0.1212],\n",
       "        device='cuda:0', grad_fn=<SelectBackward0>),\n",
       " tensor([-0.2120, -0.2433,  0.1087,  ...,  0.1523, -0.2213, -0.0114],\n",
       "        device='cuda:0', grad_fn=<SelectBackward0>),\n",
       " tensor([-0.0817,  0.1883, -0.0989,  ...,  0.1100, -0.1515, -0.1261],\n",
       "        device='cuda:0', grad_fn=<SelectBackward0>),\n",
       " tensor([-0.4990, -0.0775, -0.0493,  ..., -0.2256, -0.1414,  0.0292],\n",
       "        device='cuda:0', grad_fn=<SelectBackward0>),\n",
       " tensor([-0.0662,  0.1941,  0.2656,  ...,  0.0165, -0.1854, -0.1558],\n",
       "        device='cuda:0', grad_fn=<SelectBackward0>)]"
      ]
     },
     "execution_count": 504,
     "metadata": {},
     "output_type": "execute_result"
    }
   ],
   "source": [
    "cur_o_nei"
   ]
  },
  {
   "cell_type": "code",
   "execution_count": 496,
   "id": "1987b196-dcdd-41e2-8323-b07f26353c82",
   "metadata": {},
   "outputs": [
    {
     "data": {
      "text/plain": [
       "tensor([[[-1.0053, -0.6278,  0.9503,  ..., -0.9165, -0.9564,  0.9179],\n",
       "         [-0.1486, -0.1987, -0.2134,  ...,  0.1359, -0.1658, -0.1233],\n",
       "         [-0.2673, -0.1789, -0.1111,  ...,  0.1779,  0.0260, -0.0916],\n",
       "         ...,\n",
       "         [-0.3237,  0.2433, -0.1976,  ..., -0.0109, -0.1962, -0.0697],\n",
       "         [ 0.1379, -0.2395, -0.1053,  ...,  0.2151, -0.2555, -0.1679],\n",
       "         [-0.0308, -0.2504, -0.0852,  ...,  0.2045, -0.0680, -0.1314]]],\n",
       "       device='cuda:0', grad_fn=<ViewBackward0>)"
      ]
     },
     "execution_count": 496,
     "metadata": {},
     "output_type": "execute_result"
    }
   ],
   "source": [
    "cur_o_nei = torch.stack(cur_o_nei[:MAX_NB], dim=0).view(-1, MAX_NB, hidden_size)\n",
    "cur_o_nei"
   ]
  },
  {
   "cell_type": "code",
   "execution_count": 489,
   "id": "50c90cb2-e6a7-4a97-a18d-30c56946b492",
   "metadata": {},
   "outputs": [
    {
     "data": {
      "text/plain": [
       "[tensor([-0.1486, -0.1987, -0.2134,  ...,  0.1359, -0.1658, -0.1233],\n",
       "        device='cuda:0', grad_fn=<SelectBackward0>),\n",
       " tensor([-0.2673, -0.1789, -0.1111,  ...,  0.1779,  0.0260, -0.0916],\n",
       "        device='cuda:0', grad_fn=<SelectBackward0>),\n",
       " tensor([-0.3187,  0.2006,  0.3408,  ..., -0.1273, -0.1980, -0.0009],\n",
       "        device='cuda:0', grad_fn=<SelectBackward0>),\n",
       " tensor([ 0.0025, -0.0889,  0.0007,  ...,  0.1633, -0.0735, -0.0748],\n",
       "        device='cuda:0', grad_fn=<SelectBackward0>),\n",
       " tensor([-0.3237,  0.2433, -0.1976,  ..., -0.0109, -0.1962, -0.0697],\n",
       "        device='cuda:0', grad_fn=<SelectBackward0>),\n",
       " tensor([ 0.1379, -0.2395, -0.1053,  ...,  0.2151, -0.2555, -0.1679],\n",
       "        device='cuda:0', grad_fn=<SelectBackward0>),\n",
       " tensor([-0.0308, -0.2504, -0.0852,  ...,  0.2045, -0.0680, -0.1314],\n",
       "        device='cuda:0', grad_fn=<SelectBackward0>),\n",
       " tensor([-0.0794,  0.1330, -0.0175,  ...,  0.0113, -0.1469, -0.0161],\n",
       "        device='cuda:0', grad_fn=<SelectBackward0>),\n",
       " tensor([-0.2083, -0.0967, -0.0407,  ...,  0.1882, -0.1080, -0.1212],\n",
       "        device='cuda:0', grad_fn=<SelectBackward0>),\n",
       " tensor([-0.2120, -0.2433,  0.1087,  ...,  0.1523, -0.2213, -0.0114],\n",
       "        device='cuda:0', grad_fn=<SelectBackward0>),\n",
       " tensor([-0.0817,  0.1883, -0.0989,  ...,  0.1100, -0.1515, -0.1261],\n",
       "        device='cuda:0', grad_fn=<SelectBackward0>),\n",
       " tensor([-0.4990, -0.0775, -0.0493,  ..., -0.2256, -0.1414,  0.0292],\n",
       "        device='cuda:0', grad_fn=<SelectBackward0>),\n",
       " tensor([-0.0662,  0.1941,  0.2656,  ...,  0.0165, -0.1854, -0.1558],\n",
       "        device='cuda:0', grad_fn=<SelectBackward0>)]"
      ]
     },
     "execution_count": 489,
     "metadata": {},
     "output_type": "execute_result"
    }
   ],
   "source": [
    "cur_nei"
   ]
  },
  {
   "cell_type": "code",
   "execution_count": 488,
   "id": "cba9a36a-4a27-46d6-a30d-0ca98087300e",
   "metadata": {},
   "outputs": [
    {
     "data": {
      "text/plain": [
       "tensor([[[-1.0053e+00, -6.2779e-01,  9.5025e-01,  ..., -9.1653e-01,\n",
       "          -9.5636e-01,  9.1786e-01],\n",
       "         [ 0.0000e+00,  0.0000e+00,  0.0000e+00,  ...,  0.0000e+00,\n",
       "           0.0000e+00,  0.0000e+00],\n",
       "         [ 0.0000e+00,  0.0000e+00,  0.0000e+00,  ...,  0.0000e+00,\n",
       "           0.0000e+00,  0.0000e+00],\n",
       "         ...,\n",
       "         [ 0.0000e+00,  0.0000e+00,  0.0000e+00,  ...,  0.0000e+00,\n",
       "           0.0000e+00,  0.0000e+00],\n",
       "         [ 0.0000e+00,  0.0000e+00,  0.0000e+00,  ...,  0.0000e+00,\n",
       "           0.0000e+00,  0.0000e+00],\n",
       "         [ 0.0000e+00,  0.0000e+00,  0.0000e+00,  ...,  0.0000e+00,\n",
       "           0.0000e+00,  0.0000e+00]],\n",
       "\n",
       "        [[-1.4856e-01, -1.9872e-01, -2.1339e-01,  ...,  1.3593e-01,\n",
       "          -1.6576e-01, -1.2327e-01],\n",
       "         [-2.6727e-01, -1.7890e-01, -1.1111e-01,  ...,  1.7788e-01,\n",
       "           2.5965e-02, -9.1610e-02],\n",
       "         [-3.1872e-01,  2.0057e-01,  3.4085e-01,  ..., -1.2734e-01,\n",
       "          -1.9799e-01, -8.6986e-04],\n",
       "         ...,\n",
       "         [ 1.3793e-01, -2.3945e-01, -1.0532e-01,  ...,  2.1508e-01,\n",
       "          -2.5550e-01, -1.6792e-01],\n",
       "         [-3.0847e-02, -2.5039e-01, -8.5179e-02,  ...,  2.0447e-01,\n",
       "          -6.7967e-02, -1.3143e-01],\n",
       "         [-7.9368e-02,  1.3300e-01, -1.7532e-02,  ...,  1.1335e-02,\n",
       "          -1.4691e-01, -1.6061e-02]]], device='cuda:0',\n",
       "       grad_fn=<ViewBackward0>)"
      ]
     },
     "execution_count": 488,
     "metadata": {},
     "output_type": "execute_result"
    }
   ],
   "source": [
    "cur_o_nei"
   ]
  },
  {
   "cell_type": "code",
   "execution_count": 487,
   "id": "81602105-6b51-4e9e-aba3-1e15895d415e",
   "metadata": {},
   "outputs": [],
   "source": [
    "try : \n",
    "    cur_o_nei = torch.stack(cur_o_nei, dim=0).view(-1, MAX_NB, hidden_size)\n",
    "    cur_o = cur_o_nei.sum(dim=1)\n",
    "except : \n",
    "    for mol_index, mol_tree in enumerate(mol_batch):\n",
    "        print(f'mol_tree smiles is {mol_tree.smiles}')\n",
    "    print(f'error smiles is {mol_tree.smiles}')\n",
    "    print(cur_o_nei)\n",
    "    print(cur_o_nei.shape)\n",
    "    print(cur_x)\n",
    "    print(cur_x.shape)\n",
    "    print(torch.stack(cur_o_nei, dim=0).view(-1, MAX_NB, hidden_size))\n",
    "    print(torch.stack(cur_o_nei, dim=0).view(-1, MAX_NB, hidden_size).sum(dim=1))"
   ]
  },
  {
   "cell_type": "markdown",
   "id": "56dbb522-e0e1-474b-a232-a0da289d28c4",
   "metadata": {},
   "source": [
    "### prop_list"
   ]
  },
  {
   "cell_type": "code",
   "execution_count": 38,
   "id": "297788c7-dce2-426f-8be0-5a43fbc3a13a",
   "metadata": {},
   "outputs": [],
   "source": [
    "prop_list = []\n",
    "batch_list = []\n",
    "# traces는 결합관계를 1번째 노드에서 시작해서 끝까지 포함하는 것\n",
    "# 아래의 for문은 해당 결합관계를 순서대로 prop_list로 추가하는 것이다.\n",
    "# 그리고 이 분자안의 결합관계를 배치 개념으로 봐서 배치의 index로 추가한다.\n",
    "for i, plist in enumerate(traces):\n",
    "    if 0 < len(plist):\n",
    "        prop_list.append(plist[0])\n",
    "        batch_list.append(i)\n",
    "    else:\n",
    "        prop_list.append(None)"
   ]
  },
  {
   "cell_type": "code",
   "execution_count": 39,
   "id": "346892c4-45eb-4e30-8040-aad02401c2c0",
   "metadata": {},
   "outputs": [
    {
     "data": {
      "text/plain": [
       "True"
      ]
     },
     "execution_count": 39,
     "metadata": {},
     "output_type": "execute_result"
    }
   ],
   "source": [
    "prop_list[1]==traces[1][0]"
   ]
  },
  {
   "cell_type": "code",
   "execution_count": 40,
   "id": "04303315-e290-434c-a42b-920d14c3d4ad",
   "metadata": {},
   "outputs": [
    {
     "data": {
      "text/plain": [
       "[(<grover.topology.mol_tree.MolTreeNode_break at 0x7f89d957a490>,\n",
       "  <grover.topology.mol_tree.MolTreeNode_break at 0x7f89d957a590>,\n",
       "  1),\n",
       " (<grover.topology.mol_tree.MolTreeNode_break at 0x7f89d9546fd0>,\n",
       "  <grover.topology.mol_tree.MolTreeNode_break at 0x7f89d954b110>,\n",
       "  1)]"
      ]
     },
     "execution_count": 40,
     "metadata": {},
     "output_type": "execute_result"
    }
   ],
   "source": [
    "prop_list"
   ]
  },
  {
   "cell_type": "markdown",
   "id": "26735485-3ff9-4a1d-a216-ce4464d87db0",
   "metadata": {
    "tags": []
   },
   "source": [
    "## em_list, cur_nei, cur_h_nei, cur_o_nei"
   ]
  },
  {
   "cell_type": "code",
   "execution_count": 41,
   "id": "456f7bf2-e306-4357-a726-8c3601c5dc1c",
   "metadata": {},
   "outputs": [],
   "source": [
    "em_list = []\n",
    "cur_h_nei, cur_o_nei = [], []\n",
    "\n",
    "for mol_index, prop in enumerate(prop_list):\n",
    "    if prop is None:\n",
    "        continue\n",
    "    #node_x : 현재 노드, real_y : 다음에 올 정답 y\n",
    "    node_x, real_y, _ = prop\n",
    "    # Neighbors for message passing (target not included)\n",
    "    # 메시지 패싱 네트워크를 위하여 인접 노드들의 리스트를 만들되 이때 정답의 값은 미포함한다.\n",
    "    cur_nei = [h[(node_y.idx, node_x.idx)] for node_y in node_x.neighbors if node_y.idx != real_y.idx]\n",
    "    pad_len = MAX_NB - len(cur_nei)\n",
    "    # cur_h_nei : 현재 노드의 정답을 제외한 인접 노드들의 인덱스 리스트\n",
    "    if pad_len>= 0:\n",
    "        cur_h_nei.extend(cur_nei)\n",
    "        cur_h_nei.extend([padding] * pad_len)\n",
    "    else:\n",
    "        cur_h_nei.extend(cur_nei[:MAX_NB])\n",
    "\n",
    "    # Neighbors for stop prediction (all neighbors)\n",
    "    # cur_o_nei는 멈출지에 대해 판단하기 위해 모든 인접 노드에 대한 리스트 생성\n",
    "    cur_nei = [h[(node_y.idx, node_x.idx)] for node_y in node_x.neighbors]\n",
    "    pad_len = MAX_NB - len(cur_nei)\n",
    "    if pad_len >= 0:\n",
    "        cur_o_nei.extend(cur_nei)\n",
    "        cur_o_nei.extend([padding] * pad_len)\n",
    "    else:\n",
    "        cur_o_nei.extend(cur_nei[:MAX_NB])\n",
    "\n",
    "\n",
    "    # Current clique embedding (size = hidden_size)\n",
    "    # 현재 motif에서의 임베딩. 근데 여기서의 node_x의 clique가 뭐지?\n",
    "    # chatgpt와의 상담결과 clique가 1개인 것은 이 node가 clique 1개에 포함되고, 인접 clique가 없다는 것이고,\n",
    "    # clique가 여러개임은 이 node가 포함되는 clique가 있고, 인접에 또 다른 clique가 존재함을 의미\n",
    "    em_list.append(torch.sum(node_rep[mol_index].index_select(0, torch.tensor(node_x.clique).to(device)), dim=0))"
   ]
  },
  {
   "cell_type": "code",
   "execution_count": 42,
   "id": "514335ab-d3ad-4ebd-bfcd-e87252c16175",
   "metadata": {},
   "outputs": [],
   "source": [
    "node_x = prop_list[0][0]\n",
    "real_y = prop_list[0][1]"
   ]
  },
  {
   "cell_type": "code",
   "execution_count": 244,
   "id": "88fbbda9-4916-40a8-a390-d522e834a382",
   "metadata": {},
   "outputs": [
    {
     "data": {
      "text/plain": [
       "tensor([[-0.1079, -0.9163,  0.2216,  ...,  0.4369, -1.8563, -0.0000],\n",
       "        [-0.1206, -0.3257,  1.0068,  ..., -0.2150, -0.3437,  0.0495],\n",
       "        [ 1.4415,  0.7626,  1.8714,  ..., -0.3281, -1.3577, -0.7717]],\n",
       "       device='cuda:0', grad_fn=<IndexSelectBackward0>)"
      ]
     },
     "execution_count": 244,
     "metadata": {},
     "output_type": "execute_result"
    }
   ],
   "source": [
    "node_rep[mol_index].index_select(0, torch.tensor([0,2,10]).to(device))"
   ]
  },
  {
   "cell_type": "code",
   "execution_count": 96,
   "id": "be69b67b-84e1-4537-b14f-ed4c72fd4196",
   "metadata": {},
   "outputs": [
    {
     "data": {
      "text/plain": [
       "[tensor([ 2.4738,  1.0263,  1.4388,  ...,  0.0704, -1.6111, -3.1228],\n",
       "        device='cuda:0', grad_fn=<SumBackward1>),\n",
       " tensor([ 1.7689, -0.9816,  1.9727,  ...,  0.7898, -1.8478, -0.6169],\n",
       "        device='cuda:0', grad_fn=<SumBackward1>)]"
      ]
     },
     "execution_count": 96,
     "metadata": {},
     "output_type": "execute_result"
    }
   ],
   "source": [
    "em_list"
   ]
  },
  {
   "cell_type": "markdown",
   "id": "049e1a39-407f-4a19-a84e-d239adb7a0b0",
   "metadata": {},
   "source": [
    "## message passing"
   ]
  },
  {
   "cell_type": "code",
   "execution_count": 91,
   "id": "0d93c25e-b4dc-4003-9914-fd977db425f9",
   "metadata": {},
   "outputs": [],
   "source": [
    "# 앞의 현 원자의 임베딩 값을 쌓는다. 사실상 따로노는 리스트상의 벡터를 매트릭스로 변환하는 작업\n",
    "cur_x = torch.stack(em_list, dim=0)\n",
    "\n",
    "# Message passing\n",
    "# 현재 노드와 타겟을 제외한 노드들의 정보를 종합, message passing을 한다.\n",
    "cur_h_nei = torch.stack(cur_h_nei, dim=0).view(-1, MAX_NB, 1200)\n",
    "new_h = GRU(cur_x, cur_h_nei, W_z, W_r, U_r, W_h)"
   ]
  },
  {
   "cell_type": "code",
   "execution_count": 93,
   "id": "880faa05-bf34-4be9-b91e-04756b74640a",
   "metadata": {},
   "outputs": [
    {
     "data": {
      "text/plain": [
       "torch.Size([2, 1200])"
      ]
     },
     "execution_count": 93,
     "metadata": {},
     "output_type": "execute_result"
    }
   ],
   "source": [
    "cur_x.shape"
   ]
  },
  {
   "cell_type": "code",
   "execution_count": 100,
   "id": "8de92a91-bcb4-4ca7-ab25-fe62f3e22df3",
   "metadata": {},
   "outputs": [
    {
     "data": {
      "text/plain": [
       "torch.Size([2, 8, 1200])"
      ]
     },
     "execution_count": 100,
     "metadata": {},
     "output_type": "execute_result"
    }
   ],
   "source": [
    "cur_h_nei.shape"
   ]
  },
  {
   "cell_type": "code",
   "execution_count": 102,
   "id": "a9e8d9a0-7d6f-4de9-b709-4eed63bb6587",
   "metadata": {},
   "outputs": [
    {
     "data": {
      "text/plain": [
       "tensor([[ 0.0725, -0.0012,  0.0523,  ...,  0.1012, -0.0299,  0.3923],\n",
       "        [ 0.2292,  0.0733,  0.0864,  ...,  0.1459, -0.0062,  0.4880]],\n",
       "       device='cuda:0', grad_fn=<AddBackward0>)"
      ]
     },
     "execution_count": 102,
     "metadata": {},
     "output_type": "execute_result"
    }
   ],
   "source": [
    "new_h"
   ]
  },
  {
   "cell_type": "code",
   "execution_count": 103,
   "id": "abb8d7a2-95f1-4950-b140-342820580f0c",
   "metadata": {},
   "outputs": [],
   "source": [
    "# Node Aggregate\n",
    "cur_o_nei = torch.stack(cur_o_nei, dim=0).view(-1, MAX_NB, 1200)\n",
    "cur_o = cur_o_nei.sum(dim=1)"
   ]
  },
  {
   "cell_type": "code",
   "execution_count": 105,
   "id": "d1b4d8d2-5d47-42cf-b54f-83be7cb48770",
   "metadata": {},
   "outputs": [
    {
     "data": {
      "text/plain": [
       "torch.Size([2, 8, 1200])"
      ]
     },
     "execution_count": 105,
     "metadata": {},
     "output_type": "execute_result"
    }
   ],
   "source": [
    "cur_o_nei.shape"
   ]
  },
  {
   "cell_type": "code",
   "execution_count": 107,
   "id": "b41d7895-6d18-4a0f-8ce6-1bddda2e6a33",
   "metadata": {},
   "outputs": [
    {
     "data": {
      "text/plain": [
       "torch.Size([2, 1200])"
      ]
     },
     "execution_count": 107,
     "metadata": {},
     "output_type": "execute_result"
    }
   ],
   "source": [
    "cur_o.shape"
   ]
  },
  {
   "cell_type": "code",
   "execution_count": 108,
   "id": "9bfc942c-90e6-4e05-9b25-69724a0eada0",
   "metadata": {},
   "outputs": [],
   "source": [
    "# Gather target\n",
    "# pred_target : y의 정답을 clique 사전에서 찾기\n",
    "# pred_list : 현 분자에서의 예측에 쓸 분자 index\n",
    "# stop_target : 0이면 돌아가는 것을 의미함. 1이면 들어왔음을 의미하고.\n",
    "\n",
    "pred_target, pred_list = [], []\n",
    "stop_target = []\n",
    "prop_list = [x for x in prop_list if x is not None]\n",
    "for i, m in enumerate(prop_list):\n",
    "    node_x, node_y, direction = m\n",
    "    x, y = node_x.idx, node_y.idx\n",
    "    h[(x, y)] = new_h[i]\n",
    "    node_y.neighbors.append(node_x)\n",
    "    if direction == 1:\n",
    "        pred_target.append(node_y.wid)\n",
    "        pred_list.append(i)\n",
    "    stop_target.append(direction)"
   ]
  },
  {
   "cell_type": "code",
   "execution_count": 114,
   "id": "07efa36e-09bd-44ed-9d5d-e21d713c088d",
   "metadata": {},
   "outputs": [
    {
     "data": {
      "text/plain": [
       "([71304, 57097],\n",
       " [0, 1],\n",
       " [1, 1],\n",
       " [(<grover.topology.mol_tree.MolTreeNode_break at 0x7f89d957a490>,\n",
       "   <grover.topology.mol_tree.MolTreeNode_break at 0x7f89d957a590>,\n",
       "   1),\n",
       "  (<grover.topology.mol_tree.MolTreeNode_break at 0x7f89d9546fd0>,\n",
       "   <grover.topology.mol_tree.MolTreeNode_break at 0x7f89d954b110>,\n",
       "   1)])"
      ]
     },
     "execution_count": 114,
     "metadata": {},
     "output_type": "execute_result"
    }
   ],
   "source": [
    "pred_target, pred_list, stop_target, prop_list"
   ]
  },
  {
   "cell_type": "code",
   "execution_count": 115,
   "id": "b6ef3ed7-ac98-48d8-b848-855cb94f23ed",
   "metadata": {},
   "outputs": [],
   "source": [
    "# Hidden states for stop prediction\n",
    "# stop_hidden : 현재의 노드의 타겟을 제외한 인접 메시지 종합본에 우측?에 모든 인접 메시지를 종합한걸 이어 붙임\n",
    "# stop_hiddens는 앞의 것들을 계속 확장\n",
    "# stop_targets는 여기서 종료 여부를 모으는 작업\n",
    "# 여기는 사실상 임베딩 벡터를 종합하고, 종료 여부를 종합하는 작업하는 곳\n",
    "stop_hidden = torch.cat([cur_x, cur_o], dim=1)\n",
    "stop_hiddens.append(stop_hidden)\n",
    "stop_targets.extend(stop_target)"
   ]
  },
  {
   "cell_type": "code",
   "execution_count": 124,
   "id": "05a2ffb5-a26a-4eb0-a6ea-7cc73c8eb644",
   "metadata": {},
   "outputs": [],
   "source": [
    "# Hidden states for clique prediction\n",
    "if len(pred_list) > 0:\n",
    "    #batch_list = [batch_list[i] for i in pred_list]\n",
    "    #cur_batch = create_var(torch.LongTensor(batch_list))\n",
    "    #pred_mol_vecs.append(mol_vec.index_select(0, cur_batch))\n",
    "    \n",
    "    # cur_pred는 현재에서 예측할 대상들\n",
    "    # pred_hiddens는 예측할 대상들의 임베딩 벡터\n",
    "    # 예측할 타겟\n",
    "    cur_pred = create_var(torch.LongTensor(pred_list))\n",
    "    pred_hiddens.append(new_h.index_select(0, cur_pred))\n",
    "    pred_targets.extend(pred_target)"
   ]
  },
  {
   "cell_type": "markdown",
   "id": "abbe6d56-1aca-4516-9c6d-0c72f6ceda65",
   "metadata": {},
   "source": [
    "## 마지막 예측(여기부터 다시 돌리기)"
   ]
  },
  {
   "cell_type": "code",
   "execution_count": 152,
   "id": "c733ab33-aca2-4225-bc67-49e6fba2ab9b",
   "metadata": {},
   "outputs": [
    {
     "name": "stdout",
     "output_type": "stream",
     "text": [
      "FC(F)(F)c1ccc(-c2[nH]c(N3CCN(c4ncccc4C(F)(F)F)CC3)nc2-c2ccccc2)cc1\n",
      "[tensor([ 0.4527,  0.3099,  0.0178,  ...,  0.6078, -0.2452,  0.7329],\n",
      "       device='cuda:0', grad_fn=<SelectBackward0>)]\n",
      "Oc1cc(Nc2ccnc3cc(Cl)ccc23)cc(-c2ccc(C(F)(F)F)cc2)c1\n",
      "[tensor([ 0.6466,  0.5866,  0.5675,  ...,  1.4837, -0.1425,  0.8750],\n",
      "       device='cuda:0', grad_fn=<SelectBackward0>)]\n"
     ]
    }
   ],
   "source": [
    "# Last stop at root\n",
    "# 마지막에 멈추는 것을 잘 예측할 것인지 마지막 node에 대한 정보를 종합\n",
    "em_list, cur_o_nei = [], []\n",
    "for mol_index, mol_tree in enumerate(mol_batch):\n",
    "    print(mol_tree.smiles)\n",
    "    node_x = mol_tree.nodes[0]\n",
    "    em_list.append(torch.sum(node_rep[mol_index].index_select(0, torch.tensor(node_x.clique).to(device)), dim=0))\n",
    "    cur_nei = [h[(node_y.idx, node_x.idx)] for node_y in node_x.neighbors]\n",
    "    print(cur_nei)\n",
    "    pad_len = MAX_NB - len(cur_nei)\n",
    "    cur_o_nei.extend(cur_nei)\n",
    "    cur_o_nei.extend([padding] * pad_len)\n",
    "\n",
    "cur_x = torch.stack(em_list, dim=0)\n",
    "cur_o_nei = torch.stack(cur_o_nei, dim=0).view(-1, MAX_NB, 1200)\n",
    "cur_o = cur_o_nei.sum(dim=1)\n"
   ]
  },
  {
   "cell_type": "code",
   "execution_count": 153,
   "id": "cb533f7b-a212-46a8-a959-7d459ccdda21",
   "metadata": {},
   "outputs": [
    {
     "data": {
      "text/plain": [
       "torch.Size([2, 1200])"
      ]
     },
     "execution_count": 153,
     "metadata": {},
     "output_type": "execute_result"
    }
   ],
   "source": [
    "cur_x.shape"
   ]
  },
  {
   "cell_type": "code",
   "execution_count": null,
   "id": "673e1136-0278-41b2-8934-8d482b3049b8",
   "metadata": {},
   "outputs": [],
   "source": []
  },
  {
   "cell_type": "code",
   "execution_count": 154,
   "id": "df384225-95ef-4c4a-9991-3d0095c085bd",
   "metadata": {},
   "outputs": [],
   "source": [
    "stop_hidden = torch.cat([cur_x, cur_o], dim=1)\n",
    "stop_hiddens.append(stop_hidden)\n",
    "stop_targets.extend([0] * len(mol_batch))"
   ]
  },
  {
   "cell_type": "code",
   "execution_count": 156,
   "id": "ea9d9716-c211-49fd-8b8b-0cb081836da2",
   "metadata": {},
   "outputs": [
    {
     "data": {
      "text/plain": [
       "torch.Size([2, 2400])"
      ]
     },
     "execution_count": 156,
     "metadata": {},
     "output_type": "execute_result"
    }
   ],
   "source": [
    "stop_hidden.shape"
   ]
  },
  {
   "cell_type": "code",
   "execution_count": 159,
   "id": "8c248221-2082-4beb-8cfd-1aa4c1404e2d",
   "metadata": {},
   "outputs": [
    {
     "data": {
      "text/plain": [
       "39"
      ]
     },
     "execution_count": 159,
     "metadata": {},
     "output_type": "execute_result"
    }
   ],
   "source": [
    "len(stop_hiddens)"
   ]
  },
  {
   "cell_type": "code",
   "execution_count": 160,
   "id": "e85ae97b-2b6b-4e20-92ac-48ec24296fb0",
   "metadata": {},
   "outputs": [
    {
     "data": {
      "text/plain": [
       "[1,\n",
       " 1,\n",
       " 1,\n",
       " 1,\n",
       " 0,\n",
       " 1,\n",
       " 1,\n",
       " 1,\n",
       " 0,\n",
       " 1,\n",
       " 1,\n",
       " 1,\n",
       " 1,\n",
       " 0,\n",
       " 1,\n",
       " 0,\n",
       " 1,\n",
       " 0,\n",
       " 1,\n",
       " 0,\n",
       " 1,\n",
       " 0,\n",
       " 1,\n",
       " 1,\n",
       " 1,\n",
       " 1,\n",
       " 1,\n",
       " 1,\n",
       " 1,\n",
       " 1,\n",
       " 1,\n",
       " 1,\n",
       " 0,\n",
       " 0,\n",
       " 1,\n",
       " 1,\n",
       " 0,\n",
       " 0,\n",
       " 1,\n",
       " 1,\n",
       " 0,\n",
       " 0,\n",
       " 0,\n",
       " 0,\n",
       " 0,\n",
       " 0,\n",
       " 0,\n",
       " 0,\n",
       " 0,\n",
       " 0,\n",
       " 0,\n",
       " 0,\n",
       " 0,\n",
       " 1,\n",
       " 1,\n",
       " 0,\n",
       " 0,\n",
       " 0,\n",
       " 0,\n",
       " 0,\n",
       " 0,\n",
       " 0,\n",
       " 0,\n",
       " 0,\n",
       " 0,\n",
       " 0,\n",
       " 0,\n",
       " 0]"
      ]
     },
     "execution_count": 160,
     "metadata": {},
     "output_type": "execute_result"
    }
   ],
   "source": [
    "stop_targets"
   ]
  },
  {
   "cell_type": "code",
   "execution_count": 162,
   "id": "045afba3-672c-4e92-a3ab-28b19df30abd",
   "metadata": {},
   "outputs": [
    {
     "ename": "TypeError",
     "evalue": "cat() received an invalid combination of arguments - got (Tensor, dim=int), but expected one of:\n * (tuple of Tensors tensors, int dim, *, Tensor out)\n * (tuple of Tensors tensors, name dim, *, Tensor out)\n",
     "output_type": "error",
     "traceback": [
      "\u001b[0;31m---------------------------------------------------------------------------\u001b[0m",
      "\u001b[0;31mTypeError\u001b[0m                                 Traceback (most recent call last)",
      "\u001b[0;32m<ipython-input-162-ae0b1af2f59b>\u001b[0m in \u001b[0;36m<module>\u001b[0;34m\u001b[0m\n\u001b[1;32m      1\u001b[0m \u001b[0;31m# Predict stop\u001b[0m\u001b[0;34m\u001b[0m\u001b[0;34m\u001b[0m\u001b[0;34m\u001b[0m\u001b[0m\n\u001b[0;32m----> 2\u001b[0;31m \u001b[0mstop_hiddens\u001b[0m \u001b[0;34m=\u001b[0m \u001b[0mtorch\u001b[0m\u001b[0;34m.\u001b[0m\u001b[0mcat\u001b[0m\u001b[0;34m(\u001b[0m\u001b[0mstop_hiddens\u001b[0m\u001b[0;34m,\u001b[0m \u001b[0mdim\u001b[0m\u001b[0;34m=\u001b[0m\u001b[0;36m0\u001b[0m\u001b[0;34m)\u001b[0m\u001b[0;34m\u001b[0m\u001b[0;34m\u001b[0m\u001b[0m\n\u001b[0m\u001b[1;32m      3\u001b[0m \u001b[0mstop_vecs\u001b[0m \u001b[0;34m=\u001b[0m \u001b[0mnn\u001b[0m\u001b[0;34m.\u001b[0m\u001b[0mReLU\u001b[0m\u001b[0;34m(\u001b[0m\u001b[0;34m)\u001b[0m\u001b[0;34m(\u001b[0m\u001b[0mU\u001b[0m\u001b[0;34m(\u001b[0m\u001b[0mstop_hiddens\u001b[0m\u001b[0;34m)\u001b[0m\u001b[0;34m)\u001b[0m\u001b[0;34m\u001b[0m\u001b[0;34m\u001b[0m\u001b[0m\n\u001b[1;32m      4\u001b[0m \u001b[0mstop_scores\u001b[0m \u001b[0;34m=\u001b[0m \u001b[0mU_s\u001b[0m\u001b[0;34m(\u001b[0m\u001b[0mstop_vecs\u001b[0m\u001b[0;34m)\u001b[0m\u001b[0;34m.\u001b[0m\u001b[0msqueeze\u001b[0m\u001b[0;34m(\u001b[0m\u001b[0;34m)\u001b[0m\u001b[0;34m\u001b[0m\u001b[0;34m\u001b[0m\u001b[0m\n\u001b[1;32m      5\u001b[0m \u001b[0mstop_targets\u001b[0m \u001b[0;34m=\u001b[0m \u001b[0mcreate_var\u001b[0m\u001b[0;34m(\u001b[0m\u001b[0mtorch\u001b[0m\u001b[0;34m.\u001b[0m\u001b[0mTensor\u001b[0m\u001b[0;34m(\u001b[0m\u001b[0mstop_targets\u001b[0m\u001b[0;34m)\u001b[0m\u001b[0;34m)\u001b[0m\u001b[0;34m\u001b[0m\u001b[0;34m\u001b[0m\u001b[0m\n",
      "\u001b[0;31mTypeError\u001b[0m: cat() received an invalid combination of arguments - got (Tensor, dim=int), but expected one of:\n * (tuple of Tensors tensors, int dim, *, Tensor out)\n * (tuple of Tensors tensors, name dim, *, Tensor out)\n"
     ]
    }
   ],
   "source": [
    "# Predict stop\n",
    "stop_hiddens = torch.cat(stop_hiddens, dim=0)\n",
    "stop_vecs = nn.ReLU()(U(stop_hiddens))\n",
    "stop_scores = U_s(stop_vecs).squeeze()\n",
    "stop_targets = create_var(torch.Tensor(stop_targets))\n",
    "\n",
    "stop_loss = stop_loss(stop_scores, stop_targets) #/ len(mol_batch)\n",
    "stops = torch.ge(stop_scores, 0).float()\n",
    "stop_acc = torch.eq(stops, stop_targets).float()\n",
    "stop_acc = torch.sum(stop_acc) / stop_targets.nelement()"
   ]
  },
  {
   "cell_type": "code",
   "execution_count": 155,
   "id": "cb9b3ea3-cf9f-49b7-9ae8-c24353143e6c",
   "metadata": {},
   "outputs": [
    {
     "ename": "TypeError",
     "evalue": "cat() received an invalid combination of arguments - got (Tensor, dim=int), but expected one of:\n * (tuple of Tensors tensors, int dim, *, Tensor out)\n * (tuple of Tensors tensors, name dim, *, Tensor out)\n",
     "output_type": "error",
     "traceback": [
      "\u001b[0;31m---------------------------------------------------------------------------\u001b[0m",
      "\u001b[0;31mTypeError\u001b[0m                                 Traceback (most recent call last)",
      "\u001b[0;32m<ipython-input-155-525430a9eb6d>\u001b[0m in \u001b[0;36m<module>\u001b[0;34m\u001b[0m\n\u001b[1;32m      1\u001b[0m \u001b[0;31m# Predict next clique\u001b[0m\u001b[0;34m\u001b[0m\u001b[0;34m\u001b[0m\u001b[0;34m\u001b[0m\u001b[0m\n\u001b[0;32m----> 2\u001b[0;31m \u001b[0mpred_hiddens\u001b[0m \u001b[0;34m=\u001b[0m \u001b[0mtorch\u001b[0m\u001b[0;34m.\u001b[0m\u001b[0mcat\u001b[0m\u001b[0;34m(\u001b[0m\u001b[0mpred_hiddens\u001b[0m\u001b[0;34m,\u001b[0m \u001b[0mdim\u001b[0m\u001b[0;34m=\u001b[0m\u001b[0;36m0\u001b[0m\u001b[0;34m)\u001b[0m\u001b[0;34m\u001b[0m\u001b[0;34m\u001b[0m\u001b[0m\n\u001b[0m\u001b[1;32m      3\u001b[0m \u001b[0;31m#pred_mol_vecs = torch.cat(pred_mol_vecs, dim=0)\u001b[0m\u001b[0;34m\u001b[0m\u001b[0;34m\u001b[0m\u001b[0;34m\u001b[0m\u001b[0m\n\u001b[1;32m      4\u001b[0m \u001b[0;31m#pred_vecs = torch.cat([pred_hiddens, pred_mol_vecs], dim=1)\u001b[0m\u001b[0;34m\u001b[0m\u001b[0;34m\u001b[0m\u001b[0;34m\u001b[0m\u001b[0m\n\u001b[1;32m      5\u001b[0m \u001b[0mpred_vecs\u001b[0m \u001b[0;34m=\u001b[0m \u001b[0mpred_hiddens\u001b[0m\u001b[0;34m\u001b[0m\u001b[0;34m\u001b[0m\u001b[0m\n",
      "\u001b[0;31mTypeError\u001b[0m: cat() received an invalid combination of arguments - got (Tensor, dim=int), but expected one of:\n * (tuple of Tensors tensors, int dim, *, Tensor out)\n * (tuple of Tensors tensors, name dim, *, Tensor out)\n"
     ]
    }
   ],
   "source": [
    "# Predict next clique\n",
    "pred_hiddens = torch.cat(pred_hiddens, dim=0)\n",
    "#pred_mol_vecs = torch.cat(pred_mol_vecs, dim=0)\n",
    "#pred_vecs = torch.cat([pred_hiddens, pred_mol_vecs], dim=1)\n",
    "pred_vecs = pred_hiddens\n",
    "pred_vecs = nn.ReLU()(W(pred_vecs))\n",
    "pred_scores = W_o(pred_vecs)\n",
    "pred_targets = create_var(torch.LongTensor(pred_targets))"
   ]
  },
  {
   "cell_type": "markdown",
   "id": "8c3fa50c-9ebe-4e97-924b-90c9ebbae06f",
   "metadata": {},
   "source": [
    "## 또다른 분자식"
   ]
  },
  {
   "cell_type": "code",
   "execution_count": 15,
   "id": "d15be0d7-96c8-429b-bf48-4621cad3bfdd",
   "metadata": {},
   "outputs": [],
   "source": [
    "from grover.topology.dfs import *\n",
    "vocab_size = motif_vocab.size()\n",
    "hidden_size=1200\n",
    "pred_loss = nn.CrossEntropyLoss(reduction=\"mean\")\n",
    "stop_loss = nn.BCEWithLogitsLoss(reduction=\"mean\")\n",
    "W_z = nn.Linear(2 * hidden_size, hidden_size).cuda()\n",
    "U_r = nn.Linear(hidden_size, hidden_size, bias=False).cuda()\n",
    "W_r = nn.Linear(hidden_size, hidden_size).cuda()\n",
    "W_h = nn.Linear(2 * hidden_size, hidden_size).cuda()\n",
    "W = nn.Linear(hidden_size, hidden_size).cuda()\n",
    "U = nn.Linear(2 * hidden_size, hidden_size).cuda()\n",
    "W_o = nn.Linear(hidden_size, vocab_size).cuda()\n",
    "U_s = nn.Linear(hidden_size, 1).cuda()"
   ]
  },
  {
   "cell_type": "code",
   "execution_count": 17,
   "id": "f73f23c4-e282-497d-bb86-c1ee52cc1752",
   "metadata": {},
   "outputs": [],
   "source": [
    "MAX_NB=8"
   ]
  },
  {
   "cell_type": "code",
   "execution_count": 18,
   "id": "dee17ef9-bb09-42c8-94ab-8c769d6230d4",
   "metadata": {},
   "outputs": [],
   "source": [
    "def set_batch_nodeID(mol_batch, vocab):\n",
    "    tot = 0\n",
    "    for mol_tree in mol_batch:\n",
    "        for node in mol_tree.nodes:\n",
    "            node.idx = tot\n",
    "            node.wid = vocab.get_index(node.smiles)\n",
    "            tot += 1"
   ]
  },
  {
   "cell_type": "code",
   "execution_count": 19,
   "id": "bc2caeea-328c-4e6a-9131-1f48136e84cd",
   "metadata": {},
   "outputs": [],
   "source": [
    "train_data_dl = DataLoader(train_data,\n",
    "                           batch_size=2,\n",
    "                           shuffle=shuffle,\n",
    "                           num_workers=0,\n",
    "                           sampler=train_sampler,\n",
    "                           collate_fn=motif_collator)\n",
    "test_data_dl = DataLoader(test_data,\n",
    "                          batch_size=2,\n",
    "                          shuffle=shuffle,\n",
    "                          num_workers=0,\n",
    "                          sampler=test_sampler,\n",
    "                          collate_fn=motif_collator)"
   ]
  },
  {
   "cell_type": "code",
   "execution_count": 20,
   "id": "c015682c-6283-42a8-b48b-5d973079437f",
   "metadata": {},
   "outputs": [],
   "source": [
    "model.train()\n",
    "motif_model.train()\n",
    "\n",
    "for i, item1 in enumerate(train_data_dl):\n",
    "    batch_graph1 = item1[\"graph_input\"]\n",
    "    targets1 = item1[\"targets\"]\n",
    "\n",
    "    # add this for motif generation\n",
    "    moltree1 = item1[\"moltree\"]\n",
    "\n",
    "    if next(model.parameters()).is_cuda:\n",
    "        targets1[\"av_task\"] = targets1[\"av_task\"]\n",
    "        targets1[\"bv_task\"] = targets1[\"bv_task\"]\n",
    "        targets1[\"fg_task\"] = targets1[\"fg_task\"]\n",
    "\n",
    "    preds1 = model(batch_graph1)\n",
    "    emb_vector1 = preds1['emb_vec']\n",
    "    \n",
    "    emb_afa_grouped1 = group_node_rep(moltree1, emb_vector1['atom_from_atom'], batch_graph1)\n",
    "    \n",
    "    #node_afa_loss, topo_afa_loss, node_afa_acc, topo_afa_acc = motif_model(moltree1, emb_afa_grouped1)\n",
    "    if i==0:break"
   ]
  },
  {
   "cell_type": "code",
   "execution_count": 21,
   "id": "a4f3d702-e683-479a-921e-9a201a39130b",
   "metadata": {
    "tags": []
   },
   "outputs": [
    {
     "name": "stdout",
     "output_type": "stream",
     "text": [
      "Cl.O=C1c2cc(CO)cc(O)c2C(=O)c2c1ccc(C1(C3O[C@H](CO)[C@@H](O)[C@H](O)[C@H]3O)c3cccc(O)c3C(=O)c3c(O)cc(CO)cc31)c2O\n",
      "Cc1cccc(C)c1NC(=O)C[N+](C)(C)CC(O)COc1cccc2ccccc12.[Cl-]\n"
     ]
    }
   ],
   "source": [
    "for i in range(len(moltree1)):\n",
    "    print(moltree1[i].smiles)"
   ]
  },
  {
   "cell_type": "code",
   "execution_count": 22,
   "id": "9dc0d542-e517-456d-963e-f76cfa070c3e",
   "metadata": {},
   "outputs": [],
   "source": [
    "mol_batch1 = moltree1.copy()\n",
    "node_rep1 = emb_afa_grouped1.copy()"
   ]
  },
  {
   "cell_type": "code",
   "execution_count": 23,
   "id": "4b53dbc0-046a-43f0-b74b-4b2754e29a12",
   "metadata": {},
   "outputs": [
    {
     "data": {
      "text/plain": [
       "[tensor([[ 0.9657, -0.0000, -0.5911,  ...,  0.7817, -1.2535, -0.0000],\n",
       "         [ 0.9558, -0.2084, -0.4887,  ...,  1.1971, -1.3918, -0.0000],\n",
       "         [ 1.7787,  1.2965,  0.3958,  ...,  0.0126, -0.9428, -1.7812],\n",
       "         ...,\n",
       "         [ 0.0140,  0.0612, -0.1296,  ...,  0.9470, -0.7918, -0.0593],\n",
       "         [ 0.0878,  0.7641,  0.0867,  ..., -0.6685, -1.9724, -0.4697],\n",
       "         [ 1.7776, -0.9270, -0.0000,  ...,  1.6140, -1.2967, -1.2059]],\n",
       "        device='cuda:0', grad_fn=<SliceBackward0>),\n",
       " tensor([[ 0.6236, -0.4460, -0.4338,  ...,  1.2252, -0.0000, -0.6305],\n",
       "         [ 0.9030, -0.3929,  0.6735,  ...,  1.0632, -1.2189, -0.0000],\n",
       "         [ 0.8281,  0.0021, -0.6424,  ..., -0.3869, -1.8624, -1.0977],\n",
       "         ...,\n",
       "         [ 0.6406,  0.0101,  0.0466,  ...,  0.2641, -0.4310, -0.7308],\n",
       "         [ 0.9161,  0.4658, -0.0000,  ..., -0.1305, -0.0000, -0.9166],\n",
       "         [ 1.3393, -0.6038, -0.2350,  ...,  0.6411, -1.4211, -0.0000]],\n",
       "        device='cuda:0', grad_fn=<SliceBackward0>)]"
      ]
     },
     "execution_count": 23,
     "metadata": {},
     "output_type": "execute_result"
    }
   ],
   "source": [
    "node_rep1"
   ]
  },
  {
   "cell_type": "code",
   "execution_count": 24,
   "id": "3ebf8134-589a-4247-ad85-12cc21568bb4",
   "metadata": {},
   "outputs": [
    {
     "data": {
      "text/plain": [
       "[<grover.topology.mol_tree.MolTree_break at 0x7f60526a6110>,\n",
       " <grover.topology.mol_tree.MolTree_break at 0x7f605267c4d0>]"
      ]
     },
     "execution_count": 24,
     "metadata": {},
     "output_type": "execute_result"
    }
   ],
   "source": [
    "mol_batch1"
   ]
  },
  {
   "cell_type": "code",
   "execution_count": 25,
   "id": "5d62bc85-4c6e-4a8f-999d-822dbe35b56f",
   "metadata": {},
   "outputs": [],
   "source": [
    "set_batch_nodeID(mol_batch1, motif_vocab)"
   ]
  },
  {
   "cell_type": "code",
   "execution_count": 26,
   "id": "54538fcb-9ea1-411b-a7c1-6105995d6477",
   "metadata": {},
   "outputs": [
    {
     "name": "stdout",
     "output_type": "stream",
     "text": [
      "Cl.O=C1c2cc(CO)cc(O)c2C(=O)c2c1ccc(C1(C3O[C@H](CO)[C@@H](O)[C@H](O)[C@H]3O)c3cccc(O)c3C(=O)c3c(O)cc(CO)cc31)c2O\n",
      "Cc1cccc(C)c1NC(=O)C[N+](C)(C)CC(O)COc1cccc2ccccc12.[Cl-]\n"
     ]
    }
   ],
   "source": [
    "super_root1 = MolTreeNode(\"\")\n",
    "super_root1.idx = -1\n",
    "\n",
    "# Initialize\n",
    "pred_hiddens1, pred_targets1 = [], []\n",
    "stop_hiddens1, stop_targets1 = [], []\n",
    "traces1 = []\n",
    "for mol_tree1 in mol_batch1:\n",
    "    print(mol_tree1.smiles)\n",
    "    s1 = []\n",
    "    dfs(s1, mol_tree1.nodes[0], super_root1)\n",
    "    traces1.append(s1)\n",
    "    for node1 in mol_tree1.nodes:\n",
    "        node1.neighbors = []\n",
    "'''\n",
    "# Predict Root\n",
    "pred_hiddens.append(create_var(torch.zeros(len(mol_batch), self.hidden_size)))\n",
    "pred_targets.extend([mol_tree.nodes[0].wid for mol_tree in mol_batch])\n",
    "pred_mol_vecs.append(mol_vec)\n",
    "'''\n",
    "\n",
    "max_iter1 = max([len(tr) for tr in traces1])\n",
    "padding1 = create_var(torch.zeros(1200), False)\n",
    "h1 = {}"
   ]
  },
  {
   "cell_type": "code",
   "execution_count": 30,
   "id": "5926d2f8-80e1-4169-ad5f-321bc7169d08",
   "metadata": {
    "tags": []
   },
   "outputs": [
    {
     "name": "stdout",
     "output_type": "stream",
     "text": [
      "Cl.O=C1c2cc(CO)cc(O)c2C(=O)c2c1ccc(C1(C3O[C@H](CO)[C@@H](O)[C@H](O)[C@H]3O)c3cccc(O)c3C(=O)c3c(O)cc(CO)cc31)c2O\n",
      "0th node smiles : C1=CC=C2CC3=C(C=CC(C4(C5CCCCO5)C5=CC=CC=C5CC5=CC=CC=C54)=C3)CC2=C1\n",
      "0th node clique : [2, 3, 4, 5, 8, 9, 11, 12, 14, 15, 16, 17, 18, 19, 20, 21, 22, 25, 27, 29, 31, 32, 33, 34, 35, 37, 38, 40, 41, 43, 44, 47, 48, 49]\n",
      "0th neighbor : CO\n",
      "1th neighbor : O\n",
      "2th neighbor : CO\n",
      "3th neighbor : O\n",
      "4th neighbor : O\n",
      "5th neighbor : O\n",
      "6th neighbor : O\n",
      "7th neighbor : O\n",
      "8th neighbor : O\n",
      "9th neighbor : O\n",
      "10th neighbor : O\n",
      "11th neighbor : CO\n",
      "12th neighbor : O\n",
      "\n",
      "\n",
      "1th node smiles : CO\n",
      "1th node clique : [24, 23]\n",
      "0th neighbor : C1=CC=C2CC3=C(C=CC(C4(C5CCCCO5)C5=CC=CC=C5CC5=CC=CC=C54)=C3)CC2=C1\n",
      "\n",
      "\n",
      "2th node smiles : C1=CC=C2CC3=C(C=CC(C4(C5CCCCO5)C5=CC=CC=C5CC5=CC=CC=C54)=C3)CC2=C1\n",
      "2th node clique : [2, 3, 4, 5, 8, 9, 11, 12, 14, 15, 16, 17, 18, 19, 20, 21, 22, 25, 27, 29, 31, 32, 33, 34, 35, 37, 38, 40, 41, 43, 44, 47, 48, 49]\n",
      "0th neighbor : CO\n",
      "1th neighbor : O\n",
      "2th neighbor : CO\n",
      "3th neighbor : O\n",
      "4th neighbor : O\n",
      "5th neighbor : O\n",
      "6th neighbor : O\n",
      "7th neighbor : O\n",
      "8th neighbor : O\n",
      "9th neighbor : O\n",
      "10th neighbor : O\n",
      "11th neighbor : CO\n",
      "12th neighbor : O\n",
      "\n",
      "\n",
      "3th node smiles : O\n",
      "3th node clique : [1]\n",
      "0th neighbor : C1=CC=C2CC3=C(C=CC(C4(C5CCCCO5)C5=CC=CC=C5CC5=CC=CC=C54)=C3)CC2=C1\n",
      "\n",
      "\n",
      "4th node smiles : C1=CC=C2CC3=C(C=CC(C4(C5CCCCO5)C5=CC=CC=C5CC5=CC=CC=C54)=C3)CC2=C1\n",
      "4th node clique : [2, 3, 4, 5, 8, 9, 11, 12, 14, 15, 16, 17, 18, 19, 20, 21, 22, 25, 27, 29, 31, 32, 33, 34, 35, 37, 38, 40, 41, 43, 44, 47, 48, 49]\n",
      "0th neighbor : CO\n",
      "1th neighbor : O\n",
      "2th neighbor : CO\n",
      "3th neighbor : O\n",
      "4th neighbor : O\n",
      "5th neighbor : O\n",
      "6th neighbor : O\n",
      "7th neighbor : O\n",
      "8th neighbor : O\n",
      "9th neighbor : O\n",
      "10th neighbor : O\n",
      "11th neighbor : CO\n",
      "12th neighbor : O\n",
      "\n",
      "\n",
      "5th node smiles : CO\n",
      "5th node clique : [6, 7]\n",
      "0th neighbor : C1=CC=C2CC3=C(C=CC(C4(C5CCCCO5)C5=CC=CC=C5CC5=CC=CC=C54)=C3)CC2=C1\n",
      "\n",
      "\n",
      "6th node smiles : C1=CC=C2CC3=C(C=CC(C4(C5CCCCO5)C5=CC=CC=C5CC5=CC=CC=C54)=C3)CC2=C1\n",
      "6th node clique : [2, 3, 4, 5, 8, 9, 11, 12, 14, 15, 16, 17, 18, 19, 20, 21, 22, 25, 27, 29, 31, 32, 33, 34, 35, 37, 38, 40, 41, 43, 44, 47, 48, 49]\n",
      "0th neighbor : CO\n",
      "1th neighbor : O\n",
      "2th neighbor : CO\n",
      "3th neighbor : O\n",
      "4th neighbor : O\n",
      "5th neighbor : O\n",
      "6th neighbor : O\n",
      "7th neighbor : O\n",
      "8th neighbor : O\n",
      "9th neighbor : O\n",
      "10th neighbor : O\n",
      "11th neighbor : CO\n",
      "12th neighbor : O\n",
      "\n",
      "\n",
      "7th node smiles : O\n",
      "7th node clique : [10]\n",
      "0th neighbor : C1=CC=C2CC3=C(C=CC(C4(C5CCCCO5)C5=CC=CC=C5CC5=CC=CC=C54)=C3)CC2=C1\n",
      "\n",
      "\n",
      "8th node smiles : C1=CC=C2CC3=C(C=CC(C4(C5CCCCO5)C5=CC=CC=C5CC5=CC=CC=C54)=C3)CC2=C1\n",
      "8th node clique : [2, 3, 4, 5, 8, 9, 11, 12, 14, 15, 16, 17, 18, 19, 20, 21, 22, 25, 27, 29, 31, 32, 33, 34, 35, 37, 38, 40, 41, 43, 44, 47, 48, 49]\n",
      "0th neighbor : CO\n",
      "1th neighbor : O\n",
      "2th neighbor : CO\n",
      "3th neighbor : O\n",
      "4th neighbor : O\n",
      "5th neighbor : O\n",
      "6th neighbor : O\n",
      "7th neighbor : O\n",
      "8th neighbor : O\n",
      "9th neighbor : O\n",
      "10th neighbor : O\n",
      "11th neighbor : CO\n",
      "12th neighbor : O\n",
      "\n",
      "\n",
      "9th node smiles : O\n",
      "9th node clique : [13]\n",
      "0th neighbor : C1=CC=C2CC3=C(C=CC(C4(C5CCCCO5)C5=CC=CC=C5CC5=CC=CC=C54)=C3)CC2=C1\n",
      "\n",
      "\n",
      "10th node smiles : C1=CC=C2CC3=C(C=CC(C4(C5CCCCO5)C5=CC=CC=C5CC5=CC=CC=C54)=C3)CC2=C1\n",
      "10th node clique : [2, 3, 4, 5, 8, 9, 11, 12, 14, 15, 16, 17, 18, 19, 20, 21, 22, 25, 27, 29, 31, 32, 33, 34, 35, 37, 38, 40, 41, 43, 44, 47, 48, 49]\n",
      "0th neighbor : CO\n",
      "1th neighbor : O\n",
      "2th neighbor : CO\n",
      "3th neighbor : O\n",
      "4th neighbor : O\n",
      "5th neighbor : O\n",
      "6th neighbor : O\n",
      "7th neighbor : O\n",
      "8th neighbor : O\n",
      "9th neighbor : O\n",
      "10th neighbor : O\n",
      "11th neighbor : CO\n",
      "12th neighbor : O\n",
      "\n",
      "\n",
      "11th node smiles : O\n",
      "11th node clique : [26]\n",
      "0th neighbor : C1=CC=C2CC3=C(C=CC(C4(C5CCCCO5)C5=CC=CC=C5CC5=CC=CC=C54)=C3)CC2=C1\n",
      "\n",
      "\n",
      "12th node smiles : C1=CC=C2CC3=C(C=CC(C4(C5CCCCO5)C5=CC=CC=C5CC5=CC=CC=C54)=C3)CC2=C1\n",
      "12th node clique : [2, 3, 4, 5, 8, 9, 11, 12, 14, 15, 16, 17, 18, 19, 20, 21, 22, 25, 27, 29, 31, 32, 33, 34, 35, 37, 38, 40, 41, 43, 44, 47, 48, 49]\n",
      "0th neighbor : CO\n",
      "1th neighbor : O\n",
      "2th neighbor : CO\n",
      "3th neighbor : O\n",
      "4th neighbor : O\n",
      "5th neighbor : O\n",
      "6th neighbor : O\n",
      "7th neighbor : O\n",
      "8th neighbor : O\n",
      "9th neighbor : O\n",
      "10th neighbor : O\n",
      "11th neighbor : CO\n",
      "12th neighbor : O\n",
      "\n",
      "\n",
      "13th node smiles : O\n",
      "13th node clique : [28]\n",
      "0th neighbor : C1=CC=C2CC3=C(C=CC(C4(C5CCCCO5)C5=CC=CC=C5CC5=CC=CC=C54)=C3)CC2=C1\n",
      "\n",
      "\n",
      "14th node smiles : C1=CC=C2CC3=C(C=CC(C4(C5CCCCO5)C5=CC=CC=C5CC5=CC=CC=C54)=C3)CC2=C1\n",
      "14th node clique : [2, 3, 4, 5, 8, 9, 11, 12, 14, 15, 16, 17, 18, 19, 20, 21, 22, 25, 27, 29, 31, 32, 33, 34, 35, 37, 38, 40, 41, 43, 44, 47, 48, 49]\n",
      "0th neighbor : CO\n",
      "1th neighbor : O\n",
      "2th neighbor : CO\n",
      "3th neighbor : O\n",
      "4th neighbor : O\n",
      "5th neighbor : O\n",
      "6th neighbor : O\n",
      "7th neighbor : O\n",
      "8th neighbor : O\n",
      "9th neighbor : O\n",
      "10th neighbor : O\n",
      "11th neighbor : CO\n",
      "12th neighbor : O\n",
      "\n",
      "\n",
      "15th node smiles : O\n",
      "15th node clique : [30]\n",
      "0th neighbor : C1=CC=C2CC3=C(C=CC(C4(C5CCCCO5)C5=CC=CC=C5CC5=CC=CC=C54)=C3)CC2=C1\n",
      "\n",
      "\n",
      "16th node smiles : C1=CC=C2CC3=C(C=CC(C4(C5CCCCO5)C5=CC=CC=C5CC5=CC=CC=C54)=C3)CC2=C1\n",
      "16th node clique : [2, 3, 4, 5, 8, 9, 11, 12, 14, 15, 16, 17, 18, 19, 20, 21, 22, 25, 27, 29, 31, 32, 33, 34, 35, 37, 38, 40, 41, 43, 44, 47, 48, 49]\n",
      "0th neighbor : CO\n",
      "1th neighbor : O\n",
      "2th neighbor : CO\n",
      "3th neighbor : O\n",
      "4th neighbor : O\n",
      "5th neighbor : O\n",
      "6th neighbor : O\n",
      "7th neighbor : O\n",
      "8th neighbor : O\n",
      "9th neighbor : O\n",
      "10th neighbor : O\n",
      "11th neighbor : CO\n",
      "12th neighbor : O\n",
      "\n",
      "\n",
      "17th node smiles : O\n",
      "17th node clique : [36]\n",
      "0th neighbor : C1=CC=C2CC3=C(C=CC(C4(C5CCCCO5)C5=CC=CC=C5CC5=CC=CC=C54)=C3)CC2=C1\n",
      "\n",
      "\n",
      "18th node smiles : C1=CC=C2CC3=C(C=CC(C4(C5CCCCO5)C5=CC=CC=C5CC5=CC=CC=C54)=C3)CC2=C1\n",
      "18th node clique : [2, 3, 4, 5, 8, 9, 11, 12, 14, 15, 16, 17, 18, 19, 20, 21, 22, 25, 27, 29, 31, 32, 33, 34, 35, 37, 38, 40, 41, 43, 44, 47, 48, 49]\n",
      "0th neighbor : CO\n",
      "1th neighbor : O\n",
      "2th neighbor : CO\n",
      "3th neighbor : O\n",
      "4th neighbor : O\n",
      "5th neighbor : O\n",
      "6th neighbor : O\n",
      "7th neighbor : O\n",
      "8th neighbor : O\n",
      "9th neighbor : O\n",
      "10th neighbor : O\n",
      "11th neighbor : CO\n",
      "12th neighbor : O\n",
      "\n",
      "\n",
      "19th node smiles : O\n",
      "19th node clique : [39]\n",
      "0th neighbor : C1=CC=C2CC3=C(C=CC(C4(C5CCCCO5)C5=CC=CC=C5CC5=CC=CC=C54)=C3)CC2=C1\n",
      "\n",
      "\n",
      "20th node smiles : C1=CC=C2CC3=C(C=CC(C4(C5CCCCO5)C5=CC=CC=C5CC5=CC=CC=C54)=C3)CC2=C1\n",
      "20th node clique : [2, 3, 4, 5, 8, 9, 11, 12, 14, 15, 16, 17, 18, 19, 20, 21, 22, 25, 27, 29, 31, 32, 33, 34, 35, 37, 38, 40, 41, 43, 44, 47, 48, 49]\n",
      "0th neighbor : CO\n",
      "1th neighbor : O\n",
      "2th neighbor : CO\n",
      "3th neighbor : O\n",
      "4th neighbor : O\n",
      "5th neighbor : O\n",
      "6th neighbor : O\n",
      "7th neighbor : O\n",
      "8th neighbor : O\n",
      "9th neighbor : O\n",
      "10th neighbor : O\n",
      "11th neighbor : CO\n",
      "12th neighbor : O\n",
      "\n",
      "\n",
      "21th node smiles : O\n",
      "21th node clique : [42]\n",
      "0th neighbor : C1=CC=C2CC3=C(C=CC(C4(C5CCCCO5)C5=CC=CC=C5CC5=CC=CC=C54)=C3)CC2=C1\n",
      "\n",
      "\n",
      "22th node smiles : C1=CC=C2CC3=C(C=CC(C4(C5CCCCO5)C5=CC=CC=C5CC5=CC=CC=C54)=C3)CC2=C1\n",
      "22th node clique : [2, 3, 4, 5, 8, 9, 11, 12, 14, 15, 16, 17, 18, 19, 20, 21, 22, 25, 27, 29, 31, 32, 33, 34, 35, 37, 38, 40, 41, 43, 44, 47, 48, 49]\n",
      "0th neighbor : CO\n",
      "1th neighbor : O\n",
      "2th neighbor : CO\n",
      "3th neighbor : O\n",
      "4th neighbor : O\n",
      "5th neighbor : O\n",
      "6th neighbor : O\n",
      "7th neighbor : O\n",
      "8th neighbor : O\n",
      "9th neighbor : O\n",
      "10th neighbor : O\n",
      "11th neighbor : CO\n",
      "12th neighbor : O\n",
      "\n",
      "\n",
      "23th node smiles : CO\n",
      "23th node clique : [45, 46]\n",
      "0th neighbor : C1=CC=C2CC3=C(C=CC(C4(C5CCCCO5)C5=CC=CC=C5CC5=CC=CC=C54)=C3)CC2=C1\n",
      "\n",
      "\n",
      "24th node smiles : C1=CC=C2CC3=C(C=CC(C4(C5CCCCO5)C5=CC=CC=C5CC5=CC=CC=C54)=C3)CC2=C1\n",
      "24th node clique : [2, 3, 4, 5, 8, 9, 11, 12, 14, 15, 16, 17, 18, 19, 20, 21, 22, 25, 27, 29, 31, 32, 33, 34, 35, 37, 38, 40, 41, 43, 44, 47, 48, 49]\n",
      "0th neighbor : CO\n",
      "1th neighbor : O\n",
      "2th neighbor : CO\n",
      "3th neighbor : O\n",
      "4th neighbor : O\n",
      "5th neighbor : O\n",
      "6th neighbor : O\n",
      "7th neighbor : O\n",
      "8th neighbor : O\n",
      "9th neighbor : O\n",
      "10th neighbor : O\n",
      "11th neighbor : CO\n",
      "12th neighbor : O\n",
      "\n",
      "\n",
      "25th node smiles : O\n",
      "25th node clique : [50]\n",
      "0th neighbor : C1=CC=C2CC3=C(C=CC(C4(C5CCCCO5)C5=CC=CC=C5CC5=CC=CC=C54)=C3)CC2=C1\n",
      "\n",
      "\n"
     ]
    }
   ],
   "source": [
    "# dfs로 돌아가는 순서가 적힌 것\n",
    "print(mol_batch1[0].smiles)\n",
    "for i in range(len(traces1[0])):\n",
    "    print(f'{i}th node smiles : {traces1[0][i][0].smiles}')\n",
    "    print(f'{i}th node clique : {traces1[0][i][0].clique}')\n",
    "    for j in range(len(traces1[0][i][0].neighbors)):\n",
    "        print(f'{j}th neighbor : {traces1[0][i][0].neighbors[j].smiles}')\n",
    "    print('\\n')"
   ]
  },
  {
   "cell_type": "code",
   "execution_count": 31,
   "id": "5bd1d3b9-6e2d-47df-a321-f1f64c657f9a",
   "metadata": {},
   "outputs": [
    {
     "name": "stdout",
     "output_type": "stream",
     "text": [
      "Cc1cccc(C)c1NC(=O)C[N+](C)(C)CC(O)COc1cccc2ccccc12.[Cl-]\n",
      "0th node smiles : C\n",
      "0th node clique : [0]\n",
      "0th neighbor : C1=CC=CC=C1\n",
      "\n",
      "\n",
      "1th node smiles : C1=CC=CC=C1\n",
      "1th node clique : [1, 2, 3, 4, 5, 7]\n",
      "0th neighbor : C\n",
      "1th neighbor : C\n",
      "2th neighbor : N\n",
      "\n",
      "\n",
      "2th node smiles : C\n",
      "2th node clique : [6]\n",
      "0th neighbor : C1=CC=CC=C1\n",
      "\n",
      "\n",
      "3th node smiles : C1=CC=CC=C1\n",
      "3th node clique : [1, 2, 3, 4, 5, 7]\n",
      "0th neighbor : C\n",
      "1th neighbor : C\n",
      "2th neighbor : N\n",
      "\n",
      "\n",
      "4th node smiles : N\n",
      "4th node clique : [8]\n",
      "0th neighbor : C1=CC=CC=C1\n",
      "1th neighbor : C\n",
      "\n",
      "\n",
      "5th node smiles : C\n",
      "5th node clique : [9]\n",
      "0th neighbor : N\n",
      "1th neighbor : O\n",
      "2th neighbor : C\n",
      "\n",
      "\n",
      "6th node smiles : O\n",
      "6th node clique : [10]\n",
      "0th neighbor : C\n",
      "\n",
      "\n",
      "7th node smiles : C\n",
      "7th node clique : [9]\n",
      "0th neighbor : N\n",
      "1th neighbor : O\n",
      "2th neighbor : C\n",
      "\n",
      "\n",
      "8th node smiles : C\n",
      "8th node clique : [11]\n",
      "0th neighbor : C\n",
      "1th neighbor : [NH4+]\n",
      "\n",
      "\n",
      "9th node smiles : [NH4+]\n",
      "9th node clique : [12]\n",
      "0th neighbor : C\n",
      "1th neighbor : C\n",
      "2th neighbor : C\n",
      "3th neighbor : C\n",
      "\n",
      "\n",
      "10th node smiles : C\n",
      "10th node clique : [15]\n",
      "0th neighbor : [NH4+]\n",
      "1th neighbor : C\n",
      "\n",
      "\n",
      "11th node smiles : C\n",
      "11th node clique : [16]\n",
      "0th neighbor : C\n",
      "1th neighbor : O\n",
      "2th neighbor : C\n",
      "\n",
      "\n",
      "12th node smiles : O\n",
      "12th node clique : [17]\n",
      "0th neighbor : C\n",
      "\n",
      "\n",
      "13th node smiles : C\n",
      "13th node clique : [16]\n",
      "0th neighbor : C\n",
      "1th neighbor : O\n",
      "2th neighbor : C\n",
      "\n",
      "\n",
      "14th node smiles : C\n",
      "14th node clique : [18]\n",
      "0th neighbor : C\n",
      "1th neighbor : O\n",
      "\n",
      "\n",
      "15th node smiles : O\n",
      "15th node clique : [19]\n",
      "0th neighbor : C\n",
      "1th neighbor : C1=CC=C2C=CC=CC2=C1\n",
      "\n",
      "\n",
      "16th node smiles : C1=CC=C2C=CC=CC2=C1\n",
      "16th node clique : [20, 21, 22, 23, 24, 25, 26, 27, 28, 29]\n",
      "0th neighbor : O\n",
      "\n",
      "\n",
      "17th node smiles : O\n",
      "17th node clique : [19]\n",
      "0th neighbor : C\n",
      "1th neighbor : C1=CC=C2C=CC=CC2=C1\n",
      "\n",
      "\n",
      "18th node smiles : C\n",
      "18th node clique : [18]\n",
      "0th neighbor : C\n",
      "1th neighbor : O\n",
      "\n",
      "\n",
      "19th node smiles : C\n",
      "19th node clique : [16]\n",
      "0th neighbor : C\n",
      "1th neighbor : O\n",
      "2th neighbor : C\n",
      "\n",
      "\n",
      "20th node smiles : C\n",
      "20th node clique : [15]\n",
      "0th neighbor : [NH4+]\n",
      "1th neighbor : C\n",
      "\n",
      "\n",
      "21th node smiles : [NH4+]\n",
      "21th node clique : [12]\n",
      "0th neighbor : C\n",
      "1th neighbor : C\n",
      "2th neighbor : C\n",
      "3th neighbor : C\n",
      "\n",
      "\n",
      "22th node smiles : C\n",
      "22th node clique : [13]\n",
      "0th neighbor : [NH4+]\n",
      "\n",
      "\n",
      "23th node smiles : [NH4+]\n",
      "23th node clique : [12]\n",
      "0th neighbor : C\n",
      "1th neighbor : C\n",
      "2th neighbor : C\n",
      "3th neighbor : C\n",
      "\n",
      "\n",
      "24th node smiles : C\n",
      "24th node clique : [14]\n",
      "0th neighbor : [NH4+]\n",
      "\n",
      "\n",
      "25th node smiles : [NH4+]\n",
      "25th node clique : [12]\n",
      "0th neighbor : C\n",
      "1th neighbor : C\n",
      "2th neighbor : C\n",
      "3th neighbor : C\n",
      "\n",
      "\n",
      "26th node smiles : C\n",
      "26th node clique : [11]\n",
      "0th neighbor : C\n",
      "1th neighbor : [NH4+]\n",
      "\n",
      "\n",
      "27th node smiles : C\n",
      "27th node clique : [9]\n",
      "0th neighbor : N\n",
      "1th neighbor : O\n",
      "2th neighbor : C\n",
      "\n",
      "\n",
      "28th node smiles : N\n",
      "28th node clique : [8]\n",
      "0th neighbor : C1=CC=CC=C1\n",
      "1th neighbor : C\n",
      "\n",
      "\n",
      "29th node smiles : C1=CC=CC=C1\n",
      "29th node clique : [1, 2, 3, 4, 5, 7]\n",
      "0th neighbor : C\n",
      "1th neighbor : C\n",
      "2th neighbor : N\n",
      "\n",
      "\n"
     ]
    }
   ],
   "source": [
    "# dfs로 돌아가는 순서가 적힌 것\n",
    "print(mol_batch1[1].smiles)\n",
    "for i in range(len(traces1[1])):\n",
    "    print(f'{i}th node smiles : {traces1[1][i][0].smiles}')\n",
    "    print(f'{i}th node clique : {traces1[1][i][0].clique}')\n",
    "    for j in range(len(traces1[1][i][0].neighbors)):\n",
    "        print(f'{j}th neighbor : {traces1[1][i][0].neighbors[j].smiles}')\n",
    "    print('\\n')"
   ]
  },
  {
   "cell_type": "markdown",
   "id": "e5b5a4e4-42db-4e94-8a1a-1a428765e922",
   "metadata": {},
   "source": [
    "### 아래꺼에서 문제 발생"
   ]
  },
  {
   "cell_type": "code",
   "execution_count": 29,
   "id": "07b01a3e-69d4-495d-acff-ac8135c9a95c",
   "metadata": {},
   "outputs": [],
   "source": [
    "for t in range(max_iter1):\n",
    "    prop_list1 = []\n",
    "    batch_list1 = []\n",
    "    for i, plist in enumerate(traces1):\n",
    "        if t < len(plist):\n",
    "            prop_list1.append(plist[t])\n",
    "            batch_list1.append(i)\n",
    "        else:\n",
    "            prop_list1.append(None)\n",
    "\n",
    "    em_list1 = []\n",
    "    cur_h_nei1, cur_o_nei1 = [], []\n",
    "\n",
    "    for mol_index, prop in enumerate(prop_list1):\n",
    "        if prop is None:\n",
    "            continue\n",
    "        node_x1, real_y1, _ = prop\n",
    "        # Neighbors for message passing (target not included)\n",
    "        cur_nei1 = [h1[(node_y1.idx, node_x1.idx)] for node_y1 in node_x1.neighbors if node_y1.idx != real_y1.idx]\n",
    "        pad_len1 = MAX_NB - len(cur_nei1)\n",
    "        if pad_len1 >= 0:\n",
    "            cur_h_nei1.extend(cur_nei1)\n",
    "            cur_h_nei1.extend([padding1] * pad_len1)\n",
    "        else:\n",
    "            cur_h_nei1.extend(cur_nei1[:MAX_NB])\n",
    "\n",
    "        # Neighbors for stop prediction (all neighbors)\n",
    "        cur_nei1 = [h1[(node_y1.idx, node_x1.idx)] for node_y1 in node_x1.neighbors]\n",
    "        pad_len1 = MAX_NB - len(cur_nei1)\n",
    "        if pad_len1 >= 0:\n",
    "            cur_o_nei1.extend(cur_nei1)\n",
    "            cur_o_nei1.extend([padding1] * pad_len1)\n",
    "        else:\n",
    "            cur_o_nei1.extend(cur_nei1[:MAX_NB])\n",
    "\n",
    "\n",
    "        # Current clique embedding\n",
    "        em_list1.append(torch.sum(node_rep1[mol_index].index_select(0, torch.tensor(node_x1.clique).to(device)), dim=0))\n",
    "        \n",
    "\n",
    "    # Clique embedding\n",
    "    cur_x1 = torch.stack(em_list1, dim=0)\n",
    "\n",
    "    # Message passing\n",
    "    cur_h_nei1 = torch.stack(cur_h_nei1, dim=0).view(-1, MAX_NB, 1200)\n",
    "    new_h1 = GRU(cur_x1, cur_h_nei1, W_z, W_r, U_r, W_h)\n",
    "\n",
    "    # Node Aggregate\n",
    "    cur_o_nei1 = torch.stack(cur_o_nei1, dim=0).view(-1, MAX_NB, 1200)\n",
    "    cur_o1 = cur_o_nei1.sum(dim=1)\n",
    "\n",
    "    # Gather targets\n",
    "    pred_target1, pred_list1 = [], []\n",
    "    stop_target1 = []\n",
    "    prop_list1 = [x for x in prop_list1 if x is not None]\n",
    "    for i, m in enumerate(prop_list1):\n",
    "        node_x1, node_y1, direction1 = m\n",
    "        x1, y1 = node_x1.idx, node_y1.idx\n",
    "        h1[(x1, y1)] = new_h1[i]\n",
    "        node_y1.neighbors.append(node_x1)\n",
    "        if direction1 == 1:\n",
    "            pred_target1.append(node_y1.wid)\n",
    "            pred_list1.append(i)\n",
    "        stop_target1.append(direction1)\n",
    "\n",
    "    # Hidden states for stop prediction\n",
    "    stop_hidden1 = torch.cat([cur_x1, cur_o1], dim=1)\n",
    "    stop_hiddens1.append(stop_hidden1)\n",
    "    stop_targets1.extend(stop_target1)\n",
    "\n",
    "    # Hidden states for clique prediction\n",
    "    if len(pred_list1) > 0:\n",
    "        #batch_list = [batch_list[i] for i in pred_list]\n",
    "        #cur_batch = create_var(torch.LongTensor(batch_list))\n",
    "        #pred_mol_vecs.append(mol_vec.index_select(0, cur_batch))\n",
    "\n",
    "        cur_pred1 = create_var(torch.LongTensor(pred_list1))\n",
    "        pred_hiddens1.append(new_h1.index_select(0, cur_pred1))\n",
    "        pred_targets1.extend(pred_target1)"
   ]
  },
  {
   "cell_type": "code",
   "execution_count": 406,
   "id": "44b28c0c-ba66-4501-ac42-a04601b4ad79",
   "metadata": {},
   "outputs": [],
   "source": [
    "em_list1, cur_o_nei1 = [], []\n",
    "for mol_index1, mol_tree1 in enumerate(mol_batch1):\n",
    "    node_x1 = mol_tree1.nodes[0]\n",
    "    em_list1.append(torch.sum(node_rep1[mol_index1].index_select(0, torch.tensor(node_x1.clique).to(device)), dim=0))\n",
    "    cur_nei1 = [h1[(node_y1.idx, node_x1.idx)] for node_y1 in node_x1.neighbors]\n",
    "    pad_len1 = MAX_NB - len(cur_nei1)\n",
    "    cur_o_nei1.extend(cur_nei1)\n",
    "    cur_o_nei1.extend([padding1] * pad_len1)\n",
    "\n",
    "cur_x1 = torch.stack(em_list1, dim=0)\n",
    "try : \n",
    "    cur_o_nei1 = torch.stack(cur_o_nei1, dim=0).view(-1, MAX_NB, hidden_size)\n",
    "    cur_o1 = cur_o_nei1.sum(dim=1)\n",
    "except : \n",
    "    for mol_index1, mol_tree1 in enumerate(mol_batch1):\n",
    "        print(f'mol_tree smiles is {mol_tree1.smiles}')\n",
    "    print(f'error smiles is {mol_tree1.smiles}')\n",
    "    print(cur_o_nei1)\n",
    "    print(cur_o_nei1.shape)\n",
    "    print(cur_x1)\n",
    "    print(cur_x1.shape)\n",
    "    print(torch.stack(cur_o_nei1, dim=0).view(-1, MAX_NB, hidden_size))\n",
    "    print(torch.stack(cur_o_nei1, dim=0).view(-1, MAX_NB, hidden_size).sum(dim=1))"
   ]
  },
  {
   "cell_type": "code",
   "execution_count": 407,
   "id": "54ba88d3-9e02-4957-8b5a-2e92fa210798",
   "metadata": {},
   "outputs": [
    {
     "data": {
      "text/plain": [
       "torch.Size([2, 15, 1200])"
      ]
     },
     "execution_count": 407,
     "metadata": {},
     "output_type": "execute_result"
    }
   ],
   "source": [
    "cur_o_nei1.shape"
   ]
  },
  {
   "cell_type": "code",
   "execution_count": 408,
   "id": "0a2d78f6-0091-46f4-80a0-f1f6b4cf24c8",
   "metadata": {},
   "outputs": [
    {
     "data": {
      "text/plain": [
       "25"
      ]
     },
     "execution_count": 408,
     "metadata": {},
     "output_type": "execute_result"
    }
   ],
   "source": [
    "t"
   ]
  },
  {
   "cell_type": "markdown",
   "id": "61a27ec4-19e5-49db-9df9-414406aefc99",
   "metadata": {
    "tags": []
   },
   "source": [
    "#### trace에서 1번째 node"
   ]
  },
  {
   "cell_type": "code",
   "execution_count": 92,
   "id": "290a4ee4-23e0-40a8-ad22-3fc4e7be1ad8",
   "metadata": {},
   "outputs": [],
   "source": [
    "#위에서 for문 생략하고 돌리기\n",
    "t=0"
   ]
  },
  {
   "cell_type": "code",
   "execution_count": 93,
   "id": "71cb85a8-56ca-4278-9953-b2543c171dc4",
   "metadata": {},
   "outputs": [],
   "source": [
    "prop_list1 = []\n",
    "batch_list1 = []\n",
    "for i, plist in enumerate(traces1):\n",
    "    if t < len(plist):\n",
    "        prop_list1.append(plist[t])\n",
    "        batch_list1.append(i)\n",
    "    else:\n",
    "        prop_list1.append(None)\n",
    "\n",
    "em_list1 = []\n",
    "cur_h_nei1, cur_o_nei1 = [], []"
   ]
  },
  {
   "cell_type": "code",
   "execution_count": 94,
   "id": "386bf6e3-5894-469c-b980-ce8dc236e7ef",
   "metadata": {},
   "outputs": [
    {
     "data": {
      "text/plain": [
       "'O'"
      ]
     },
     "execution_count": 94,
     "metadata": {},
     "output_type": "execute_result"
    }
   ],
   "source": [
    "prop_list1[0][0].smiles"
   ]
  },
  {
   "cell_type": "code",
   "execution_count": 95,
   "id": "ee4827e9-b83a-4dc0-91bd-81c9c38b4fdc",
   "metadata": {},
   "outputs": [],
   "source": [
    "#for mol_index, prop in enumerate(prop_list1):\n",
    "mol_index = 0\n",
    "prop = prop_list1[0]\n",
    "node_x1, real_y1, _ = prop"
   ]
  },
  {
   "cell_type": "code",
   "execution_count": 96,
   "id": "7bff8a4b-e36b-414b-95f3-413792a895ce",
   "metadata": {},
   "outputs": [
    {
     "data": {
      "text/plain": [
       "(<grover.topology.mol_tree.MolTreeNode_break at 0x7f9a493f7b10>,\n",
       " <grover.topology.mol_tree.MolTreeNode_break at 0x7f9a493f7bd0>)"
      ]
     },
     "execution_count": 96,
     "metadata": {},
     "output_type": "execute_result"
    }
   ],
   "source": [
    "node_x1, real_y1"
   ]
  },
  {
   "cell_type": "code",
   "execution_count": 97,
   "id": "fe6cce95-c41a-4d4f-aaf6-0cc33b24629c",
   "metadata": {},
   "outputs": [],
   "source": [
    "# Neighbors for message passing (target not included)\n",
    "cur_nei1 = [h1[(node_y1.idx, node_x1.idx)] for node_y1 in node_x1.neighbors if node_y1.idx != real_y1.idx]\n",
    "pad_len1 = MAX_NB - len(cur_nei1)\n",
    "if pad_len1 >= 0:\n",
    "    cur_h_nei1.extend(cur_nei1)\n",
    "    cur_h_nei1.extend([padding1] * pad_len1)\n",
    "else:\n",
    "    cur_h_nei1.extend(cur_nei1[:MAX_NB])"
   ]
  },
  {
   "cell_type": "code",
   "execution_count": 98,
   "id": "70a2719f-cbf8-4aa7-a66c-143978125d6f",
   "metadata": {},
   "outputs": [
    {
     "data": {
      "text/plain": [
       "[]"
      ]
     },
     "execution_count": 98,
     "metadata": {},
     "output_type": "execute_result"
    }
   ],
   "source": [
    "cur_nei1"
   ]
  },
  {
   "cell_type": "code",
   "execution_count": 99,
   "id": "778404bd-9167-4e7f-9f0f-d932a061202f",
   "metadata": {},
   "outputs": [
    {
     "data": {
      "text/plain": [
       "[tensor([0., 0., 0.,  ..., 0., 0., 0.], device='cuda:0'),\n",
       " tensor([0., 0., 0.,  ..., 0., 0., 0.], device='cuda:0'),\n",
       " tensor([0., 0., 0.,  ..., 0., 0., 0.], device='cuda:0'),\n",
       " tensor([0., 0., 0.,  ..., 0., 0., 0.], device='cuda:0'),\n",
       " tensor([0., 0., 0.,  ..., 0., 0., 0.], device='cuda:0'),\n",
       " tensor([0., 0., 0.,  ..., 0., 0., 0.], device='cuda:0'),\n",
       " tensor([0., 0., 0.,  ..., 0., 0., 0.], device='cuda:0'),\n",
       " tensor([0., 0., 0.,  ..., 0., 0., 0.], device='cuda:0')]"
      ]
     },
     "execution_count": 99,
     "metadata": {},
     "output_type": "execute_result"
    }
   ],
   "source": [
    "cur_h_nei1"
   ]
  },
  {
   "cell_type": "code",
   "execution_count": 100,
   "id": "f457baff-4bf7-414b-9db6-cb8dec800885",
   "metadata": {},
   "outputs": [],
   "source": [
    "# Neighbors for stop prediction (all neighbors)\n",
    "cur_nei1 = [h1[(node_y1.idx, node_x1.idx)] for node_y1 in node_x1.neighbors]\n",
    "pad_len1 = MAX_NB - len(cur_nei1)\n",
    "if pad_len1 >= 0:\n",
    "    cur_o_nei1.extend(cur_nei1)\n",
    "    cur_o_nei1.extend([padding1] * pad_len1)\n",
    "else:\n",
    "    cur_o_nei1.extend(cur_nei1[:MAX_NB])"
   ]
  },
  {
   "cell_type": "code",
   "execution_count": 101,
   "id": "f0dc723a-4d78-4351-9f1e-ac746066a587",
   "metadata": {},
   "outputs": [
    {
     "data": {
      "text/plain": [
       "[]"
      ]
     },
     "execution_count": 101,
     "metadata": {},
     "output_type": "execute_result"
    }
   ],
   "source": [
    "cur_nei1"
   ]
  },
  {
   "cell_type": "code",
   "execution_count": 102,
   "id": "de8868f5-b6a9-4a47-af46-722964a64279",
   "metadata": {},
   "outputs": [
    {
     "data": {
      "text/plain": [
       "[tensor([0., 0., 0.,  ..., 0., 0., 0.], device='cuda:0'),\n",
       " tensor([0., 0., 0.,  ..., 0., 0., 0.], device='cuda:0'),\n",
       " tensor([0., 0., 0.,  ..., 0., 0., 0.], device='cuda:0'),\n",
       " tensor([0., 0., 0.,  ..., 0., 0., 0.], device='cuda:0'),\n",
       " tensor([0., 0., 0.,  ..., 0., 0., 0.], device='cuda:0'),\n",
       " tensor([0., 0., 0.,  ..., 0., 0., 0.], device='cuda:0'),\n",
       " tensor([0., 0., 0.,  ..., 0., 0., 0.], device='cuda:0'),\n",
       " tensor([0., 0., 0.,  ..., 0., 0., 0.], device='cuda:0')]"
      ]
     },
     "execution_count": 102,
     "metadata": {},
     "output_type": "execute_result"
    }
   ],
   "source": [
    "cur_o_nei1"
   ]
  },
  {
   "cell_type": "code",
   "execution_count": 103,
   "id": "c1a987d5-e1c0-4898-bb72-530614f86ffe",
   "metadata": {},
   "outputs": [],
   "source": [
    "# Current clique embedding  <- 여기서 첫 에러 뜬다!!!\n",
    "#em_list1.append(torch.sum(node_rep1[mol_index].index_select(0, torch.tensor(node_x1.clique).to(device)), dim=0))"
   ]
  },
  {
   "cell_type": "code",
   "execution_count": 104,
   "id": "62950f4a-ef72-4f02-b63c-579cff490145",
   "metadata": {},
   "outputs": [
    {
     "data": {
      "text/plain": [
       "[0]"
      ]
     },
     "execution_count": 104,
     "metadata": {},
     "output_type": "execute_result"
    }
   ],
   "source": [
    "node_x1.clique"
   ]
  },
  {
   "cell_type": "code",
   "execution_count": 105,
   "id": "ab0a61d6-e3a0-480f-b228-1ac03d55372a",
   "metadata": {},
   "outputs": [
    {
     "name": "stdout",
     "output_type": "stream",
     "text": [
      "tensor([[ 0.0000, -0.2322, -0.0604,  ...,  1.2353, -1.4820, -0.2532],\n",
      "        [ 0.9791,  0.0000,  0.2418,  ..., -0.7371, -0.9990, -1.7210],\n",
      "        [ 0.5931,  0.0000,  0.5181,  ..., -0.3096,  0.2467, -0.7316],\n",
      "        ...,\n",
      "        [ 0.0000, -0.1858,  0.7433,  ...,  1.0620, -1.2294, -0.9201],\n",
      "        [ 0.6799,  0.0000,  0.4741,  ..., -0.6495, -1.2709, -0.1777],\n",
      "        [ 0.1575,  0.4379,  0.4260,  ...,  0.8630, -0.0000,  0.7927]],\n",
      "       device='cuda:0', grad_fn=<SliceBackward0>) torch.Size([24, 1200])\n"
     ]
    }
   ],
   "source": [
    "print(node_rep1[mol_index], node_rep1[mol_index].shape)"
   ]
  },
  {
   "cell_type": "code",
   "execution_count": 106,
   "id": "b170b177-6617-475e-a70d-9a4b16e0632e",
   "metadata": {},
   "outputs": [
    {
     "data": {
      "text/plain": [
       "[tensor([ 0.0000, -0.2322, -0.0604,  ...,  1.2353, -1.4820, -0.2532],\n",
       "        device='cuda:0', grad_fn=<SumBackward1>)]"
      ]
     },
     "execution_count": 106,
     "metadata": {},
     "output_type": "execute_result"
    }
   ],
   "source": [
    "em_list1.append(torch.sum(node_rep1[mol_index].index_select(0, torch.tensor(node_x1.clique).to(device)), dim=0))\n",
    "em_list1"
   ]
  },
  {
   "cell_type": "code",
   "execution_count": 107,
   "id": "eb9febe0-6463-4403-ae90-cdb10997ce00",
   "metadata": {},
   "outputs": [
    {
     "data": {
      "text/plain": [
       "tensor([[ 0.0000, -0.2322, -0.0604,  ...,  1.2353, -1.4820, -0.2532]],\n",
       "       device='cuda:0', grad_fn=<StackBackward0>)"
      ]
     },
     "execution_count": 107,
     "metadata": {},
     "output_type": "execute_result"
    }
   ],
   "source": [
    "# Clique embedding\n",
    "cur_x1 = torch.stack(em_list1, dim=0)\n",
    "cur_x1"
   ]
  },
  {
   "cell_type": "code",
   "execution_count": 108,
   "id": "2cec1b4b-dda3-4d39-b96a-e04dd9febcf4",
   "metadata": {},
   "outputs": [
    {
     "data": {
      "text/plain": [
       "tensor([[[0., 0., 0.,  ..., 0., 0., 0.],\n",
       "         [0., 0., 0.,  ..., 0., 0., 0.],\n",
       "         [0., 0., 0.,  ..., 0., 0., 0.],\n",
       "         ...,\n",
       "         [0., 0., 0.,  ..., 0., 0., 0.],\n",
       "         [0., 0., 0.,  ..., 0., 0., 0.],\n",
       "         [0., 0., 0.,  ..., 0., 0., 0.]]], device='cuda:0')"
      ]
     },
     "execution_count": 108,
     "metadata": {},
     "output_type": "execute_result"
    }
   ],
   "source": [
    "# Message passing\n",
    "cur_h_nei1 = torch.stack(cur_h_nei1, dim=0).view(-1, MAX_NB, 1200)\n",
    "new_h1 = GRU(cur_x1, cur_h_nei1, W_z, W_r, U_r, W_h)\n",
    "cur_h_nei1"
   ]
  },
  {
   "cell_type": "code",
   "execution_count": 109,
   "id": "8158be3c-34a8-4d8e-bbcb-8b035ec6c8ee",
   "metadata": {},
   "outputs": [
    {
     "data": {
      "text/plain": [
       "torch.Size([1, 8, 1200])"
      ]
     },
     "execution_count": 109,
     "metadata": {},
     "output_type": "execute_result"
    }
   ],
   "source": [
    "cur_h_nei1.shape"
   ]
  },
  {
   "cell_type": "code",
   "execution_count": 110,
   "id": "4060fb13-d64e-4a4e-8001-940dfbfb0984",
   "metadata": {},
   "outputs": [
    {
     "data": {
      "text/plain": [
       "tensor([[ 0.3083,  0.3083, -0.1806,  ..., -0.1225, -0.0994,  0.0763]],\n",
       "       device='cuda:0', grad_fn=<AddBackward0>)"
      ]
     },
     "execution_count": 110,
     "metadata": {},
     "output_type": "execute_result"
    }
   ],
   "source": [
    "new_h1"
   ]
  },
  {
   "cell_type": "code",
   "execution_count": 111,
   "id": "8bd911b5-a4cb-4e80-8011-82b2a7a44e1f",
   "metadata": {},
   "outputs": [
    {
     "data": {
      "text/plain": [
       "torch.Size([1, 1200])"
      ]
     },
     "execution_count": 111,
     "metadata": {},
     "output_type": "execute_result"
    }
   ],
   "source": [
    "new_h1.shape"
   ]
  },
  {
   "cell_type": "code",
   "execution_count": 112,
   "id": "dbe88c5c-9c49-4565-ad68-a3f7b6ac6711",
   "metadata": {},
   "outputs": [
    {
     "data": {
      "text/plain": [
       "tensor([[[0., 0., 0.,  ..., 0., 0., 0.],\n",
       "         [0., 0., 0.,  ..., 0., 0., 0.],\n",
       "         [0., 0., 0.,  ..., 0., 0., 0.],\n",
       "         ...,\n",
       "         [0., 0., 0.,  ..., 0., 0., 0.],\n",
       "         [0., 0., 0.,  ..., 0., 0., 0.],\n",
       "         [0., 0., 0.,  ..., 0., 0., 0.]]], device='cuda:0')"
      ]
     },
     "execution_count": 112,
     "metadata": {},
     "output_type": "execute_result"
    }
   ],
   "source": [
    "# Node Aggregate\n",
    "cur_o_nei1 = torch.stack(cur_o_nei1, dim=0).view(-1, MAX_NB, 1200)\n",
    "cur_o1 = cur_o_nei1.sum(dim=1)\n",
    "cur_o_nei1"
   ]
  },
  {
   "cell_type": "code",
   "execution_count": 113,
   "id": "0f58ddea-d175-4eaa-b462-239c39d69b39",
   "metadata": {},
   "outputs": [
    {
     "data": {
      "text/plain": [
       "torch.Size([1, 8, 1200])"
      ]
     },
     "execution_count": 113,
     "metadata": {},
     "output_type": "execute_result"
    }
   ],
   "source": [
    "cur_o_nei1.shape"
   ]
  },
  {
   "cell_type": "code",
   "execution_count": 114,
   "id": "b1d06b4d-ab17-4f04-9b73-83bc9eded0c3",
   "metadata": {},
   "outputs": [
    {
     "data": {
      "text/plain": [
       "tensor([[0., 0., 0.,  ..., 0., 0., 0.]], device='cuda:0')"
      ]
     },
     "execution_count": 114,
     "metadata": {},
     "output_type": "execute_result"
    }
   ],
   "source": [
    "cur_o1"
   ]
  },
  {
   "cell_type": "code",
   "execution_count": 115,
   "id": "928d8711-8e36-47db-86b0-e04ea0f3e865",
   "metadata": {},
   "outputs": [
    {
     "data": {
      "text/plain": [
       "torch.Size([1, 1200])"
      ]
     },
     "execution_count": 115,
     "metadata": {},
     "output_type": "execute_result"
    }
   ],
   "source": [
    "cur_o1.shape"
   ]
  },
  {
   "cell_type": "code",
   "execution_count": 116,
   "id": "402d2540-ef84-4ac9-be59-375491b2943e",
   "metadata": {},
   "outputs": [
    {
     "data": {
      "text/plain": [
       "[(<grover.topology.mol_tree.MolTreeNode_break at 0x7f9a493f7b10>,\n",
       "  <grover.topology.mol_tree.MolTreeNode_break at 0x7f9a493f7bd0>,\n",
       "  1),\n",
       " (<grover.topology.mol_tree.MolTreeNode_break at 0x7f9a4944ced0>,\n",
       "  <grover.topology.mol_tree.MolTreeNode_break at 0x7f9a4944cfd0>,\n",
       "  1)]"
      ]
     },
     "execution_count": 116,
     "metadata": {},
     "output_type": "execute_result"
    }
   ],
   "source": [
    "# Gather targets\n",
    "pred_target1, pred_list1 = [], []\n",
    "stop_target1 = []\n",
    "prop_list1 = [x for x in prop_list1 if x is not None]\n",
    "prop_list1"
   ]
  },
  {
   "cell_type": "code",
   "execution_count": 117,
   "id": "e6a16273-e741-43a2-a1e7-523f041452a9",
   "metadata": {},
   "outputs": [
    {
     "ename": "IndexError",
     "evalue": "index 1 is out of bounds for dimension 0 with size 1",
     "output_type": "error",
     "traceback": [
      "\u001b[0;31m---------------------------------------------------------------------------\u001b[0m",
      "\u001b[0;31mIndexError\u001b[0m                                Traceback (most recent call last)",
      "\u001b[0;32m<ipython-input-117-dacb98abff6d>\u001b[0m in \u001b[0;36m<module>\u001b[0;34m\u001b[0m\n\u001b[1;32m      2\u001b[0m     \u001b[0mnode_x1\u001b[0m\u001b[0;34m,\u001b[0m \u001b[0mnode_y1\u001b[0m\u001b[0;34m,\u001b[0m \u001b[0mdirection1\u001b[0m \u001b[0;34m=\u001b[0m \u001b[0mm\u001b[0m\u001b[0;34m\u001b[0m\u001b[0;34m\u001b[0m\u001b[0m\n\u001b[1;32m      3\u001b[0m     \u001b[0mx1\u001b[0m\u001b[0;34m,\u001b[0m \u001b[0my1\u001b[0m \u001b[0;34m=\u001b[0m \u001b[0mnode_x1\u001b[0m\u001b[0;34m.\u001b[0m\u001b[0midx\u001b[0m\u001b[0;34m,\u001b[0m \u001b[0mnode_y1\u001b[0m\u001b[0;34m.\u001b[0m\u001b[0midx\u001b[0m\u001b[0;34m\u001b[0m\u001b[0;34m\u001b[0m\u001b[0m\n\u001b[0;32m----> 4\u001b[0;31m     \u001b[0mh1\u001b[0m\u001b[0;34m[\u001b[0m\u001b[0;34m(\u001b[0m\u001b[0mx1\u001b[0m\u001b[0;34m,\u001b[0m \u001b[0my1\u001b[0m\u001b[0;34m)\u001b[0m\u001b[0;34m]\u001b[0m \u001b[0;34m=\u001b[0m \u001b[0mnew_h1\u001b[0m\u001b[0;34m[\u001b[0m\u001b[0mi\u001b[0m\u001b[0;34m]\u001b[0m\u001b[0;34m\u001b[0m\u001b[0;34m\u001b[0m\u001b[0m\n\u001b[0m\u001b[1;32m      5\u001b[0m     \u001b[0mnode_y1\u001b[0m\u001b[0;34m.\u001b[0m\u001b[0mneighbors\u001b[0m\u001b[0;34m.\u001b[0m\u001b[0mappend\u001b[0m\u001b[0;34m(\u001b[0m\u001b[0mnode_x1\u001b[0m\u001b[0;34m)\u001b[0m\u001b[0;34m\u001b[0m\u001b[0;34m\u001b[0m\u001b[0m\n\u001b[1;32m      6\u001b[0m     \u001b[0;32mif\u001b[0m \u001b[0mdirection1\u001b[0m \u001b[0;34m==\u001b[0m \u001b[0;36m1\u001b[0m\u001b[0;34m:\u001b[0m\u001b[0;34m\u001b[0m\u001b[0;34m\u001b[0m\u001b[0m\n",
      "\u001b[0;31mIndexError\u001b[0m: index 1 is out of bounds for dimension 0 with size 1"
     ]
    }
   ],
   "source": [
    "for i, m in enumerate(prop_list1):\n",
    "    node_x1, node_y1, direction1 = m\n",
    "    x1, y1 = node_x1.idx, node_y1.idx\n",
    "    h1[(x1, y1)] = new_h1[i]\n",
    "    node_y1.neighbors.append(node_x1)\n",
    "    if direction1 == 1:\n",
    "        pred_target1.append(node_y1.wid)\n",
    "        pred_list1.append(i)\n",
    "    stop_target1.append(direction1)"
   ]
  },
  {
   "cell_type": "code",
   "execution_count": null,
   "id": "90872bf6-f3e8-4545-b623-8cb3a384c846",
   "metadata": {},
   "outputs": [],
   "source": [
    "# Gather targets\n",
    "pred_target1, pred_list1 = [], []\n",
    "stop_target1 = []\n",
    "prop_list1 = [x for x in prop_list1 if x is not None]\n",
    "for i, m in enumerate(prop_list1):\n",
    "    node_x1, node_y1, direction1 = m\n",
    "    x1, y1 = node_x1.idx, node_y1.idx\n",
    "    h1[(x1, y1)] = new_h1[i]\n",
    "    node_y1.neighbors.append(node_x1)\n",
    "    if direction1 == 1:\n",
    "        pred_target1.append(node_y1.wid)\n",
    "        pred_list1.append(i)\n",
    "    stop_target1.append(direction1)\n",
    "\n",
    "# Hidden states for stop prediction\n",
    "stop_hidden1 = torch.cat([cur_x1, cur_o1], dim=1)\n",
    "stop_hiddens1.append(stop_hidden1)\n",
    "stop_targets1.extend(stop_target1)\n",
    "\n",
    "# Hidden states for clique prediction\n",
    "if len(pred_list1) > 0:\n",
    "    #batch_list = [batch_list[i] for i in pred_list]\n",
    "    #cur_batch = create_var(torch.LongTensor(batch_list))\n",
    "    #pred_mol_vecs.append(mol_vec.index_select(0, cur_batch))\n",
    "\n",
    "    cur_pred1 = create_var(torch.LongTensor(pred_list1))\n",
    "    pred_hiddens1.append(new_h1.index_select(0, cur_pred1))\n",
    "    pred_targets1.extend(pred_target1)"
   ]
  },
  {
   "cell_type": "code",
   "execution_count": 106,
   "id": "351ecded-ed85-4f7e-98b4-90bb82c8881e",
   "metadata": {},
   "outputs": [],
   "source": [
    "t=0"
   ]
  },
  {
   "cell_type": "code",
   "execution_count": 107,
   "id": "9d32ad2a-e3cd-49f5-af42-d50807624dd0",
   "metadata": {},
   "outputs": [],
   "source": [
    "prop_list1 = []\n",
    "batch_list1 = []\n",
    "for i, plist in enumerate(traces1):\n",
    "    if t < len(plist):\n",
    "        prop_list1.append(plist[t])\n",
    "        batch_list1.append(i)\n",
    "    else:\n",
    "        prop_list1.append(None)\n",
    "\n",
    "em_list1 = []\n",
    "cur_h_nei1, cur_o_nei1 = [], []"
   ]
  },
  {
   "cell_type": "code",
   "execution_count": 108,
   "id": "3c4deee7-6f16-414e-809a-e0acb61b71fd",
   "metadata": {},
   "outputs": [],
   "source": [
    "mol_index = 0\n",
    "prop = prop_list1[0]\n",
    "node_x1, real_y1, _ = prop"
   ]
  },
  {
   "cell_type": "code",
   "execution_count": 109,
   "id": "cb0e6cbf-5922-4b4c-aaa1-2113b0ab81c5",
   "metadata": {},
   "outputs": [
    {
     "data": {
      "text/plain": [
       "(<grover.topology.mol_tree.MolTreeNode_break at 0x7fc16c5d4b50>,\n",
       " <grover.topology.mol_tree.MolTreeNode_break at 0x7fc16c5d4c10>)"
      ]
     },
     "execution_count": 109,
     "metadata": {},
     "output_type": "execute_result"
    }
   ],
   "source": [
    "node_x1, real_y1"
   ]
  },
  {
   "cell_type": "code",
   "execution_count": 110,
   "id": "241212dd-4883-4d34-bbdd-87528aba7674",
   "metadata": {},
   "outputs": [
    {
     "data": {
      "text/plain": [
       "[]"
      ]
     },
     "execution_count": 110,
     "metadata": {},
     "output_type": "execute_result"
    }
   ],
   "source": [
    "cur_nei1 = [h1[(node_y1.idx, node_x1.idx)] for node_y1 in node_x1.neighbors if node_y1.idx != real_y1.idx]\n",
    "cur_nei1"
   ]
  },
  {
   "cell_type": "code",
   "execution_count": 111,
   "id": "9ab16ca2-b0ca-4d07-aada-f7a34a7cdd28",
   "metadata": {},
   "outputs": [
    {
     "data": {
      "text/plain": [
       "[tensor([0., 0., 0.,  ..., 0., 0., 0.], device='cuda:0'),\n",
       " tensor([0., 0., 0.,  ..., 0., 0., 0.], device='cuda:0'),\n",
       " tensor([0., 0., 0.,  ..., 0., 0., 0.], device='cuda:0'),\n",
       " tensor([0., 0., 0.,  ..., 0., 0., 0.], device='cuda:0'),\n",
       " tensor([0., 0., 0.,  ..., 0., 0., 0.], device='cuda:0'),\n",
       " tensor([0., 0., 0.,  ..., 0., 0., 0.], device='cuda:0'),\n",
       " tensor([0., 0., 0.,  ..., 0., 0., 0.], device='cuda:0'),\n",
       " tensor([0., 0., 0.,  ..., 0., 0., 0.], device='cuda:0')]"
      ]
     },
     "execution_count": 111,
     "metadata": {},
     "output_type": "execute_result"
    }
   ],
   "source": [
    "pad_len1 = MAX_NB - len(cur_nei1)\n",
    "if pad_len1 >= 0:\n",
    "    cur_h_nei1.extend(cur_nei1)\n",
    "    cur_h_nei1.extend([padding1] * pad_len1)\n",
    "else:\n",
    "    cur_h_nei1.extend(cur_nei1[:MAX_NB])\n",
    "cur_h_nei1"
   ]
  },
  {
   "cell_type": "code",
   "execution_count": 112,
   "id": "3551a081-4dcd-4bb3-94cc-8aa85798d994",
   "metadata": {},
   "outputs": [
    {
     "data": {
      "text/plain": [
       "[]"
      ]
     },
     "execution_count": 112,
     "metadata": {},
     "output_type": "execute_result"
    }
   ],
   "source": [
    "cur_nei1 = [h1[(node_y1.idx, node_x1.idx)] for node_y1 in node_x1.neighbors]\n",
    "cur_nei1"
   ]
  },
  {
   "cell_type": "code",
   "execution_count": 113,
   "id": "1c180e3f-9c2f-43fd-9cdc-3b827450e941",
   "metadata": {},
   "outputs": [
    {
     "data": {
      "text/plain": [
       "[tensor([0., 0., 0.,  ..., 0., 0., 0.], device='cuda:0'),\n",
       " tensor([0., 0., 0.,  ..., 0., 0., 0.], device='cuda:0'),\n",
       " tensor([0., 0., 0.,  ..., 0., 0., 0.], device='cuda:0'),\n",
       " tensor([0., 0., 0.,  ..., 0., 0., 0.], device='cuda:0'),\n",
       " tensor([0., 0., 0.,  ..., 0., 0., 0.], device='cuda:0'),\n",
       " tensor([0., 0., 0.,  ..., 0., 0., 0.], device='cuda:0'),\n",
       " tensor([0., 0., 0.,  ..., 0., 0., 0.], device='cuda:0'),\n",
       " tensor([0., 0., 0.,  ..., 0., 0., 0.], device='cuda:0')]"
      ]
     },
     "execution_count": 113,
     "metadata": {},
     "output_type": "execute_result"
    }
   ],
   "source": [
    "pad_len1 = MAX_NB - len(cur_nei1)\n",
    "if pad_len1 >= 0:\n",
    "    cur_o_nei1.extend(cur_nei1)\n",
    "    cur_o_nei1.extend([padding1] * pad_len1)\n",
    "else:\n",
    "    cur_o_nei1.extend(cur_nei1[:MAX_NB])\n",
    "cur_o_nei1"
   ]
  },
  {
   "cell_type": "code",
   "execution_count": 114,
   "id": "50e95184-426a-4574-908c-fc3ee6c21ab3",
   "metadata": {},
   "outputs": [
    {
     "data": {
      "text/plain": [
       "[2,\n",
       " 3,\n",
       " 4,\n",
       " 5,\n",
       " 8,\n",
       " 9,\n",
       " 11,\n",
       " 12,\n",
       " 14,\n",
       " 15,\n",
       " 16,\n",
       " 17,\n",
       " 18,\n",
       " 19,\n",
       " 20,\n",
       " 21,\n",
       " 22,\n",
       " 25,\n",
       " 27,\n",
       " 29,\n",
       " 31,\n",
       " 32,\n",
       " 33,\n",
       " 34,\n",
       " 35,\n",
       " 37,\n",
       " 38,\n",
       " 40,\n",
       " 41,\n",
       " 43,\n",
       " 44,\n",
       " 47,\n",
       " 48,\n",
       " 49]"
      ]
     },
     "execution_count": 114,
     "metadata": {},
     "output_type": "execute_result"
    }
   ],
   "source": [
    "node_x1.clique"
   ]
  },
  {
   "cell_type": "code",
   "execution_count": 115,
   "id": "e72ef41f-8680-4628-9663-b8b571a4ae1e",
   "metadata": {},
   "outputs": [
    {
     "data": {
      "text/plain": [
       "tensor([[ 0.3272,  0.1187, -0.0000,  ...,  0.9684, -0.6193, -0.9083],\n",
       "        [ 0.0805,  0.3285,  0.2019,  ...,  0.2417, -0.6316,  0.2726],\n",
       "        [ 1.2339,  1.5807,  0.9370,  ...,  0.0000, -0.5533, -0.3055],\n",
       "        ...,\n",
       "        [-0.3315,  0.7579,  0.8269,  ..., -0.6230, -0.0919, -0.0000],\n",
       "        [ 0.2876,  1.0661,  2.0430,  ..., -0.6365, -1.2341, -0.0990],\n",
       "        [ 0.1914,  0.1172,  0.0374,  ...,  0.4083, -1.1632, -0.6278]],\n",
       "       device='cuda:0', grad_fn=<SliceBackward0>)"
      ]
     },
     "execution_count": 115,
     "metadata": {},
     "output_type": "execute_result"
    }
   ],
   "source": [
    "# 일단 노드의 표현은 정상\n",
    "node_rep1[mol_index]"
   ]
  },
  {
   "cell_type": "code",
   "execution_count": 116,
   "id": "e858fae9-9ad8-4a65-83a6-f08be29caeb4",
   "metadata": {},
   "outputs": [
    {
     "data": {
      "text/plain": [
       "torch.Size([51, 1200])"
      ]
     },
     "execution_count": 116,
     "metadata": {},
     "output_type": "execute_result"
    }
   ],
   "source": [
    "node_rep1[mol_index].shape"
   ]
  },
  {
   "cell_type": "code",
   "execution_count": 117,
   "id": "7baaf6f5-992b-456a-a781-00313ee9a189",
   "metadata": {},
   "outputs": [
    {
     "data": {
      "text/plain": [
       "tensor([ 10.2837,  16.5959,  25.5474,  ..., -16.6817, -23.7419,  -4.6524],\n",
       "       device='cuda:0', grad_fn=<SumBackward1>)"
      ]
     },
     "execution_count": 117,
     "metadata": {},
     "output_type": "execute_result"
    }
   ],
   "source": [
    "torch.sum(node_rep1[mol_index].index_select(0, torch.tensor(node_x1.clique).to(device)), dim=0)"
   ]
  },
  {
   "cell_type": "code",
   "execution_count": 118,
   "id": "342335bb-ec54-4ce1-ac56-e76ad6cb9704",
   "metadata": {},
   "outputs": [],
   "source": [
    "em_list1.append(torch.sum(node_rep1[mol_index].index_select(0, torch.tensor(node_x1.clique).to(device)), dim=0))"
   ]
  },
  {
   "cell_type": "code",
   "execution_count": 119,
   "id": "9b53061a-f7a5-44dd-8185-666a0d4a394f",
   "metadata": {},
   "outputs": [
    {
     "data": {
      "text/plain": [
       "[tensor([ 10.2837,  16.5959,  25.5474,  ..., -16.6817, -23.7419,  -4.6524],\n",
       "        device='cuda:0', grad_fn=<SumBackward1>)]"
      ]
     },
     "execution_count": 119,
     "metadata": {},
     "output_type": "execute_result"
    }
   ],
   "source": [
    "em_list1"
   ]
  },
  {
   "cell_type": "code",
   "execution_count": 120,
   "id": "2248456e-cf46-49ae-9df3-6035f017f128",
   "metadata": {},
   "outputs": [
    {
     "data": {
      "text/plain": [
       "tensor([[ 10.2837,  16.5959,  25.5474,  ..., -16.6817, -23.7419,  -4.6524]],\n",
       "       device='cuda:0', grad_fn=<StackBackward0>)"
      ]
     },
     "execution_count": 120,
     "metadata": {},
     "output_type": "execute_result"
    }
   ],
   "source": [
    "# Clique embedding\n",
    "cur_x1 = torch.stack(em_list1, dim=0)\n",
    "cur_x1"
   ]
  },
  {
   "cell_type": "code",
   "execution_count": 124,
   "id": "2a6295d6-299a-42b7-a7b7-23fd931ddd53",
   "metadata": {},
   "outputs": [
    {
     "ename": "TypeError",
     "evalue": "stack(): argument 'tensors' (position 1) must be tuple of Tensors, not Tensor",
     "output_type": "error",
     "traceback": [
      "\u001b[0;31m---------------------------------------------------------------------------\u001b[0m",
      "\u001b[0;31mTypeError\u001b[0m                                 Traceback (most recent call last)",
      "\u001b[0;32m<ipython-input-124-f92db2557831>\u001b[0m in \u001b[0;36m<module>\u001b[0;34m\u001b[0m\n\u001b[1;32m      1\u001b[0m \u001b[0;31m# Message passing\u001b[0m\u001b[0;34m\u001b[0m\u001b[0;34m\u001b[0m\u001b[0;34m\u001b[0m\u001b[0m\n\u001b[0;32m----> 2\u001b[0;31m \u001b[0mcur_h_nei1\u001b[0m \u001b[0;34m=\u001b[0m \u001b[0mtorch\u001b[0m\u001b[0;34m.\u001b[0m\u001b[0mstack\u001b[0m\u001b[0;34m(\u001b[0m\u001b[0mcur_h_nei1\u001b[0m\u001b[0;34m,\u001b[0m \u001b[0mdim\u001b[0m\u001b[0;34m=\u001b[0m\u001b[0;36m0\u001b[0m\u001b[0;34m)\u001b[0m\u001b[0;34m.\u001b[0m\u001b[0mview\u001b[0m\u001b[0;34m(\u001b[0m\u001b[0;34m-\u001b[0m\u001b[0;36m1\u001b[0m\u001b[0;34m,\u001b[0m \u001b[0mMAX_NB\u001b[0m\u001b[0;34m,\u001b[0m \u001b[0;36m1200\u001b[0m\u001b[0;34m)\u001b[0m\u001b[0;34m\u001b[0m\u001b[0;34m\u001b[0m\u001b[0m\n\u001b[0m\u001b[1;32m      3\u001b[0m \u001b[0mnew_h1\u001b[0m \u001b[0;34m=\u001b[0m \u001b[0mGRU\u001b[0m\u001b[0;34m(\u001b[0m\u001b[0mcur_x1\u001b[0m\u001b[0;34m,\u001b[0m \u001b[0mcur_h_nei1\u001b[0m\u001b[0;34m,\u001b[0m \u001b[0mW_z\u001b[0m\u001b[0;34m,\u001b[0m \u001b[0mW_r\u001b[0m\u001b[0;34m,\u001b[0m \u001b[0mU_r\u001b[0m\u001b[0;34m,\u001b[0m \u001b[0mW_h\u001b[0m\u001b[0;34m)\u001b[0m\u001b[0;34m\u001b[0m\u001b[0;34m\u001b[0m\u001b[0m\n\u001b[1;32m      4\u001b[0m \u001b[0;34m\u001b[0m\u001b[0m\n\u001b[1;32m      5\u001b[0m \u001b[0mnew_h1\u001b[0m\u001b[0;34m\u001b[0m\u001b[0;34m\u001b[0m\u001b[0m\n",
      "\u001b[0;31mTypeError\u001b[0m: stack(): argument 'tensors' (position 1) must be tuple of Tensors, not Tensor"
     ]
    }
   ],
   "source": [
    "# Message passing\n",
    "cur_h_nei1 = torch.stack(cur_h_nei1, dim=0).view(-1, MAX_NB, 1200)\n",
    "new_h1 = GRU(cur_x1, cur_h_nei1, W_z, W_r, U_r, W_h)\n",
    "\n",
    "new_h1"
   ]
  },
  {
   "cell_type": "code",
   "execution_count": null,
   "id": "dcb9475d-b377-4e39-a7a7-ba358f69806d",
   "metadata": {},
   "outputs": [],
   "source": [
    "# Clique embedding\n",
    "cur_x1 = torch.stack(em_list1, dim=0)\n",
    "\n",
    "# Message passing\n",
    "cur_h_nei1 = torch.stack(cur_h_nei1, dim=0).view(-1, MAX_NB, 1200)\n",
    "new_h1 = GRU(cur_x1, cur_h_nei1, W_z, W_r, U_r, W_h)\n",
    "\n",
    "# Node Aggregate\n",
    "cur_o_nei1 = torch.stack(cur_o_nei1, dim=0).view(-1, MAX_NB, 1200)\n",
    "cur_o1 = cur_o_nei1.sum(dim=1)\n",
    "\n",
    "# Gather targets\n",
    "pred_target1, pred_list1 = [], []\n",
    "stop_target1 = []\n",
    "prop_list1 = [x for x in prop_list1 if x is not None]\n",
    "for i, m in enumerate(prop_list1):\n",
    "    node_x1, node_y1, direction1 = m\n",
    "    x1, y1 = node_x1.idx, node_y1.idx\n",
    "    h1[(x1, y1)] = new_h1[i]\n",
    "    node_y1.neighbors.append(node_x1)\n",
    "    if direction1 == 1:\n",
    "        pred_target1.append(node_y1.wid)\n",
    "        pred_list1.append(i)\n",
    "    stop_target1.append(direction1)\n",
    "\n",
    "# Hidden states for stop prediction\n",
    "stop_hidden1 = torch.cat([cur_x1, cur_o1], dim=1)\n",
    "stop_hiddens1.append(stop_hidden1)\n",
    "stop_targets1.extend(stop_target1)\n",
    "\n",
    "# Hidden states for clique prediction\n",
    "if len(pred_list1) > 0:\n",
    "    #batch_list = [batch_list[i] for i in pred_list]\n",
    "    #cur_batch = create_var(torch.LongTensor(batch_list))\n",
    "    #pred_mol_vecs.append(mol_vec.index_select(0, cur_batch))\n",
    "\n",
    "    cur_pred1 = create_var(torch.LongTensor(pred_list1))\n",
    "    pred_hiddens1.append(new_h1.index_select(0, cur_pred1))\n",
    "    pred_targets1.extend(pred_target1)"
   ]
  },
  {
   "cell_type": "code",
   "execution_count": 314,
   "id": "b8b7eda8-87f5-4d1a-8617-9ba45be7fc53",
   "metadata": {},
   "outputs": [],
   "source": [
    "for t in range(max_iter1):\n",
    "    prop_list1 = []\n",
    "    batch_list1 = []\n",
    "    for i, plist in enumerate(traces1):\n",
    "        if t < len(plist):\n",
    "            prop_list1.append(plist[t])\n",
    "            batch_list1.append(i)\n",
    "        else:\n",
    "            prop_list1.append(None)\n",
    "\n",
    "    em_list1 = []\n",
    "    cur_h_nei1, cur_o_nei1 = [], []"
   ]
  },
  {
   "cell_type": "code",
   "execution_count": 312,
   "id": "75e6560d-daf5-4599-b963-2383db604559",
   "metadata": {},
   "outputs": [],
   "source": [
    "for i, plist in enumerate(traces1):\n",
    "    if t < len(plist):\n",
    "        \n",
    "        prop_list1.append(plist[t])\n",
    "        \n",
    "        batch_list1.append(i)\n",
    "    else:\n",
    "        prop_list1.append(None)"
   ]
  },
  {
   "cell_type": "code",
   "execution_count": 315,
   "id": "cc1dccca-5422-44b5-968d-39f744538bfb",
   "metadata": {},
   "outputs": [
    {
     "data": {
      "text/plain": [
       "[None,\n",
       " (<grover.topology.mol_tree.MolTreeNode_break at 0x7f89d95f1e50>,\n",
       "  <grover.topology.mol_tree.MolTreeNode_break at 0x7f89d95f1d90>,\n",
       "  0)]"
      ]
     },
     "execution_count": 315,
     "metadata": {},
     "output_type": "execute_result"
    }
   ],
   "source": [
    "prop_list1"
   ]
  },
  {
   "cell_type": "code",
   "execution_count": 252,
   "id": "ee30e115-2932-4e4d-8405-6cbf6c710eaf",
   "metadata": {},
   "outputs": [],
   "source": [
    "for mol_index, prop in enumerate(prop_list1):\n",
    "    if prop is None:\n",
    "        continue\n",
    "    node_x1, real_y1, _ = prop\n",
    "    # Neighbors for message passing (target not included)\n",
    "    cur_nei1 = [h1[(node_y1.idx, node_x1.idx)] for node_y1 in node_x1.neighbors if node_y1.idx != real_y1.idx]\n",
    "    pad_len1 = MAX_NB - len(cur_nei1)\n",
    "    if pad_len1 >= 0:\n",
    "        cur_h_nei1.extend(cur_nei1)\n",
    "        cur_h_nei1.extend([padding1] * pad_len1)\n",
    "    else:\n",
    "        cur_h_nei1.extend(cur_nei1[:MAX_NB])\n",
    "\n",
    "    # Neighbors for stop prediction (all neighbors)\n",
    "    cur_nei1 = [h1[(node_y1.idx, node_x1.idx)] for node_y1 in node_x1.neighbors]\n",
    "    pad_len1 = MAX_NB - len(cur_nei1)\n",
    "    if pad_len1 >= 0:\n",
    "        cur_o_nei1.extend(cur_nei1)\n",
    "        cur_o_nei1.extend([padding1] * pad_len1)\n",
    "    else:\n",
    "        cur_o_nei1.extend(cur_nei1[:MAX_NB])\n",
    "\n",
    "\n",
    "    # Current clique embedding\n",
    "    em_list1.append(torch.sum(node_rep1[mol_index].index_select(0, torch.tensor(node_x1.clique).to(device)), dim=0))"
   ]
  },
  {
   "cell_type": "code",
   "execution_count": 256,
   "id": "6f632c93-2cf9-4961-aa15-591e52c06d8f",
   "metadata": {},
   "outputs": [
    {
     "data": {
      "text/plain": [
       "[tensor([-0.1315,  1.8345,  4.1327,  ...,  1.7675, -7.3927, -5.3204],\n",
       "        device='cuda:0', grad_fn=<SumBackward1>)]"
      ]
     },
     "execution_count": 256,
     "metadata": {},
     "output_type": "execute_result"
    }
   ],
   "source": [
    "em_list1"
   ]
  },
  {
   "cell_type": "code",
   "execution_count": null,
   "id": "c518b251-d74a-4f6f-97f8-df3246200a18",
   "metadata": {},
   "outputs": [],
   "source": [
    "    \n",
    "\n",
    "\n",
    "\n",
    "\n",
    "\n",
    "\n",
    "\n",
    "    # Hidden states for stop prediction\n",
    "    stop_hidden1 = torch.cat([cur_x1, cur_o1], dim=1)\n",
    "    stop_hiddens1.append(stop_hidden1)\n",
    "    stop_targets1.extend(stop_target1)\n",
    "\n",
    "    # Hidden states for clique prediction\n",
    "    if len(pred_list1) > 0:\n",
    "        #batch_list = [batch_list[i] for i in pred_list]\n",
    "        #cur_batch = create_var(torch.LongTensor(batch_list))\n",
    "        #pred_mol_vecs.append(mol_vec.index_select(0, cur_batch))\n",
    "\n",
    "        cur_pred1 = create_var(torch.LongTensor(pred_list1))\n",
    "        pred_hiddens1.append(new_h1.index_select(0, cur_pred1))\n",
    "        pred_targets1.extend(pred_target1)"
   ]
  },
  {
   "cell_type": "code",
   "execution_count": 257,
   "id": "9a034a82-0ad3-4268-8e4a-625055d7f584",
   "metadata": {},
   "outputs": [
    {
     "data": {
      "text/plain": [
       "tensor([[-0.1315,  1.8345,  4.1327,  ...,  1.7675, -7.3927, -5.3204]],\n",
       "       device='cuda:0', grad_fn=<StackBackward0>)"
      ]
     },
     "execution_count": 257,
     "metadata": {},
     "output_type": "execute_result"
    }
   ],
   "source": [
    "# Clique embedding\n",
    "cur_x1 = torch.stack(em_list1, dim=0)\n",
    "cur_x1"
   ]
  },
  {
   "cell_type": "code",
   "execution_count": 258,
   "id": "ae4159bd-1bdf-4eee-8281-7b9397ab3fda",
   "metadata": {},
   "outputs": [
    {
     "data": {
      "text/plain": [
       "tensor([[-1.0000e+00,  1.0000e+00, -1.0000e+00,  ..., -2.9606e+03,\n",
       "          2.0296e+02,  3.3766e+00]], device='cuda:0', grad_fn=<AddBackward0>)"
      ]
     },
     "execution_count": 258,
     "metadata": {},
     "output_type": "execute_result"
    }
   ],
   "source": [
    "# Message passing\n",
    "cur_h_nei1 = torch.stack(cur_h_nei1, dim=0).view(-1, MAX_NB, 1200)\n",
    "new_h1 = GRU(cur_x1, cur_h_nei1, W_z, W_r, U_r, W_h)\n",
    "new_h1"
   ]
  },
  {
   "cell_type": "code",
   "execution_count": 259,
   "id": "5037e05c-f56c-48b0-a83c-4c026c280385",
   "metadata": {},
   "outputs": [
    {
     "data": {
      "text/plain": [
       "tensor([[-1.4324e+00, -2.0613e+03, -3.9814e-01,  ..., -1.9745e+03,\n",
       "          1.3582e+02,  2.9715e+00]], device='cuda:0', grad_fn=<SumBackward1>)"
      ]
     },
     "execution_count": 259,
     "metadata": {},
     "output_type": "execute_result"
    }
   ],
   "source": [
    "# Node Aggregate\n",
    "cur_o_nei1 = torch.stack(cur_o_nei1, dim=0).view(-1, MAX_NB, 1200)\n",
    "cur_o1 = cur_o_nei1.sum(dim=1)\n",
    "cur_o1"
   ]
  },
  {
   "cell_type": "code",
   "execution_count": 270,
   "id": "f46f88d3-0993-485b-bf89-0612d490878e",
   "metadata": {},
   "outputs": [],
   "source": [
    "# Gather targets\n",
    "pred_target1, pred_list1 = [], []\n",
    "stop_target1 = []\n",
    "prop_list1 = [x for x in prop_list1 if x is not None]\n",
    "for i, m in enumerate(prop_list1):\n",
    "    node_x1, node_y1, direction1 = m\n",
    "    x1, y1 = node_x1.idx, node_y1.idx\n",
    "    h1[(x1, y1)] = new_h1[i]\n",
    "    node_y1.neighbors.append(node_x1)\n",
    "    if direction1 == 1:\n",
    "        pred_target1.append(node_y1.wid)\n",
    "        pred_list1.append(i)\n",
    "    stop_target1.append(direction1)"
   ]
  },
  {
   "cell_type": "code",
   "execution_count": 283,
   "id": "fd060010-300f-4b85-9a92-7ed13f0d82e4",
   "metadata": {},
   "outputs": [
    {
     "data": {
      "text/plain": [
       "[(<grover.topology.mol_tree.MolTreeNode_break at 0x7f89d95f1e50>,\n",
       "  <grover.topology.mol_tree.MolTreeNode_break at 0x7f89d95f1d90>,\n",
       "  0)]"
      ]
     },
     "execution_count": 283,
     "metadata": {},
     "output_type": "execute_result"
    }
   ],
   "source": [
    "prop_list1"
   ]
  },
  {
   "cell_type": "code",
   "execution_count": 381,
   "id": "bda825ee-1c7c-4b2f-a414-02e4788bc44c",
   "metadata": {},
   "outputs": [
    {
     "name": "stdout",
     "output_type": "stream",
     "text": [
      "O=C1COc2ccc(C(=O)COc3ccc([N+](=O)[O-])cc3)cc2N1\n",
      "[tensor([ 0.9287, -0.7753,  0.2930,  ...,  0.6038, -0.3346, -0.9487],\n",
      "       device='cuda:0', grad_fn=<SelectBackward0>)]\n",
      "Cl.O=C1c2cc(CO)cc(O)c2C(=O)c2c1ccc(C1(C3O[C@H](CO)[C@@H](O)[C@H](O)[C@H]3O)c3cccc(O)c3C(=O)c3c(O)cc(CO)cc31)c2O\n",
      "[]\n"
     ]
    }
   ],
   "source": [
    "# Last stop at root\n",
    "em_list1, cur_o_nei1 = [], []\n",
    "for mol_index, mol_tree in enumerate(mol_batch1):\n",
    "    print(mol_tree.smiles)\n",
    "    node_x1 = mol_tree.nodes[0]\n",
    "    em_list1.append(torch.sum(node_rep1[mol_index].index_select(0, torch.tensor(node_x1.clique).to(device)), dim=0))\n",
    "    cur_nei1 = [h1[(node_y1.idx, node_x1.idx)] for node_y1 in node_x1.neighbors]\n",
    "    print(cur_nei1)\n",
    "    pad_len1 = MAX_NB - len(cur_nei1)\n",
    "    cur_o_nei1.extend(cur_nei1)\n",
    "    cur_o_nei1.extend([padding1] * pad_len1)\n",
    "\n",
    "#cur_x1 = torch.stack(em_list1, dim=0)\n",
    "#cur_o_nei1 = torch.stack(cur_o_nei1, dim=0).view(-1, MAX_NB, 1200)\n",
    "#cur_o1 = cur_o_nei1.sum(dim=1)\n"
   ]
  },
  {
   "cell_type": "markdown",
   "id": "bc73f555-c158-4bac-9e0e-32a1556deba5",
   "metadata": {
    "jp-MarkdownHeadingCollapsed": true,
    "tags": []
   },
   "source": [
    "# 분자 3D로 그리기"
   ]
  },
  {
   "cell_type": "code",
   "execution_count": 382,
   "id": "913b78f2-0f52-485b-b1e8-e87cebd39847",
   "metadata": {},
   "outputs": [],
   "source": [
    "import py3Dmol\n",
    "from rdkit import Chem\n",
    "from rdkit.Chem import AllChem\n",
    "\n",
    "smiles = \"Cl.O=C1c2cc(CO)cc(O)c2C(=O)c2c1ccc(C1(C3O[C@H](CO)[C@@H](O)[C@H](O)[C@H]3O)c3cccc(O)c3C(=O)c3c(O)cc(CO)cc31)c2O\"\n",
    "mol = Chem.MolFromSmiles(smiles)\n",
    "mol = Chem.AddHs(mol)\n",
    "AllChem.EmbedMolecule(mol, useExpTorsionAnglePrefs=True, useBasicKnowledge=True)\n",
    "AllChem.MMFFOptimizeMolecule(mol)\n",
    "pdb = Chem.MolToPDBBlock(mol)"
   ]
  },
  {
   "cell_type": "code",
   "execution_count": 383,
   "id": "de9cb787-85b5-4ac2-95be-efee4f3e889f",
   "metadata": {},
   "outputs": [],
   "source": [
    "import py3Dmol\n",
    "\n",
    "def MolTo3DView(mol, size=(600, 600), style=\"stick\", surface=False, opacity=0.5):\n",
    "    \"\"\"Draw molecule in 3D\n",
    "    \n",
    "    Args:\n",
    "    ----\n",
    "        mol: rdMol, molecule to show\n",
    "        size: tuple(int, int), canvas size\n",
    "        style: str, type of drawing molecule\n",
    "               style can be 'line', 'stick', 'sphere', 'carton'\n",
    "        surface, bool, display SAS\n",
    "        opacity, float, opacity of surface, range 0.0-1.0\n",
    "    Return:\n",
    "    ----\n",
    "        viewer: py3Dmol.view, a class for constructing embedded 3Dmol.js views in ipython notebooks.\n",
    "    \"\"\"\n",
    "    assert style in ('line', 'stick', 'sphere', 'carton')\n",
    "    mblock = Chem.MolToMolBlock(mol)\n",
    "    viewer = py3Dmol.view(width=size[0], height=size[1])\n",
    "    viewer.addModel(mblock, 'mol')\n",
    "    viewer.setStyle({style:{}})\n",
    "    if surface:\n",
    "        viewer.addSurface(py3Dmol.SAS, {'opacity': opacity})\n",
    "    viewer.zoomTo()\n",
    "    return viewer"
   ]
  },
  {
   "cell_type": "code",
   "execution_count": 384,
   "id": "6f2dfe8c-3e70-4ae5-8baa-c7407f73c0c5",
   "metadata": {},
   "outputs": [
    {
     "data": {
      "application/3dmoljs_load.v0": "<div id=\"3dmolviewer_16835564247396152\"  style=\"position: relative; width: 600px; height: 300px\">\n        <p id=\"3dmolwarning_16835564247396152\" style=\"background-color:#ffcccc;color:black\">You appear to be running in JupyterLab (or JavaScript failed to load for some other reason).  You need to install the 3dmol extension: <br>\n        <tt>jupyter labextension install jupyterlab_3dmol</tt></p>\n        </div>\n<script>\n\nvar loadScriptAsync = function(uri){\n  return new Promise((resolve, reject) => {\n    //this is to ignore the existence of requirejs amd\n    var savedexports, savedmodule;\n    if (typeof exports !== 'undefined') savedexports = exports;\n    else exports = {}\n    if (typeof module !== 'undefined') savedmodule = module;\n    else module = {}\n\n    var tag = document.createElement('script');\n    tag.src = uri;\n    tag.async = true;\n    tag.onload = () => {\n        exports = savedexports;\n        module = savedmodule;\n        resolve();\n    };\n  var firstScriptTag = document.getElementsByTagName('script')[0];\n  firstScriptTag.parentNode.insertBefore(tag, firstScriptTag);\n});\n};\n\nif(typeof $3Dmolpromise === 'undefined') {\n$3Dmolpromise = null;\n  $3Dmolpromise = loadScriptAsync('https://cdnjs.cloudflare.com/ajax/libs/3Dmol/2.0.1/3Dmol-min.js');\n}\n\nvar viewer_16835564247396152 = null;\nvar warn = document.getElementById(\"3dmolwarning_16835564247396152\");\nif(warn) {\n    warn.parentNode.removeChild(warn);\n}\n$3Dmolpromise.then(function() {\nviewer_16835564247396152 = $3Dmol.createViewer(document.getElementById(\"3dmolviewer_16835564247396152\"),{backgroundColor:\"white\"});\nviewer_16835564247396152.zoomTo();\n\tviewer_16835564247396152.addModel(\"\\n     RDKit          3D\\n\\n 82 87  0  0  0  0  0  0  0  0999 V2000\\n    0.6898    0.0000    0.0000 Cl  0  0  0  0  0  0  0  0  0  0  0  0\\n    4.9957    0.6279    1.1820 O   0  0  0  0  0  0  0  0  0  0  0  0\\n    4.2842    0.2396    0.2451 C   0  0  0  0  0  0  0  0  0  0  0  0\\n    4.8841   -0.3231   -0.9543 C   0  0  0  0  0  0  0  0  0  0  0  0\\n    6.2572   -0.4580   -1.1228 C   0  0  0  0  0  0  0  0  0  0  0  0\\n    6.8037   -0.9926   -2.2636 C   0  0  0  0  0  0  0  0  0  0  0  0\\n    8.2602   -1.1395   -2.4490 C   0  0  0  0  0  0  0  0  0  0  0  0\\n    8.9733   -0.6678   -1.3514 O   0  0  0  0  0  0  0  0  0  0  0  0\\n    5.9857   -1.4185   -3.2950 C   0  0  0  0  0  0  0  0  0  0  0  0\\n    4.6238   -1.2897   -3.1396 C   0  0  0  0  0  0  0  0  0  0  0  0\\n    3.7845   -1.7117   -4.1638 O   0  0  0  0  0  0  0  0  0  0  0  0\\n    4.0860   -0.7503   -1.9861 C   0  0  0  0  0  0  0  0  0  0  0  0\\n    2.6235   -0.6154   -1.8265 C   0  0  0  0  0  0  0  0  0  0  0  0\\n    1.9521   -1.0185   -2.7919 O   0  0  0  0  0  0  0  0  0  0  0  0\\n    2.0133   -0.0522   -0.6277 C   0  0  0  0  0  0  0  0  0  0  0  0\\n    2.8237    0.3709    0.3962 C   0  0  0  0  0  0  0  0  0  0  0  0\\n    2.3176    0.9102    1.5521 C   0  0  0  0  0  0  0  0  0  0  0  0\\n    0.9392    1.0183    1.6617 C   0  0  0  0  0  0  0  0  0  0  0  0\\n    0.0723    0.6125    0.6700 C   0  0  0  0  0  0  0  0  0  0  0  0\\n   -1.4461    0.6916    0.8843 C   0  0  0  0  0  0  0  0  0  0  0  0\\n   -1.8607   -0.7465    0.9264 C   0  0  0  0  0  0  0  0  0  0  0  0\\n   -3.1890   -0.9336    1.1932 O   0  0  0  0  0  0  0  0  0  0  0  0\\n   -3.6419   -2.1966    0.8937 C   0  0  2  0  0  0  0  0  0  0  0  0\\n   -5.1370   -2.2398    1.0940 C   0  0  0  0  0  0  0  0  0  0  0  0\\n   -5.7812   -1.3199    0.2567 O   0  0  0  0  0  0  0  0  0  0  0  0\\n   -2.9343   -3.2816    1.6457 C   0  0  1  0  0  0  0  0  0  0  0  0\\n   -2.7453   -4.4053    0.8195 O   0  0  0  0  0  0  0  0  0  0  0  0\\n   -1.6602   -2.8625    2.2791 C   0  0  2  0  0  0  0  0  0  0  0  0\\n   -1.8144   -2.7701    3.6824 O   0  0  0  0  0  0  0  0  0  0  0  0\\n   -0.9773   -1.6654    1.7216 C   0  0  1  0  0  0  0  0  0  0  0  0\\n    0.0617   -2.2049    0.8758 O   0  0  0  0  0  0  0  0  0  0  0  0\\n   -1.5880    1.4074    2.1386 C   0  0  0  0  0  0  0  0  0  0  0  0\\n   -1.8503    0.8503    3.3627 C   0  0  0  0  0  0  0  0  0  0  0  0\\n   -1.8081    1.5669    4.5389 C   0  0  0  0  0  0  0  0  0  0  0  0\\n   -1.4970    2.8988    4.5410 C   0  0  0  0  0  0  0  0  0  0  0  0\\n   -1.2268    3.5177    3.3192 C   0  0  0  0  0  0  0  0  0  0  0  0\\n   -0.9232    4.8427    3.3891 O   0  0  0  0  0  0  0  0  0  0  0  0\\n   -1.2828    2.7653    2.1574 C   0  0  0  0  0  0  0  0  0  0  0  0\\n   -1.2725    3.5321    0.9168 C   0  0  0  0  0  0  0  0  0  0  0  0\\n   -1.0033    4.7353    0.7960 O   0  0  0  0  0  0  0  0  0  0  0  0\\n   -1.6182    2.7907   -0.3086 C   0  0  0  0  0  0  0  0  0  0  0  0\\n   -1.8960    3.5001   -1.4741 C   0  0  0  0  0  0  0  0  0  0  0  0\\n   -1.5662    4.8586   -1.4728 O   0  0  0  0  0  0  0  0  0  0  0  0\\n   -2.4660    2.8929   -2.5708 C   0  0  0  0  0  0  0  0  0  0  0  0\\n   -2.7771    1.5559   -2.5352 C   0  0  0  0  0  0  0  0  0  0  0  0\\n   -3.4030    0.8500   -3.6903 C   0  0  0  0  0  0  0  0  0  0  0  0\\n   -4.7624    0.6256   -3.5002 O   0  0  0  0  0  0  0  0  0  0  0  0\\n   -2.5066    0.8326   -1.3918 C   0  0  0  0  0  0  0  0  0  0  0  0\\n   -1.9199    1.4503   -0.2771 C   0  0  0  0  0  0  0  0  0  0  0  0\\n    0.6305    0.0773   -0.4731 C   0  0  0  0  0  0  0  0  0  0  0  0\\n   -0.1521   -0.3332   -1.4782 O   0  0  0  0  0  0  0  0  0  0  0  0\\n   -0.6898    0.0000    0.0000 H   0  0  0  0  0  0  0  0  0  0  0  0\\n    6.8777   -0.1190   -0.3058 H   0  0  0  0  0  0  0  0  0  0  0  0\\n    8.5864   -0.5643   -3.3237 H   0  0  0  0  0  0  0  0  0  0  0  0\\n    8.4649   -2.2332   -2.5284 H   0  0  0  0  0  0  0  0  0  0  0  0\\n    8.9713   -1.2793   -0.5838 H   0  0  0  0  0  0  0  0  0  0  0  0\\n    6.4065   -1.8376   -4.1923 H   0  0  0  0  0  0  0  0  0  0  0  0\\n    4.1352   -2.1111   -5.0223 H   0  0  0  0  0  0  0  0  0  0  0  0\\n    2.9510    1.2429    2.3543 H   0  0  0  0  0  0  0  0  0  0  0  0\\n    0.5494    1.4210    2.5863 H   0  0  0  0  0  0  0  0  0  0  0  0\\n   -1.7367   -1.1336   -0.1365 H   0  0  0  0  0  0  0  0  0  0  0  0\\n   -3.4733   -2.3856   -0.1980 H   0  0  0  0  0  0  0  0  0  0  0  0\\n   -5.4461   -2.0984    2.1456 H   0  0  0  0  0  0  0  0  0  0  0  0\\n   -5.5368   -3.2503    0.8131 H   0  0  0  0  0  0  0  0  0  0  0  0\\n   -6.3043   -0.7064    0.8330 H   0  0  0  0  0  0  0  0  0  0  0  0\\n   -3.6306   -3.6284    2.4449 H   0  0  0  0  0  0  0  0  0  0  0  0\\n   -2.1488   -5.0466    1.2887 H   0  0  0  0  0  0  0  0  0  0  0  0\\n   -0.9762   -3.7782    2.1937 H   0  0  0  0  0  0  0  0  0  0  0  0\\n   -2.2215   -3.5986    4.0210 H   0  0  0  0  0  0  0  0  0  0  0  0\\n   -0.3684   -1.1684    2.5057 H   0  0  0  0  0  0  0  0  0  0  0  0\\n    0.4388   -3.0098    1.3066 H   0  0  0  0  0  0  0  0  0  0  0  0\\n   -2.1327   -0.1622    3.4283 H   0  0  0  0  0  0  0  0  0  0  0  0\\n   -2.0197    1.0928    5.4920 H   0  0  0  0  0  0  0  0  0  0  0  0\\n   -1.4556    3.4856    5.4692 H   0  0  0  0  0  0  0  0  0  0  0  0\\n   -0.6888    5.5511    2.7905 H   0  0  0  0  0  0  0  0  0  0  0  0\\n   -1.7659    5.3886   -2.3219 H   0  0  0  0  0  0  0  0  0  0  0  0\\n   -2.6614    3.4647   -3.4426 H   0  0  0  0  0  0  0  0  0  0  0  0\\n   -2.9235   -0.1061   -3.8983 H   0  0  0  0  0  0  0  0  0  0  0  0\\n   -3.3502    1.5596   -4.5672 H   0  0  0  0  0  0  0  0  0  0  0  0\\n   -5.3286    1.2969   -3.9268 H   0  0  0  0  0  0  0  0  0  0  0  0\\n   -2.7842   -0.2060   -1.3555 H   0  0  0  0  0  0  0  0  0  0  0  0\\n   -0.0934   -0.7050   -2.3453 H   0  0  0  0  0  0  0  0  0  0  0  0\\n  2  3  2  0\\n  3  4  1  0\\n  4  5  2  0\\n  5  6  1  0\\n  6  7  1  0\\n  7  8  1  0\\n  6  9  2  0\\n  9 10  1  0\\n 10 11  1  0\\n 10 12  2  0\\n 12 13  1  0\\n 13 14  2  0\\n 13 15  1  0\\n 15 16  2  0\\n 16 17  1  0\\n 17 18  2  0\\n 18 19  1  0\\n 19 20  1  0\\n 20 21  1  0\\n 21 22  1  0\\n 22 23  1  0\\n 23 24  1  0\\n 24 25  1  0\\n 23 26  1  0\\n 26 27  1  0\\n 26 28  1  0\\n 28 29  1  0\\n 28 30  1  0\\n 30 31  1  0\\n 20 32  1  0\\n 32 33  2  0\\n 33 34  1  0\\n 34 35  2  0\\n 35 36  1  0\\n 36 37  1  0\\n 36 38  2  0\\n 38 39  1  0\\n 39 40  2  0\\n 39 41  1  0\\n 41 42  2  0\\n 42 43  1  0\\n 42 44  1  0\\n 44 45  2  0\\n 45 46  1  0\\n 46 47  1  0\\n 45 48  1  0\\n 48 49  2  0\\n 19 50  2  0\\n 50 51  1  0\\n 16  3  1  0\\n 49 20  1  0\\n 12  4  1  0\\n 50 15  1  0\\n 30 21  1  0\\n 38 32  1  0\\n 49 41  1  0\\n  1 52  1  0\\n  5 53  1  0\\n  7 54  1  0\\n  7 55  1  0\\n  8 56  1  0\\n  9 57  1  0\\n 11 58  1  0\\n 17 59  1  0\\n 18 60  1  0\\n 21 61  1  0\\n 23 62  1  6\\n 24 63  1  0\\n 24 64  1  0\\n 25 65  1  0\\n 26 66  1  1\\n 27 67  1  0\\n 28 68  1  1\\n 29 69  1  0\\n 30 70  1  1\\n 31 71  1  0\\n 33 72  1  0\\n 34 73  1  0\\n 35 74  1  0\\n 37 75  1  0\\n 43 76  1  0\\n 44 77  1  0\\n 46 78  1  0\\n 46 79  1  0\\n 47 80  1  0\\n 48 81  1  0\\n 51 82  1  0\\nM  END\\n\",\"mol\");\n\tviewer_16835564247396152.setStyle({\"sphere\": {}});\n\tviewer_16835564247396152.zoomTo();\nviewer_16835564247396152.render();\n});\n</script>",
      "text/html": [
       "<div id=\"3dmolviewer_16835564247396152\"  style=\"position: relative; width: 600px; height: 300px\">\n",
       "        <p id=\"3dmolwarning_16835564247396152\" style=\"background-color:#ffcccc;color:black\">You appear to be running in JupyterLab (or JavaScript failed to load for some other reason).  You need to install the 3dmol extension: <br>\n",
       "        <tt>jupyter labextension install jupyterlab_3dmol</tt></p>\n",
       "        </div>\n",
       "<script>\n",
       "\n",
       "var loadScriptAsync = function(uri){\n",
       "  return new Promise((resolve, reject) => {\n",
       "    //this is to ignore the existence of requirejs amd\n",
       "    var savedexports, savedmodule;\n",
       "    if (typeof exports !== 'undefined') savedexports = exports;\n",
       "    else exports = {}\n",
       "    if (typeof module !== 'undefined') savedmodule = module;\n",
       "    else module = {}\n",
       "\n",
       "    var tag = document.createElement('script');\n",
       "    tag.src = uri;\n",
       "    tag.async = true;\n",
       "    tag.onload = () => {\n",
       "        exports = savedexports;\n",
       "        module = savedmodule;\n",
       "        resolve();\n",
       "    };\n",
       "  var firstScriptTag = document.getElementsByTagName('script')[0];\n",
       "  firstScriptTag.parentNode.insertBefore(tag, firstScriptTag);\n",
       "});\n",
       "};\n",
       "\n",
       "if(typeof $3Dmolpromise === 'undefined') {\n",
       "$3Dmolpromise = null;\n",
       "  $3Dmolpromise = loadScriptAsync('https://cdnjs.cloudflare.com/ajax/libs/3Dmol/2.0.1/3Dmol-min.js');\n",
       "}\n",
       "\n",
       "var viewer_16835564247396152 = null;\n",
       "var warn = document.getElementById(\"3dmolwarning_16835564247396152\");\n",
       "if(warn) {\n",
       "    warn.parentNode.removeChild(warn);\n",
       "}\n",
       "$3Dmolpromise.then(function() {\n",
       "viewer_16835564247396152 = $3Dmol.createViewer(document.getElementById(\"3dmolviewer_16835564247396152\"),{backgroundColor:\"white\"});\n",
       "viewer_16835564247396152.zoomTo();\n",
       "\tviewer_16835564247396152.addModel(\"\\n     RDKit          3D\\n\\n 82 87  0  0  0  0  0  0  0  0999 V2000\\n    0.6898    0.0000    0.0000 Cl  0  0  0  0  0  0  0  0  0  0  0  0\\n    4.9957    0.6279    1.1820 O   0  0  0  0  0  0  0  0  0  0  0  0\\n    4.2842    0.2396    0.2451 C   0  0  0  0  0  0  0  0  0  0  0  0\\n    4.8841   -0.3231   -0.9543 C   0  0  0  0  0  0  0  0  0  0  0  0\\n    6.2572   -0.4580   -1.1228 C   0  0  0  0  0  0  0  0  0  0  0  0\\n    6.8037   -0.9926   -2.2636 C   0  0  0  0  0  0  0  0  0  0  0  0\\n    8.2602   -1.1395   -2.4490 C   0  0  0  0  0  0  0  0  0  0  0  0\\n    8.9733   -0.6678   -1.3514 O   0  0  0  0  0  0  0  0  0  0  0  0\\n    5.9857   -1.4185   -3.2950 C   0  0  0  0  0  0  0  0  0  0  0  0\\n    4.6238   -1.2897   -3.1396 C   0  0  0  0  0  0  0  0  0  0  0  0\\n    3.7845   -1.7117   -4.1638 O   0  0  0  0  0  0  0  0  0  0  0  0\\n    4.0860   -0.7503   -1.9861 C   0  0  0  0  0  0  0  0  0  0  0  0\\n    2.6235   -0.6154   -1.8265 C   0  0  0  0  0  0  0  0  0  0  0  0\\n    1.9521   -1.0185   -2.7919 O   0  0  0  0  0  0  0  0  0  0  0  0\\n    2.0133   -0.0522   -0.6277 C   0  0  0  0  0  0  0  0  0  0  0  0\\n    2.8237    0.3709    0.3962 C   0  0  0  0  0  0  0  0  0  0  0  0\\n    2.3176    0.9102    1.5521 C   0  0  0  0  0  0  0  0  0  0  0  0\\n    0.9392    1.0183    1.6617 C   0  0  0  0  0  0  0  0  0  0  0  0\\n    0.0723    0.6125    0.6700 C   0  0  0  0  0  0  0  0  0  0  0  0\\n   -1.4461    0.6916    0.8843 C   0  0  0  0  0  0  0  0  0  0  0  0\\n   -1.8607   -0.7465    0.9264 C   0  0  0  0  0  0  0  0  0  0  0  0\\n   -3.1890   -0.9336    1.1932 O   0  0  0  0  0  0  0  0  0  0  0  0\\n   -3.6419   -2.1966    0.8937 C   0  0  2  0  0  0  0  0  0  0  0  0\\n   -5.1370   -2.2398    1.0940 C   0  0  0  0  0  0  0  0  0  0  0  0\\n   -5.7812   -1.3199    0.2567 O   0  0  0  0  0  0  0  0  0  0  0  0\\n   -2.9343   -3.2816    1.6457 C   0  0  1  0  0  0  0  0  0  0  0  0\\n   -2.7453   -4.4053    0.8195 O   0  0  0  0  0  0  0  0  0  0  0  0\\n   -1.6602   -2.8625    2.2791 C   0  0  2  0  0  0  0  0  0  0  0  0\\n   -1.8144   -2.7701    3.6824 O   0  0  0  0  0  0  0  0  0  0  0  0\\n   -0.9773   -1.6654    1.7216 C   0  0  1  0  0  0  0  0  0  0  0  0\\n    0.0617   -2.2049    0.8758 O   0  0  0  0  0  0  0  0  0  0  0  0\\n   -1.5880    1.4074    2.1386 C   0  0  0  0  0  0  0  0  0  0  0  0\\n   -1.8503    0.8503    3.3627 C   0  0  0  0  0  0  0  0  0  0  0  0\\n   -1.8081    1.5669    4.5389 C   0  0  0  0  0  0  0  0  0  0  0  0\\n   -1.4970    2.8988    4.5410 C   0  0  0  0  0  0  0  0  0  0  0  0\\n   -1.2268    3.5177    3.3192 C   0  0  0  0  0  0  0  0  0  0  0  0\\n   -0.9232    4.8427    3.3891 O   0  0  0  0  0  0  0  0  0  0  0  0\\n   -1.2828    2.7653    2.1574 C   0  0  0  0  0  0  0  0  0  0  0  0\\n   -1.2725    3.5321    0.9168 C   0  0  0  0  0  0  0  0  0  0  0  0\\n   -1.0033    4.7353    0.7960 O   0  0  0  0  0  0  0  0  0  0  0  0\\n   -1.6182    2.7907   -0.3086 C   0  0  0  0  0  0  0  0  0  0  0  0\\n   -1.8960    3.5001   -1.4741 C   0  0  0  0  0  0  0  0  0  0  0  0\\n   -1.5662    4.8586   -1.4728 O   0  0  0  0  0  0  0  0  0  0  0  0\\n   -2.4660    2.8929   -2.5708 C   0  0  0  0  0  0  0  0  0  0  0  0\\n   -2.7771    1.5559   -2.5352 C   0  0  0  0  0  0  0  0  0  0  0  0\\n   -3.4030    0.8500   -3.6903 C   0  0  0  0  0  0  0  0  0  0  0  0\\n   -4.7624    0.6256   -3.5002 O   0  0  0  0  0  0  0  0  0  0  0  0\\n   -2.5066    0.8326   -1.3918 C   0  0  0  0  0  0  0  0  0  0  0  0\\n   -1.9199    1.4503   -0.2771 C   0  0  0  0  0  0  0  0  0  0  0  0\\n    0.6305    0.0773   -0.4731 C   0  0  0  0  0  0  0  0  0  0  0  0\\n   -0.1521   -0.3332   -1.4782 O   0  0  0  0  0  0  0  0  0  0  0  0\\n   -0.6898    0.0000    0.0000 H   0  0  0  0  0  0  0  0  0  0  0  0\\n    6.8777   -0.1190   -0.3058 H   0  0  0  0  0  0  0  0  0  0  0  0\\n    8.5864   -0.5643   -3.3237 H   0  0  0  0  0  0  0  0  0  0  0  0\\n    8.4649   -2.2332   -2.5284 H   0  0  0  0  0  0  0  0  0  0  0  0\\n    8.9713   -1.2793   -0.5838 H   0  0  0  0  0  0  0  0  0  0  0  0\\n    6.4065   -1.8376   -4.1923 H   0  0  0  0  0  0  0  0  0  0  0  0\\n    4.1352   -2.1111   -5.0223 H   0  0  0  0  0  0  0  0  0  0  0  0\\n    2.9510    1.2429    2.3543 H   0  0  0  0  0  0  0  0  0  0  0  0\\n    0.5494    1.4210    2.5863 H   0  0  0  0  0  0  0  0  0  0  0  0\\n   -1.7367   -1.1336   -0.1365 H   0  0  0  0  0  0  0  0  0  0  0  0\\n   -3.4733   -2.3856   -0.1980 H   0  0  0  0  0  0  0  0  0  0  0  0\\n   -5.4461   -2.0984    2.1456 H   0  0  0  0  0  0  0  0  0  0  0  0\\n   -5.5368   -3.2503    0.8131 H   0  0  0  0  0  0  0  0  0  0  0  0\\n   -6.3043   -0.7064    0.8330 H   0  0  0  0  0  0  0  0  0  0  0  0\\n   -3.6306   -3.6284    2.4449 H   0  0  0  0  0  0  0  0  0  0  0  0\\n   -2.1488   -5.0466    1.2887 H   0  0  0  0  0  0  0  0  0  0  0  0\\n   -0.9762   -3.7782    2.1937 H   0  0  0  0  0  0  0  0  0  0  0  0\\n   -2.2215   -3.5986    4.0210 H   0  0  0  0  0  0  0  0  0  0  0  0\\n   -0.3684   -1.1684    2.5057 H   0  0  0  0  0  0  0  0  0  0  0  0\\n    0.4388   -3.0098    1.3066 H   0  0  0  0  0  0  0  0  0  0  0  0\\n   -2.1327   -0.1622    3.4283 H   0  0  0  0  0  0  0  0  0  0  0  0\\n   -2.0197    1.0928    5.4920 H   0  0  0  0  0  0  0  0  0  0  0  0\\n   -1.4556    3.4856    5.4692 H   0  0  0  0  0  0  0  0  0  0  0  0\\n   -0.6888    5.5511    2.7905 H   0  0  0  0  0  0  0  0  0  0  0  0\\n   -1.7659    5.3886   -2.3219 H   0  0  0  0  0  0  0  0  0  0  0  0\\n   -2.6614    3.4647   -3.4426 H   0  0  0  0  0  0  0  0  0  0  0  0\\n   -2.9235   -0.1061   -3.8983 H   0  0  0  0  0  0  0  0  0  0  0  0\\n   -3.3502    1.5596   -4.5672 H   0  0  0  0  0  0  0  0  0  0  0  0\\n   -5.3286    1.2969   -3.9268 H   0  0  0  0  0  0  0  0  0  0  0  0\\n   -2.7842   -0.2060   -1.3555 H   0  0  0  0  0  0  0  0  0  0  0  0\\n   -0.0934   -0.7050   -2.3453 H   0  0  0  0  0  0  0  0  0  0  0  0\\n  2  3  2  0\\n  3  4  1  0\\n  4  5  2  0\\n  5  6  1  0\\n  6  7  1  0\\n  7  8  1  0\\n  6  9  2  0\\n  9 10  1  0\\n 10 11  1  0\\n 10 12  2  0\\n 12 13  1  0\\n 13 14  2  0\\n 13 15  1  0\\n 15 16  2  0\\n 16 17  1  0\\n 17 18  2  0\\n 18 19  1  0\\n 19 20  1  0\\n 20 21  1  0\\n 21 22  1  0\\n 22 23  1  0\\n 23 24  1  0\\n 24 25  1  0\\n 23 26  1  0\\n 26 27  1  0\\n 26 28  1  0\\n 28 29  1  0\\n 28 30  1  0\\n 30 31  1  0\\n 20 32  1  0\\n 32 33  2  0\\n 33 34  1  0\\n 34 35  2  0\\n 35 36  1  0\\n 36 37  1  0\\n 36 38  2  0\\n 38 39  1  0\\n 39 40  2  0\\n 39 41  1  0\\n 41 42  2  0\\n 42 43  1  0\\n 42 44  1  0\\n 44 45  2  0\\n 45 46  1  0\\n 46 47  1  0\\n 45 48  1  0\\n 48 49  2  0\\n 19 50  2  0\\n 50 51  1  0\\n 16  3  1  0\\n 49 20  1  0\\n 12  4  1  0\\n 50 15  1  0\\n 30 21  1  0\\n 38 32  1  0\\n 49 41  1  0\\n  1 52  1  0\\n  5 53  1  0\\n  7 54  1  0\\n  7 55  1  0\\n  8 56  1  0\\n  9 57  1  0\\n 11 58  1  0\\n 17 59  1  0\\n 18 60  1  0\\n 21 61  1  0\\n 23 62  1  6\\n 24 63  1  0\\n 24 64  1  0\\n 25 65  1  0\\n 26 66  1  1\\n 27 67  1  0\\n 28 68  1  1\\n 29 69  1  0\\n 30 70  1  1\\n 31 71  1  0\\n 33 72  1  0\\n 34 73  1  0\\n 35 74  1  0\\n 37 75  1  0\\n 43 76  1  0\\n 44 77  1  0\\n 46 78  1  0\\n 46 79  1  0\\n 47 80  1  0\\n 48 81  1  0\\n 51 82  1  0\\nM  END\\n\",\"mol\");\n",
       "\tviewer_16835564247396152.setStyle({\"sphere\": {}});\n",
       "\tviewer_16835564247396152.zoomTo();\n",
       "viewer_16835564247396152.render();\n",
       "});\n",
       "</script>"
      ]
     },
     "metadata": {},
     "output_type": "display_data"
    }
   ],
   "source": [
    "from rdkit import Chem\n",
    "from rdkit.Chem import AllChem\n",
    "\n",
    "def smi2conf(smiles):\n",
    "    '''Convert SMILES to rdkit.Mol with 3D coordinates'''\n",
    "    mol = Chem.MolFromSmiles(smiles)\n",
    "    if mol is not None:\n",
    "        mol = Chem.AddHs(mol)\n",
    "        AllChem.EmbedMolecule(mol)\n",
    "        AllChem.MMFFOptimizeMolecule(mol, maxIters=200)\n",
    "        return mol\n",
    "    else:\n",
    "        return None\n",
    "\n",
    "smi = 'Cl.O=C1c2cc(CO)cc(O)c2C(=O)c2c1ccc(C1(C3O[C@H](CO)[C@@H](O)[C@H](O)[C@H]3O)c3cccc(O)c3C(=O)c3c(O)cc(CO)cc31)c2O'\n",
    "conf = smi2conf(smi)\n",
    "viewer = MolTo3DView(conf, size=(600, 300), style='sphere')\n",
    "viewer.show()"
   ]
  },
  {
   "cell_type": "code",
   "execution_count": 224,
   "id": "3e5cf0d0-9c1a-40da-b336-fc304271190e",
   "metadata": {},
   "outputs": [
    {
     "data": {
      "application/vnd.jupyter.widget-view+json": {
       "model_id": "6975fd1ad82247e0a8d33377e71c7a8b",
       "version_major": 2,
       "version_minor": 0
      },
      "text/plain": [
       "interactive(children=(Output(),), _dom_classes=('widget-interact',))"
      ]
     },
     "metadata": {},
     "output_type": "display_data"
    },
    {
     "data": {
      "text/plain": [
       "<function __main__.conf_viewer()>"
      ]
     },
     "execution_count": 224,
     "metadata": {},
     "output_type": "execute_result"
    }
   ],
   "source": [
    "from ipywidgets import interact,fixed,IntSlider\n",
    "import ipywidgets\n",
    "\n",
    "\n",
    "def conf_viewer():\n",
    "    mol = conf\n",
    "    return MolTo3DView(mol).show()\n",
    "\n",
    "interact(conf_viewer, idx=ipywidgets.IntSlider(step=1))"
   ]
  },
  {
   "cell_type": "code",
   "execution_count": 225,
   "id": "dcc955bb-cbb2-4f7e-9aab-71cb0450f80e",
   "metadata": {},
   "outputs": [
    {
     "data": {
      "application/vnd.jupyter.widget-view+json": {
       "model_id": "f7ff6e025c9a4893a060abf801829d8d",
       "version_major": 2,
       "version_minor": 0
      },
      "text/plain": [
       "interactive(children=(Dropdown(description='Style:', options=('line', 'stick', 'sphere'), value='line'), Outpu…"
      ]
     },
     "metadata": {},
     "output_type": "display_data"
    },
    {
     "data": {
      "text/plain": [
       "<function __main__.style_selector(s)>"
      ]
     },
     "execution_count": 225,
     "metadata": {},
     "output_type": "execute_result"
    }
   ],
   "source": [
    "from ipywidgets import interact,fixed,IntSlider\n",
    "import ipywidgets\n",
    "\n",
    "smis = [ 'COc3nc(OCc2ccc(C#N)c(c1ccc(C(=O)O)cc1)c2P(=O)(O)O)ccc3C[NH2+]CC(I)NC(=O)C(F)(Cl)Br',\n",
    "    'CC(NCCNCC1=CC=C(OCC2=C(C)C(C3=CC=CC=C3)=CC=C2)N=C1OC)=O',\n",
    "    'Cc1c(COc2cc(OCc3cccc(c3)C#N)c(CN3C[C@H](O)C[C@H]3C(O)=O)cc2Cl)cccc1-c1ccc2OCCOc2c1',\n",
    "    'CCCCC(=O)NCCCCC(=O)NCCCCCC(=O)[O-]',\n",
    "    \"CC(NCCNCC1=CC=C(OCC2=C(C)C(C3=CC=CC=C3)=CC=C2)N=C1OC)=O\"]\n",
    "\n",
    "def style_selector(s):\n",
    "    return MolTo3DView(conf, style=s).show()\n",
    "\n",
    "interact(style_selector, \n",
    "         idx=ipywidgets.IntSlider(step=1),\n",
    "         s=ipywidgets.Dropdown(\n",
    "            options=['line', 'stick', 'sphere'],\n",
    "            value='line',\n",
    "            description='Style:'))"
   ]
  },
  {
   "cell_type": "markdown",
   "id": "ed9e6d75-b425-46b5-9d78-c86e843e0ca8",
   "metadata": {
    "jp-MarkdownHeadingCollapsed": true,
    "tags": []
   },
   "source": [
    "# allinone으로 moltree label 생성과정 확인"
   ]
  },
  {
   "cell_type": "code",
   "execution_count": 1,
   "id": "429aeb15-2ccd-4213-b3a6-9a0d9d067a51",
   "metadata": {},
   "outputs": [],
   "source": [
    "'''\n",
    "history\n",
    "1. this was made for just preprocess features all in one\n",
    "2. make temp file and can continue process\n",
    "3. if some smiles use too many time to process, then skip\n",
    "3.1 add logger\n",
    "'''\n",
    "\n",
    "import pickle\n",
    "import os\n",
    "import csv\n",
    "import shutil\n",
    "import pandas as pd\n",
    "import time\n",
    "#import torch\n",
    "from collections import Counter\n",
    "from typing import Callable, Union\n",
    "\n",
    "from argparse import ArgumentParser, Namespace\n",
    "import numpy as np\n",
    "from multiprocessing import Pool\n",
    "from typing import List, Tuple\n",
    "from tqdm import tqdm\n",
    "from rdkit import RDLogger\n",
    "\n",
    "import sys\n",
    "#sys.path.append(os.path.dirname(os.path.dirname(os.path.realpath(__file__))))\n",
    "\n",
    "import grover.util.utils as fea_utils\n",
    "from grover.util.utils import get_data, makedirs, load_features, save_features, create_logger\n",
    "from grover.data.molfeaturegenerator import get_available_features_generators, \\\n",
    "    get_features_generator\n",
    "from grover.data.task_labels import rdkit_functional_group_label_features_generator\n",
    "from grover.topology.mol_tree import *\n",
    "from grover.topology.chemutils import *\n",
    "\n",
    "from rdkit import Chem\n",
    "from descriptastorus.descriptors import rdDescriptors\n",
    "\n",
    "from grover.data.molfeaturegenerator import register_features_generator\n",
    "\n",
    "def load_smiles(data_path):\n",
    "    with open(data_path) as f:\n",
    "        reader = csv.reader(f)\n",
    "        header = next(reader)\n",
    "        res = []\n",
    "        for line in reader:\n",
    "            res.append(line)\n",
    "    return res, header\n",
    "\n",
    "def save_smiles(data_path, index, data, header='smiles'):\n",
    "    fn = os.path.join(data_path, str(index) + \".csv\")\n",
    "    with open(fn, \"w\") as f:\n",
    "        fw = csv.writer(f)\n",
    "        fw.writerow([header])\n",
    "        for d in data:\n",
    "            fw.writerow([d])\n",
    "    f.close()\n",
    "    \n",
    "def save_features(data_path, index, features):\n",
    "    fn = os.path.join(data_path, str(index) + \".npz\")\n",
    "    np.savez_compressed(fn, features=features)\n",
    "    \n",
    "def save_moltrees(data_path, index, moltrees):\n",
    "    fn = os.path.join(data_path, str(index) + \".p\")\n",
    "    with open(fn, 'wb') as file: \n",
    "        pickle.dump(moltrees, file)\n",
    "    file.close()\n",
    "\n",
    "def save_cliques(data_path, index, cliques):\n",
    "    clique_path = data_path+f'/clique{index}.txt'\n",
    "    with open(clique_path, 'w') as file:\n",
    "        for c in cliques:\n",
    "            file.write(c)\n",
    "            file.write('\\n')\n",
    "    file.close()\n",
    "    \n",
    "def load_checkpoint(process_path):\n",
    "    with open(process_path, 'r') as file:\n",
    "        line1 = file.readline()\n",
    "        line2 = file.readline()\n",
    "        temp_i = int(line1.split(' \\n')[0])\n",
    "        temp_num = int(line2)\n",
    "    file.close()\n",
    "    return temp_i, temp_num\n",
    "\n",
    "def load_cliques(data_path, index):\n",
    "    cliques = set()\n",
    "    clique_path = args.output_path+f'/cliques/clique{index}.txt'\n",
    "    with open(clique_path, 'r') as file:\n",
    "        for line in file:\n",
    "            cliques.add(line)\n",
    "    file.close()\n",
    "    return cliques\n",
    "\n",
    "def enum_assemble(node, neighbors, prev_nodes=[], prev_amap=[]):\n",
    "    all_attach_confs = []\n",
    "    singletons = [nei_node.nid for nei_node in neighbors + prev_nodes if nei_node.mol.GetNumAtoms() == 1]\n",
    "    e_atime = time.time()\n",
    "    \n",
    "    def search(cur_amap, depth):\n",
    "        if len(all_attach_confs) > MAX_NCAND:\n",
    "            return\n",
    "        if depth == len(neighbors):\n",
    "            all_attach_confs.append(cur_amap)\n",
    "            return\n",
    "\n",
    "        nei_node = neighbors[depth]\n",
    "        cand_amap = enum_attach(node.mol, nei_node, cur_amap, singletons)\n",
    "        cand_smiles = set()\n",
    "        candidates = []\n",
    "        \n",
    "        for amap in cand_amap:\n",
    "            cand_mol = local_attach(node.mol, neighbors[:depth + 1], prev_nodes, amap)\n",
    "            cand_mol = sanitize(cand_mol)\n",
    "            if cand_mol is None:\n",
    "                continue\n",
    "            smiles = get_smiles(cand_mol)\n",
    "            if smiles in cand_smiles:\n",
    "                continue\n",
    "            cand_smiles.add(smiles)\n",
    "            candidates.append(amap)\n",
    "            cdtime = time.time() - e_atime\n",
    "            if cdtime > 50:\n",
    "                return [3]\n",
    "            \n",
    "\n",
    "        if len(candidates) == 0:\n",
    "            return\n",
    "\n",
    "        for new_amap in candidates:\n",
    "            time1 = search(new_amap, depth + 1)\n",
    "            if time1==[3]:\n",
    "                return time1\n",
    "\n",
    "    time2 = search(prev_amap, 0)\n",
    "    if time2 == [3]:\n",
    "        return [3]\n",
    "    cand_smiles = set()\n",
    "    candidates = []\n",
    "    for amap in all_attach_confs:\n",
    "        cand_mol = local_attach(node.mol, neighbors, prev_nodes, amap)\n",
    "        cand_mol = Chem.MolFromSmiles(Chem.MolToSmiles(cand_mol))\n",
    "        smiles = Chem.MolToSmiles(cand_mol)\n",
    "        if smiles in cand_smiles:\n",
    "            continue\n",
    "        cand_smiles.add(smiles)\n",
    "        Chem.Kekulize(cand_mol)\n",
    "        candidates.append((smiles, cand_mol, amap))\n",
    "\n",
    "    return candidates\n",
    "\n",
    "class MolTreeNode(object):\n",
    "\n",
    "    def __init__(self, smiles, clique=[]):\n",
    "        self.smiles = smiles\n",
    "        self.mol = get_mol(self.smiles)\n",
    "        #self.mol = cmol\n",
    "\n",
    "        self.clique = [x for x in clique] #copy\n",
    "        self.neighbors = []\n",
    "        \n",
    "    def add_neighbor(self, nei_node):\n",
    "        self.neighbors.append(nei_node)\n",
    "\n",
    "    def recover(self, original_mol):\n",
    "        clique = []\n",
    "        clique.extend(self.clique)\n",
    "        if not self.is_leaf:\n",
    "            for cidx in self.clique:\n",
    "                original_mol.GetAtomWithIdx(cidx).SetAtomMapNum(self.nid)\n",
    "\n",
    "        for nei_node in self.neighbors:\n",
    "            clique.extend(nei_node.clique)\n",
    "            if nei_node.is_leaf: #Leaf node, no need to mark \n",
    "                continue\n",
    "            for cidx in nei_node.clique:\n",
    "                #allow singleton node override the atom mapping\n",
    "                if cidx not in self.clique or len(nei_node.clique) == 1:\n",
    "                    atom = original_mol.GetAtomWithIdx(cidx)\n",
    "                    atom.SetAtomMapNum(nei_node.nid)\n",
    "\n",
    "        clique = list(set(clique))\n",
    "        label_mol = get_clique_mol(original_mol, clique)\n",
    "        self.label = Chem.MolToSmiles(Chem.MolFromSmiles(get_smiles(label_mol)))\n",
    "        self.label_mol = get_mol(self.label)\n",
    "\n",
    "        for cidx in clique:\n",
    "            original_mol.GetAtomWithIdx(cidx).SetAtomMapNum(0)\n",
    "\n",
    "        return self.label\n",
    "    \n",
    "    def assemble(self):\n",
    "        neighbors = [nei for nei in self.neighbors if nei.mol.GetNumAtoms() > 1]\n",
    "        neighbors = sorted(neighbors, key=lambda x:x.mol.GetNumAtoms(), reverse=True)\n",
    "        singletons = [nei for nei in self.neighbors if nei.mol.GetNumAtoms() == 1]\n",
    "        neighbors = singletons + neighbors\n",
    "\n",
    "        cands = enum_assemble(self, neighbors)\n",
    "        if cands == [3]:\n",
    "            return [3]\n",
    "        if len(cands) > 0:\n",
    "            self.cands, self.cand_mols, _ = zip(*cands)\n",
    "            self.cands = list(self.cands)\n",
    "            self.cand_mols = list(self.cand_mols)\n",
    "        else:\n",
    "            self.cands = []\n",
    "            self.cand_mols = []\n",
    "            \n",
    "class MolTree(object):\n",
    "\n",
    "    def __init__(self, smiles):\n",
    "        self.smiles = smiles\n",
    "        self.mol = get_mol(smiles)\n",
    "\n",
    "        '''\n",
    "        #Stereo Generation\n",
    "        mol = Chem.MolFromSmiles(smiles)\n",
    "        self.smiles3D = Chem.MolToSmiles(mol, isomericSmiles=True)\n",
    "        self.smiles2D = Chem.MolToSmiles(mol)\n",
    "        self.stereo_cands = decode_stereo(self.smiles2D)\n",
    "        '''\n",
    "\n",
    "        cliques, edges = brics_decomp(self.mol)\n",
    "        if len(edges) <= 1:\n",
    "            cliques, edges = tree_decomp(self.mol)\n",
    "        self.nodes = []\n",
    "        root = 0\n",
    "        for i,c in enumerate(cliques):\n",
    "            cmol = get_clique_mol(self.mol, c)\n",
    "            node = MolTreeNode(get_smiles(cmol), c)\n",
    "            self.nodes.append(node)\n",
    "            if min(c) == 0:\n",
    "                root = i\n",
    "\n",
    "        for x,y in edges:\n",
    "            self.nodes[x].add_neighbor(self.nodes[y])\n",
    "            self.nodes[y].add_neighbor(self.nodes[x])\n",
    "        \n",
    "        if root > 0:\n",
    "            self.nodes[0],self.nodes[root] = self.nodes[root],self.nodes[0]\n",
    "\n",
    "        for i,node in enumerate(self.nodes):\n",
    "            node.nid = i + 1\n",
    "            if len(node.neighbors) > 1: #Leaf node mol is not marked\n",
    "                set_atommap(node.mol, node.nid)\n",
    "            node.is_leaf = (len(node.neighbors) == 1)\n",
    "\n",
    "    def size(self):\n",
    "        return len(self.nodes)\n",
    "\n",
    "    def recover(self):\n",
    "        for node in self.nodes:\n",
    "            node.recover(self.mol)\n",
    "\n",
    "    def assemble(self):\n",
    "        for node in self.nodes:\n",
    "            assem_time = node.assemble()\n",
    "            if assem_time == [3] : \n",
    "                return assem_time\n",
    "\n",
    "Molecule = Union[str, Chem.Mol]\n",
    "FeaturesGenerator = Callable[[Molecule], np.ndarray]\n",
    "\n",
    "# The functional group descriptors in RDkit.\n",
    "RDKIT_PROPS = ['fr_Al_COO', 'fr_Al_OH', 'fr_Al_OH_noTert', 'fr_ArN',\n",
    "               'fr_Ar_COO', 'fr_Ar_N', 'fr_Ar_NH', 'fr_Ar_OH', 'fr_COO', 'fr_COO2',\n",
    "               'fr_C_O', 'fr_C_O_noCOO', 'fr_C_S', 'fr_HOCCN', 'fr_Imine', 'fr_NH0',\n",
    "               'fr_NH1', 'fr_NH2', 'fr_N_O', 'fr_Ndealkylation1', 'fr_Ndealkylation2',\n",
    "               'fr_Nhpyrrole', 'fr_SH', 'fr_aldehyde', 'fr_alkyl_carbamate', 'fr_alkyl_halide',\n",
    "               'fr_allylic_oxid', 'fr_amide', 'fr_amidine', 'fr_aniline', 'fr_aryl_methyl',\n",
    "               'fr_azide', 'fr_azo', 'fr_barbitur', 'fr_benzene', 'fr_benzodiazepine',\n",
    "               'fr_bicyclic', 'fr_diazo', 'fr_dihydropyridine', 'fr_epoxide', 'fr_ester',\n",
    "               'fr_ether', 'fr_furan', 'fr_guanido', 'fr_halogen', 'fr_hdrzine', 'fr_hdrzone',\n",
    "               'fr_imidazole', 'fr_imide', 'fr_isocyan', 'fr_isothiocyan', 'fr_ketone',\n",
    "               'fr_ketone_Topliss', 'fr_lactam', 'fr_lactone', 'fr_methoxy', 'fr_morpholine',\n",
    "               'fr_nitrile', 'fr_nitro', 'fr_nitro_arom', 'fr_nitro_arom_nonortho',\n",
    "               'fr_nitroso', 'fr_oxazole', 'fr_oxime', 'fr_para_hydroxylation', 'fr_phenol',\n",
    "               'fr_phenol_noOrthoHbond', 'fr_phos_acid', 'fr_phos_ester', 'fr_piperdine',\n",
    "               'fr_piperzine', 'fr_priamide', 'fr_prisulfonamd', 'fr_pyridine', 'fr_quatN',\n",
    "               'fr_sulfide', 'fr_sulfonamd', 'fr_sulfone', 'fr_term_acetylene', 'fr_tetrazole',\n",
    "               'fr_thiazole', 'fr_thiocyan', 'fr_thiophene', 'fr_unbrch_alkane', 'fr_urea']\n",
    "\n",
    "BOND_FEATURES = ['BondType', 'Stereo', 'BondDir']\n",
    "\n",
    "@register_features_generator('allinone')\n",
    "def make_fgfeatures_moltree_clique(mol):\n",
    "    \"\"\"\n",
    "    Generates functional group label for a molecule using RDKit.\n",
    "\n",
    "    :param mol: A molecule (i.e. either a SMILES string or an RDKit molecule).\n",
    "    :return: A 1D numpy array containing the RDKit 2D features.\n",
    "    \"\"\"\n",
    "    try : \n",
    "        smiles = Chem.MolToSmiles(mol, isomericSmiles=True) if type(mol) != str else mol\n",
    "        #test GetNumHeavyAtoms()\n",
    "        mol = Chem.MolFromSmiles(smiles)\n",
    "        mol.GetNumHeavyAtoms()\n",
    "\n",
    "        #make fg features\n",
    "        generator = rdDescriptors.RDKit2D(RDKIT_PROPS)\n",
    "        features = generator.process(smiles)[1:]\n",
    "        features = np.array(features)\n",
    "        features[features != 0] = 1\n",
    "\n",
    "        #make cliuqe\n",
    "        mol_tree = MolTree(smiles)\n",
    "        cset=[]\n",
    "        for node in mol_tree.nodes:\n",
    "            cset.append(node.smiles)\n",
    "\n",
    "        #make moltree and if smiles is need too much time, break\n",
    "        mol_tree.recover()\n",
    "        t=mol_tree.assemble()\n",
    "        if t == [3]:\n",
    "            info(f'smiles {smiles} is take too much time so break')\n",
    "            return None, None, None, None\n",
    "        \n",
    "        return smiles, features, cset, mol_tree\n",
    "    \n",
    "    except : \n",
    "        return None, None, None, None\n",
    "    \n",
    "#execute"
   ]
  },
  {
   "cell_type": "code",
   "execution_count": 8,
   "id": "b1174abb-e443-41da-a2f4-a60c114eea27",
   "metadata": {},
   "outputs": [],
   "source": [
    "res = ['Cl.O=C1c2cc(CO)cc(O)c2C(=O)c2c1ccc(C1(C3O[C@H](CO)[C@@H](O)[C@H](O)[C@H]3O)c3cccc(O)c3C(=O)c3c(O)cc(CO)cc31)c2O', 'CCCOc1ccccc1-c1nnc(NN)s1.Cl', 'CC[N+](C)(CC)CCC(=O)Nc1ccc2c(c1)C(=O)c1cc(NC(=O)CC[N+](C)(CC)CC)ccc1-2.[I-].[I-]', 'Cl.O=C(COc1ccccc1)N1CCN(CC(O)COc2ccccc2)CC1']\n",
    "data = pd.DataFrame(res, columns=['smiles'])\n",
    "features_generator = get_features_generator('allinone')"
   ]
  },
  {
   "cell_type": "code",
   "execution_count": 9,
   "id": "02b80fad-5c20-4a6d-beb3-d2e08b306774",
   "metadata": {},
   "outputs": [],
   "source": [
    "mapping = map(features_generator, data.smiles)"
   ]
  },
  {
   "cell_type": "code",
   "execution_count": 10,
   "id": "4ea8cc76-fb4a-4677-8314-26e14e307605",
   "metadata": {},
   "outputs": [
    {
     "name": "stderr",
     "output_type": "stream",
     "text": [
      "4it [00:00, 29.00it/s]                       "
     ]
    },
    {
     "name": "stdout",
     "output_type": "stream",
     "text": [
      "Cl.O=C1c2cc(CO)cc(O)c2C(=O)c2c1ccc(C1(C3O[C@H](CO)[C@@H](O)[C@H](O)[C@H]3O)c3cccc(O)c3C(=O)c3c(O)cc(CO)cc31)c2O\n",
      "['C1=CC=C2CC3=C(C=CC(C4(C5CCCCO5)C5=CC=CC=C5CC5=CC=CC=C54)=C3)CC2=C1', 'CO', 'CO', 'CO', 'O', 'O', 'O', 'O', 'O', 'O', 'O', 'O', 'O', 'O']\n",
      "\n",
      "\n",
      "CCCOc1ccccc1-c1nnc(NN)s1.Cl\n",
      "['CCC', 'C1=CC=C(C2=NN=CS2)C=C1', 'NN', 'O']\n",
      "\n",
      "\n",
      "CC[N+](C)(CC)CCC(=O)Nc1ccc2c(c1)C(=O)c1cc(NC(=O)CC[N+](C)(CC)CC)ccc1-2.[I-].[I-]\n",
      "['CC', 'CC', 'CC', 'C1=CC=C2C(=C1)CC1=CC=CC=C12', 'CC', 'CC', 'CC', 'C', 'N', 'C', 'N', '[NH4+]', '[NH4+]', 'O', 'C', 'O', 'O', 'C']\n",
      "\n",
      "\n",
      "Cl.O=C(COc1ccccc1)N1CCN(CC(O)COc2ccccc2)CC1\n",
      "['C1=CC=CC=C1', 'C1CNCCN1', 'C1=CC=CC=C1', 'C', 'O', 'C', 'O', 'C', 'C', 'O', 'C', 'O']\n",
      "\n",
      "\n"
     ]
    },
    {
     "name": "stderr",
     "output_type": "stream",
     "text": [
      "\n"
     ]
    }
   ],
   "source": [
    "smiles_list = []\n",
    "smiles_full_list = []\n",
    "features_list = []\n",
    "moltree_list = []\n",
    "cliques = []\n",
    "for i, output in tqdm(enumerate(mapping), total=1):\n",
    "    print(f'{output[0]}\\n{output[2]}\\n\\n')\n",
    "    smiles_list.append(output[0])\n",
    "    smiles_full_list.append(output[0])\n",
    "    features_list.append(output[1])\n",
    "    cliques.append(output[2])\n",
    "    moltree_list.append(output[3])"
   ]
  },
  {
   "cell_type": "code",
   "execution_count": 51,
   "id": "3b4989c2-04f1-41a5-ba18-f85faf67762b",
   "metadata": {},
   "outputs": [
    {
     "name": "stdout",
     "output_type": "stream",
     "text": [
      "molecular : Cl.O=C1c2cc(CO)cc(O)c2C(=O)c2c1ccc(C1(C3O[C@H](CO)[C@@H](O)[C@H](O)[C@H]3O)c3cccc(O)c3C(=O)c3c(O)cc(CO)cc31)c2O\n",
      "molecular : Cl.O=C1c2cc(CO)cc(O)c2C(=O)c2c1ccc(C1(C3O[C@H](CO)[C@@H](O)[C@H](O)[C@H]3O)c3cccc(O)c3C(=O)c3c(O)cc(CO)cc31)c2O, 0node : C1=CC=C2CC3=C(C=CC(C4(C5CCCCO5)C5=CC=CC=C5CC5=CC=CC=C54)=C3)CC2=C1\n",
      "0node, 0neighbor : CO\n",
      "0node, 1neighbor : O\n",
      "0node, 2neighbor : CO\n",
      "0node, 3neighbor : O\n",
      "0node, 4neighbor : O\n",
      "0node, 5neighbor : O\n",
      "0node, 6neighbor : O\n",
      "0node, 7neighbor : O\n",
      "0node, 8neighbor : O\n",
      "0node, 9neighbor : O\n",
      "0node, 10neighbor : O\n",
      "0node, 11neighbor : CO\n",
      "0node, 12neighbor : O\n",
      "molecular : Cl.O=C1c2cc(CO)cc(O)c2C(=O)c2c1ccc(C1(C3O[C@H](CO)[C@@H](O)[C@H](O)[C@H]3O)c3cccc(O)c3C(=O)c3c(O)cc(CO)cc31)c2O, 1node : CO\n",
      "1node, 0neighbor : C1=CC=C2CC3=C(C=CC(C4(C5CCCCO5)C5=CC=CC=C5CC5=CC=CC=C54)=C3)CC2=C1\n",
      "molecular : Cl.O=C1c2cc(CO)cc(O)c2C(=O)c2c1ccc(C1(C3O[C@H](CO)[C@@H](O)[C@H](O)[C@H]3O)c3cccc(O)c3C(=O)c3c(O)cc(CO)cc31)c2O, 2node : CO\n",
      "2node, 0neighbor : C1=CC=C2CC3=C(C=CC(C4(C5CCCCO5)C5=CC=CC=C5CC5=CC=CC=C54)=C3)CC2=C1\n",
      "molecular : Cl.O=C1c2cc(CO)cc(O)c2C(=O)c2c1ccc(C1(C3O[C@H](CO)[C@@H](O)[C@H](O)[C@H]3O)c3cccc(O)c3C(=O)c3c(O)cc(CO)cc31)c2O, 3node : CO\n",
      "3node, 0neighbor : C1=CC=C2CC3=C(C=CC(C4(C5CCCCO5)C5=CC=CC=C5CC5=CC=CC=C54)=C3)CC2=C1\n",
      "molecular : Cl.O=C1c2cc(CO)cc(O)c2C(=O)c2c1ccc(C1(C3O[C@H](CO)[C@@H](O)[C@H](O)[C@H]3O)c3cccc(O)c3C(=O)c3c(O)cc(CO)cc31)c2O, 4node : O\n",
      "4node, 0neighbor : C1=CC=C2CC3=C(C=CC(C4(C5CCCCO5)C5=CC=CC=C5CC5=CC=CC=C54)=C3)CC2=C1\n",
      "molecular : Cl.O=C1c2cc(CO)cc(O)c2C(=O)c2c1ccc(C1(C3O[C@H](CO)[C@@H](O)[C@H](O)[C@H]3O)c3cccc(O)c3C(=O)c3c(O)cc(CO)cc31)c2O, 5node : O\n",
      "5node, 0neighbor : C1=CC=C2CC3=C(C=CC(C4(C5CCCCO5)C5=CC=CC=C5CC5=CC=CC=C54)=C3)CC2=C1\n",
      "molecular : Cl.O=C1c2cc(CO)cc(O)c2C(=O)c2c1ccc(C1(C3O[C@H](CO)[C@@H](O)[C@H](O)[C@H]3O)c3cccc(O)c3C(=O)c3c(O)cc(CO)cc31)c2O, 6node : O\n",
      "6node, 0neighbor : C1=CC=C2CC3=C(C=CC(C4(C5CCCCO5)C5=CC=CC=C5CC5=CC=CC=C54)=C3)CC2=C1\n",
      "molecular : Cl.O=C1c2cc(CO)cc(O)c2C(=O)c2c1ccc(C1(C3O[C@H](CO)[C@@H](O)[C@H](O)[C@H]3O)c3cccc(O)c3C(=O)c3c(O)cc(CO)cc31)c2O, 7node : O\n",
      "7node, 0neighbor : C1=CC=C2CC3=C(C=CC(C4(C5CCCCO5)C5=CC=CC=C5CC5=CC=CC=C54)=C3)CC2=C1\n",
      "molecular : Cl.O=C1c2cc(CO)cc(O)c2C(=O)c2c1ccc(C1(C3O[C@H](CO)[C@@H](O)[C@H](O)[C@H]3O)c3cccc(O)c3C(=O)c3c(O)cc(CO)cc31)c2O, 8node : O\n",
      "8node, 0neighbor : C1=CC=C2CC3=C(C=CC(C4(C5CCCCO5)C5=CC=CC=C5CC5=CC=CC=C54)=C3)CC2=C1\n",
      "molecular : Cl.O=C1c2cc(CO)cc(O)c2C(=O)c2c1ccc(C1(C3O[C@H](CO)[C@@H](O)[C@H](O)[C@H]3O)c3cccc(O)c3C(=O)c3c(O)cc(CO)cc31)c2O, 9node : O\n",
      "9node, 0neighbor : C1=CC=C2CC3=C(C=CC(C4(C5CCCCO5)C5=CC=CC=C5CC5=CC=CC=C54)=C3)CC2=C1\n",
      "molecular : Cl.O=C1c2cc(CO)cc(O)c2C(=O)c2c1ccc(C1(C3O[C@H](CO)[C@@H](O)[C@H](O)[C@H]3O)c3cccc(O)c3C(=O)c3c(O)cc(CO)cc31)c2O, 10node : O\n",
      "10node, 0neighbor : C1=CC=C2CC3=C(C=CC(C4(C5CCCCO5)C5=CC=CC=C5CC5=CC=CC=C54)=C3)CC2=C1\n",
      "molecular : Cl.O=C1c2cc(CO)cc(O)c2C(=O)c2c1ccc(C1(C3O[C@H](CO)[C@@H](O)[C@H](O)[C@H]3O)c3cccc(O)c3C(=O)c3c(O)cc(CO)cc31)c2O, 11node : O\n",
      "11node, 0neighbor : C1=CC=C2CC3=C(C=CC(C4(C5CCCCO5)C5=CC=CC=C5CC5=CC=CC=C54)=C3)CC2=C1\n",
      "molecular : Cl.O=C1c2cc(CO)cc(O)c2C(=O)c2c1ccc(C1(C3O[C@H](CO)[C@@H](O)[C@H](O)[C@H]3O)c3cccc(O)c3C(=O)c3c(O)cc(CO)cc31)c2O, 12node : O\n",
      "12node, 0neighbor : C1=CC=C2CC3=C(C=CC(C4(C5CCCCO5)C5=CC=CC=C5CC5=CC=CC=C54)=C3)CC2=C1\n",
      "molecular : Cl.O=C1c2cc(CO)cc(O)c2C(=O)c2c1ccc(C1(C3O[C@H](CO)[C@@H](O)[C@H](O)[C@H]3O)c3cccc(O)c3C(=O)c3c(O)cc(CO)cc31)c2O, 13node : O\n",
      "13node, 0neighbor : C1=CC=C2CC3=C(C=CC(C4(C5CCCCO5)C5=CC=CC=C5CC5=CC=CC=C54)=C3)CC2=C1\n",
      "\n",
      "molecular : CCCOc1ccccc1-c1nnc(NN)s1.Cl\n",
      "molecular : CCCOc1ccccc1-c1nnc(NN)s1.Cl, 0node : CCC\n",
      "0node, 0neighbor : O\n",
      "molecular : CCCOc1ccccc1-c1nnc(NN)s1.Cl, 1node : C1=CC=C(C2=NN=CS2)C=C1\n",
      "1node, 0neighbor : O\n",
      "1node, 1neighbor : NN\n",
      "molecular : CCCOc1ccccc1-c1nnc(NN)s1.Cl, 2node : NN\n",
      "2node, 0neighbor : C1=CC=C(C2=NN=CS2)C=C1\n",
      "molecular : CCCOc1ccccc1-c1nnc(NN)s1.Cl, 3node : O\n",
      "3node, 0neighbor : CCC\n",
      "3node, 1neighbor : C1=CC=C(C2=NN=CS2)C=C1\n",
      "\n",
      "molecular : CC[N+](C)(CC)CCC(=O)Nc1ccc2c(c1)C(=O)c1cc(NC(=O)CC[N+](C)(CC)CC)ccc1-2.[I-].[I-]\n",
      "molecular : CC[N+](C)(CC)CCC(=O)Nc1ccc2c(c1)C(=O)c1cc(NC(=O)CC[N+](C)(CC)CC)ccc1-2.[I-].[I-], 0node : CC\n",
      "0node, 0neighbor : [NH4+]\n",
      "molecular : CC[N+](C)(CC)CCC(=O)Nc1ccc2c(c1)C(=O)c1cc(NC(=O)CC[N+](C)(CC)CC)ccc1-2.[I-].[I-], 1node : CC\n",
      "1node, 0neighbor : [NH4+]\n",
      "molecular : CC[N+](C)(CC)CCC(=O)Nc1ccc2c(c1)C(=O)c1cc(NC(=O)CC[N+](C)(CC)CC)ccc1-2.[I-].[I-], 2node : CC\n",
      "2node, 0neighbor : [NH4+]\n",
      "2node, 1neighbor : C\n",
      "molecular : CC[N+](C)(CC)CCC(=O)Nc1ccc2c(c1)C(=O)c1cc(NC(=O)CC[N+](C)(CC)CC)ccc1-2.[I-].[I-], 3node : C1=CC=C2C(=C1)CC1=CC=CC=C12\n",
      "3node, 0neighbor : N\n",
      "3node, 1neighbor : O\n",
      "3node, 2neighbor : N\n",
      "molecular : CC[N+](C)(CC)CCC(=O)Nc1ccc2c(c1)C(=O)c1cc(NC(=O)CC[N+](C)(CC)CC)ccc1-2.[I-].[I-], 4node : CC\n",
      "4node, 0neighbor : [NH4+]\n",
      "4node, 1neighbor : C\n",
      "molecular : CC[N+](C)(CC)CCC(=O)Nc1ccc2c(c1)C(=O)c1cc(NC(=O)CC[N+](C)(CC)CC)ccc1-2.[I-].[I-], 5node : CC\n",
      "5node, 0neighbor : [NH4+]\n",
      "molecular : CC[N+](C)(CC)CCC(=O)Nc1ccc2c(c1)C(=O)c1cc(NC(=O)CC[N+](C)(CC)CC)ccc1-2.[I-].[I-], 6node : CC\n",
      "6node, 0neighbor : [NH4+]\n",
      "molecular : CC[N+](C)(CC)CCC(=O)Nc1ccc2c(c1)C(=O)c1cc(NC(=O)CC[N+](C)(CC)CC)ccc1-2.[I-].[I-], 7node : C\n",
      "7node, 0neighbor : N\n",
      "7node, 1neighbor : CC\n",
      "7node, 2neighbor : O\n",
      "molecular : CC[N+](C)(CC)CCC(=O)Nc1ccc2c(c1)C(=O)c1cc(NC(=O)CC[N+](C)(CC)CC)ccc1-2.[I-].[I-], 8node : N\n",
      "8node, 0neighbor : C\n",
      "8node, 1neighbor : C1=CC=C2C(=C1)CC1=CC=CC=C12\n",
      "molecular : CC[N+](C)(CC)CCC(=O)Nc1ccc2c(c1)C(=O)c1cc(NC(=O)CC[N+](C)(CC)CC)ccc1-2.[I-].[I-], 9node : C\n",
      "9node, 0neighbor : N\n",
      "9node, 1neighbor : O\n",
      "9node, 2neighbor : CC\n",
      "molecular : CC[N+](C)(CC)CCC(=O)Nc1ccc2c(c1)C(=O)c1cc(NC(=O)CC[N+](C)(CC)CC)ccc1-2.[I-].[I-], 10node : N\n",
      "10node, 0neighbor : C\n",
      "10node, 1neighbor : C1=CC=C2C(=C1)CC1=CC=CC=C12\n",
      "molecular : CC[N+](C)(CC)CCC(=O)Nc1ccc2c(c1)C(=O)c1cc(NC(=O)CC[N+](C)(CC)CC)ccc1-2.[I-].[I-], 11node : [NH4+]\n",
      "11node, 0neighbor : CC\n",
      "11node, 1neighbor : CC\n",
      "11node, 2neighbor : CC\n",
      "11node, 3neighbor : C\n",
      "molecular : CC[N+](C)(CC)CCC(=O)Nc1ccc2c(c1)C(=O)c1cc(NC(=O)CC[N+](C)(CC)CC)ccc1-2.[I-].[I-], 12node : [NH4+]\n",
      "12node, 0neighbor : CC\n",
      "12node, 1neighbor : CC\n",
      "12node, 2neighbor : CC\n",
      "12node, 3neighbor : C\n",
      "molecular : CC[N+](C)(CC)CCC(=O)Nc1ccc2c(c1)C(=O)c1cc(NC(=O)CC[N+](C)(CC)CC)ccc1-2.[I-].[I-], 13node : O\n",
      "13node, 0neighbor : C1=CC=C2C(=C1)CC1=CC=CC=C12\n",
      "molecular : CC[N+](C)(CC)CCC(=O)Nc1ccc2c(c1)C(=O)c1cc(NC(=O)CC[N+](C)(CC)CC)ccc1-2.[I-].[I-], 14node : C\n",
      "14node, 0neighbor : [NH4+]\n",
      "molecular : CC[N+](C)(CC)CCC(=O)Nc1ccc2c(c1)C(=O)c1cc(NC(=O)CC[N+](C)(CC)CC)ccc1-2.[I-].[I-], 15node : O\n",
      "15node, 0neighbor : C\n",
      "molecular : CC[N+](C)(CC)CCC(=O)Nc1ccc2c(c1)C(=O)c1cc(NC(=O)CC[N+](C)(CC)CC)ccc1-2.[I-].[I-], 16node : O\n",
      "16node, 0neighbor : C\n",
      "molecular : CC[N+](C)(CC)CCC(=O)Nc1ccc2c(c1)C(=O)c1cc(NC(=O)CC[N+](C)(CC)CC)ccc1-2.[I-].[I-], 17node : C\n",
      "17node, 0neighbor : [NH4+]\n",
      "\n",
      "molecular : Cl.O=C(COc1ccccc1)N1CCN(CC(O)COc2ccccc2)CC1\n",
      "molecular : Cl.O=C(COc1ccccc1)N1CCN(CC(O)COc2ccccc2)CC1, 0node : C1=CC=CC=C1\n",
      "0node, 0neighbor : O\n",
      "molecular : Cl.O=C(COc1ccccc1)N1CCN(CC(O)COc2ccccc2)CC1, 1node : C1CNCCN1\n",
      "1node, 0neighbor : C\n",
      "1node, 1neighbor : C\n",
      "molecular : Cl.O=C(COc1ccccc1)N1CCN(CC(O)COc2ccccc2)CC1, 2node : C1=CC=CC=C1\n",
      "2node, 0neighbor : O\n",
      "molecular : Cl.O=C(COc1ccccc1)N1CCN(CC(O)COc2ccccc2)CC1, 3node : C\n",
      "3node, 0neighbor : C1CNCCN1\n",
      "3node, 1neighbor : O\n",
      "3node, 2neighbor : C\n",
      "molecular : Cl.O=C(COc1ccccc1)N1CCN(CC(O)COc2ccccc2)CC1, 4node : O\n",
      "4node, 0neighbor : C\n",
      "4node, 1neighbor : C1=CC=CC=C1\n",
      "molecular : Cl.O=C(COc1ccccc1)N1CCN(CC(O)COc2ccccc2)CC1, 5node : C\n",
      "5node, 0neighbor : O\n",
      "5node, 1neighbor : C\n",
      "molecular : Cl.O=C(COc1ccccc1)N1CCN(CC(O)COc2ccccc2)CC1, 6node : O\n",
      "6node, 0neighbor : C\n",
      "6node, 1neighbor : C1=CC=CC=C1\n",
      "molecular : Cl.O=C(COc1ccccc1)N1CCN(CC(O)COc2ccccc2)CC1, 7node : C\n",
      "7node, 0neighbor : O\n",
      "7node, 1neighbor : C\n",
      "molecular : Cl.O=C(COc1ccccc1)N1CCN(CC(O)COc2ccccc2)CC1, 8node : C\n",
      "8node, 0neighbor : C1CNCCN1\n",
      "8node, 1neighbor : C\n",
      "molecular : Cl.O=C(COc1ccccc1)N1CCN(CC(O)COc2ccccc2)CC1, 9node : O\n",
      "9node, 0neighbor : C\n",
      "molecular : Cl.O=C(COc1ccccc1)N1CCN(CC(O)COc2ccccc2)CC1, 10node : C\n",
      "10node, 0neighbor : C\n",
      "10node, 1neighbor : O\n",
      "10node, 2neighbor : C\n",
      "molecular : Cl.O=C(COc1ccccc1)N1CCN(CC(O)COc2ccccc2)CC1, 11node : O\n",
      "11node, 0neighbor : C\n",
      "\n"
     ]
    }
   ],
   "source": [
    "for i in range(len(moltree_list)):\n",
    "    print(f'molecular : {moltree_list[i].smiles}')\n",
    "    for j in range(len(moltree_list[i].nodes)):\n",
    "        print(f'molecular : {moltree_list[i].smiles}, {j}node : {moltree_list[i].nodes[j].smiles}')\n",
    "        for k in range(len(moltree_list[i].nodes[j].neighbors)):\n",
    "            print(f'{j}node, {k}neighbor : {moltree_list[i].nodes[j].neighbors[k].smiles}')\n",
    "    print('')    "
   ]
  },
  {
   "cell_type": "code",
   "execution_count": null,
   "id": "6005cea2-eba4-4a17-8634-8b39ea801685",
   "metadata": {},
   "outputs": [],
   "source": []
  }
 ],
 "metadata": {
  "kernelspec": {
   "display_name": "Python 3",
   "language": "python",
   "name": "python3"
  },
  "language_info": {
   "codemirror_mode": {
    "name": "ipython",
    "version": 3
   },
   "file_extension": ".py",
   "mimetype": "text/x-python",
   "name": "python",
   "nbconvert_exporter": "python",
   "pygments_lexer": "ipython3",
   "version": "3.7.9"
  }
 },
 "nbformat": 4,
 "nbformat_minor": 5
}
