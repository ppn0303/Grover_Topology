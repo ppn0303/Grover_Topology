{
 "cells": [
  {
   "cell_type": "code",
   "execution_count": 7,
   "id": "7828db57-4b6a-4c7f-8fb8-c37897fe4505",
   "metadata": {},
   "outputs": [],
   "source": [
    "import torch\n",
    "from collections import OrderedDict"
   ]
  },
  {
   "cell_type": "code",
   "execution_count": 23,
   "id": "e41594e8-3f34-40fb-8351-0ae6746389d9",
   "metadata": {},
   "outputs": [],
   "source": [
    "model = torch.load('grover_250K_origin.pt')"
   ]
  },
  {
   "cell_type": "code",
   "execution_count": 24,
   "id": "3123cf0e-4c7d-4d22-936c-015b7bf63bc6",
   "metadata": {},
   "outputs": [],
   "source": [
    "state = model[\"state_dict\"]\n",
    "new_state_dict = OrderedDict()\n",
    "for n, v in state.items():\n",
    "    name = n.replace(\"module.\",\"\")\n",
    "    new_state_dict[name] = v\n"
   ]
  },
  {
   "cell_type": "code",
   "execution_count": 21,
   "id": "9d09fe76-fc51-4543-91be-36afbc2f35ed",
   "metadata": {},
   "outputs": [],
   "source": [
    "model[\"state_dict\"] = new_state_dict"
   ]
  },
  {
   "cell_type": "code",
   "execution_count": 28,
   "id": "28c76b65-fa63-4a5a-a7b7-07024e705188",
   "metadata": {},
   "outputs": [],
   "source": [
    "torch.save(model, 'grover_250K.pt')"
   ]
  },
  {
   "cell_type": "code",
   "execution_count": null,
   "id": "1515e86d-80a8-4be3-9bac-2a08c9c2dc95",
   "metadata": {},
   "outputs": [],
   "source": []
  }
 ],
 "metadata": {
  "kernelspec": {
   "display_name": "Python 3",
   "language": "python",
   "name": "python3"
  },
  "language_info": {
   "codemirror_mode": {
    "name": "ipython",
    "version": 3
   },
   "file_extension": ".py",
   "mimetype": "text/x-python",
   "name": "python",
   "nbconvert_exporter": "python",
   "pygments_lexer": "ipython3",
   "version": "3.7.9"
  }
 },
 "nbformat": 4,
 "nbformat_minor": 5
}
